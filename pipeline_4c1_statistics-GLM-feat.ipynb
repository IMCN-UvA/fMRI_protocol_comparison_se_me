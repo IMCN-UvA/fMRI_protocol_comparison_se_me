{
 "cells": [
  {
   "cell_type": "markdown",
   "metadata": {},
   "source": [
    "# How this notebook works\n",
    "\n",
    "We run FEAT repeatedly for the first-level analyses (one per run), the second-level analyses (across runs per session per subject), and the third-level analyses (per run, across subjects).\n",
    "\n",
    "To do so, we create:\n",
    "1. EV files that FEAT understands for the events of interest and motion parameters (unconvolved)\n",
    "2. 4D niftis that are brain masked and header-corrected to ensure FSL understands they have a TR of 3\n",
    "3. Manually create 1 .fsf-file using the FSL GUI (for a single run of a single sub of a single session)\n",
    "4. Use this .fsf-file as a template, and generate .fsf-files for each unique run\n",
    "5. Run the first-levels\n",
    "6. Manually create 1 .fsf-file using the FSL GUI again (for fixed effects analysis of single session)\n",
    "7. Use this .fsf-file as a template, and generate .fsf-files for each FE analysis\n",
    "8. Run the second-levels\n",
    "9. Manually create 1 .fsf-file using the FSL GUI again (for FLAME-1 random effects analysis of all subjects across a single session)\n",
    "10. Use this .fsf-file as a template, and generate .fsf-files for each FE analysis\n",
    "11. Run the third-levels\n",
    "\n",
    "We do this for \"sessions\": Single echo, multi echo, echo-1, echo-2, echo-3 (the latter three are not sessions but treating them as such is slightly easier for coding)\n",
    "\n",
    "We repeat the first-levels and second-levels for both FWHM=0 and FWHM=5 mm.\n",
    "\n",
    "In a folder `./feat_files`, we store every .fsf-file. Using this notebook, we can call the first-levels and third-levels with a multiprocess pool. Weirdly, this does not work for the fixed effects (no idea why), so we generate a batch-script to run those.\n",
    "\n",
    "All manually created .fsf-files are:\n",
    "- `./feat_files/sub-01/ses-se/run-1/fwhm-5/design.fsf`\n",
    "- `./feat_files/sub-01/ses-se_fe/fwhm-5/design.fsf`\n",
    "- `./feat_files/ses-se_flame1/fwhm-5/cope1/design.fsf`"
   ]
  },
  {
   "cell_type": "code",
   "execution_count": 24,
   "metadata": {},
   "outputs": [],
   "source": [
    "import pandas as pd\n",
    "import numpy as np\n",
    "import glob\n",
    "\n",
    "# for masking\n",
    "from nilearn.input_data import NiftiMasker\n",
    "import nibabel as nib\n",
    "import itertools\n",
    "import multiprocessing as mp\n",
    "\n",
    "import os\n",
    "import shutil"
   ]
  },
  {
   "cell_type": "markdown",
   "metadata": {},
   "source": [
    "## 1. Create EV-files\n",
    "\n",
    "A. ev-files with actual events, 3-column format. Will be convolved, temporal derivative will be included"
   ]
  },
  {
   "cell_type": "code",
   "execution_count": 49,
   "metadata": {},
   "outputs": [],
   "source": [
    "def make_ev_files(sub, ses, run, evs=('go_trial', 'failed_stop', 'successful_stop')):\n",
    "    if 'echo' in ses:\n",
    "        ses_ = 'me'\n",
    "    else:\n",
    "        ses_ = ses\n",
    "        \n",
    "    fn = './data/deriv/fmriprep/sub-{sub}/ses-{ses}/func/sub-{sub}_ses-{ses}_task-stop_run-{run}_events.tsv'.format(**{'sub':sub, 'ses':ses_, 'run':run})\n",
    "    output_dir = './data/feat_files/sub-{sub}/ses-{ses}/run-{run}/evs/'.format(**{'sub':sub, 'ses':ses, 'run':run})\n",
    "    if not os.path.exists(output_dir):\n",
    "        os.makedirs(output_dir)\n",
    "\n",
    "    events = pd.read_csv(fn, sep='\\t')\n",
    "    \n",
    "    # remove go/failed stop trials with RT > 1\n",
    "    # 'response_time' is in time relative to run onset; 'rt' is relative to stimulus onset\n",
    "    events['rt'] = events['response_time'] - events['onset']\n",
    "    events = events.loc[~((events['rt'] > 1) & (events['trial_type'] != 'successful_stop'))]\n",
    "\n",
    "    events['weight'] = 1.\n",
    "    events['onset'] -= 1.5  # slice timing correction\n",
    "\n",
    "    for i, ev in enumerate(evs):\n",
    "        events.loc[events['trial_type']==ev, ['onset', 'duration', 'weight']].to_csv(output_dir+'{}.txt'.format(ev), sep='\\t', index=False, header=False)\n",
    "\n",
    "subjects = np.arange(1, 19)\n",
    "# sessions = ['se', 'me']\n",
    "sessions = ['echo-1', 'echo-2', 'echo-3']\n",
    "runs = [1,2,3]\n",
    "\n",
    "for sub in subjects:\n",
    "    for ses in sessions:\n",
    "        if sub == 12 and not ses == 'se':\n",
    "            continue\n",
    "            \n",
    "        for run in runs:\n",
    "            if sub == 17 and run == 3:\n",
    "                continue\n",
    "            make_ev_files(str(sub).zfill(2), ses, run)"
   ]
  },
  {
   "cell_type": "markdown",
   "metadata": {},
   "source": [
    "B. ev-files with motion parameters that will not be convolved"
   ]
  },
  {
   "cell_type": "code",
   "execution_count": 27,
   "metadata": {},
   "outputs": [],
   "source": [
    "def make_motion_ev_files(sub, ses, run, evs=('trans_x', 'trans_y', 'trans_z', 'rot_x', 'rot_y', 'rot_z', 'framewise_displacement')):\n",
    "\n",
    "    output_dir = './data/feat_files/sub-{sub}/ses-{ses}/run-{run}/evs/'.format(**{'sub':sub, 'ses':ses, 'run':run})\n",
    "    if not os.path.exists(output_dir):\n",
    "        os.makedirs(output_dir, exist_ok=True)\n",
    "\n",
    "    if ses == 'se':\n",
    "        fn = './data/deriv/fmriprep/sub-{sub}/ses-se/func/sub-{sub}_ses-se_task-stop_run-{run}_desc-confounds_regressors.tsv'.format(**{'sub':sub, 'run':run})\n",
    "    else:\n",
    "        fn = './data/deriv/fmriprep/sub-{sub}/ses-me/func/sub-{sub}_ses-me_task-stop_run-{run}_echo-1_desc-confounds_regressors.tsv'.format(**{'sub':sub, 'run':run})\n",
    "\n",
    "    events = pd.read_csv(fn, sep='\\t')\n",
    "\n",
    "    for i, ev in enumerate(evs):\n",
    "        events[ev].fillna(0).to_csv(output_dir+'{}.txt'.format(ev), sep='\\t', index=False, header=False)\n",
    "    \n",
    "subjects = np.arange(1, 19)\n",
    "# sessions = ['se', 'me']\n",
    "sessions = ['echo-1', 'echo-2', 'echo-3']\n",
    "runs = [1,2,3]\n",
    "\n",
    "for sub in subjects:\n",
    "    for ses in sessions:\n",
    "        if sub == 12 and not ses == 'se':\n",
    "            continue\n",
    "            \n",
    "        for run in runs:\n",
    "            if sub == 17 and run == 3:\n",
    "                continue\n",
    "            make_motion_ev_files(str(sub).zfill(2), ses, run)"
   ]
  },
  {
   "cell_type": "markdown",
   "metadata": {},
   "source": [
    "## 2. Apply brain mask to data & Correct headers\n",
    "The single echo data has not been masked yet.\n",
    "\n",
    "For some reason, FSL wrongly believes the func data files have a TR of 1. This needs to be corrected. We can use FSLmerge for this."
   ]
  },
  {
   "cell_type": "code",
   "execution_count": 37,
   "metadata": {
    "scrolled": true
   },
   "outputs": [
    {
     "name": "stdout",
     "output_type": "stream",
     "text": [
      "./data/deriv/fmriprep/sub-01/ses-se/func/sub-01_ses-se_task-stop_run-1_space-MNI152NLin2009cAsym_desc-preproc-hp_bold.nii.gz\n",
      "./data/deriv/fmriprep/sub-01/ses-me/func/sub-01_ses-me_task-stop_run-1_space-MNI152NLin2009cAsym_desc-preproc-hp-optcomb_bold.nii.gz\n",
      "./data/deriv/fmriprep/sub-02/ses-se/func/sub-02_ses-se_task-stop_run-1_space-MNI152NLin2009cAsym_desc-preproc-hp_bold.nii.gz\n",
      "./data/deriv/fmriprep/sub-02/ses-me/func/sub-02_ses-me_task-stop_run-1_space-MNI152NLin2009cAsym_desc-preproc-hp-optcomb_bold.nii.gz\n",
      "./data/deriv/fmriprep/sub-04/ses-me/func/sub-04_ses-me_task-stop_run-1_space-MNI152NLin2009cAsym_desc-preproc-hp-optcomb_bold.nii.gz\n",
      "./data/deriv/fmriprep/sub-03/ses-se/func/sub-03_ses-se_task-stop_run-1_space-MNI152NLin2009cAsym_desc-preproc-hp_bold.nii.gz\n",
      "./data/deriv/fmriprep/sub-03/ses-me/func/sub-03_ses-me_task-stop_run-1_space-MNI152NLin2009cAsym_desc-preproc-hp-optcomb_bold.nii.gz\n",
      "./data/deriv/fmriprep/sub-05/ses-me/func/sub-05_ses-me_task-stop_run-1_space-MNI152NLin2009cAsym_desc-preproc-hp-optcomb_bold.nii.gz\n"
     ]
    },
    {
     "name": "stderr",
     "output_type": "stream",
     "text": [
      "/home/stevenm/.conda/envs/python3/lib/python3.6/site-packages/numpy/lib/type_check.py:546: DeprecationWarning: np.asscalar(a) is deprecated since NumPy v1.16, use a.item() instead\n",
      "  'a.item() instead', DeprecationWarning, stacklevel=1)\n"
     ]
    },
    {
     "name": "stdout",
     "output_type": "stream",
     "text": [
      "./data/deriv/fmriprep/sub-05/ses-se/func/sub-05_ses-se_task-stop_run-1_space-MNI152NLin2009cAsym_desc-preproc-hp_bold.nii.gz\n",
      "./data/deriv/fmriprep/sub-04/ses-se/func/sub-04_ses-se_task-stop_run-1_space-MNI152NLin2009cAsym_desc-preproc-hp_bold.nii.gz\n"
     ]
    },
    {
     "name": "stderr",
     "output_type": "stream",
     "text": [
      "/home/stevenm/.conda/envs/python3/lib/python3.6/site-packages/numpy/lib/type_check.py:546: DeprecationWarning: np.asscalar(a) is deprecated since NumPy v1.16, use a.item() instead\n",
      "  'a.item() instead', DeprecationWarning, stacklevel=1)\n",
      "/home/stevenm/.conda/envs/python3/lib/python3.6/site-packages/numpy/lib/type_check.py:546: DeprecationWarning: np.asscalar(a) is deprecated since NumPy v1.16, use a.item() instead\n",
      "  'a.item() instead', DeprecationWarning, stacklevel=1)\n",
      "/home/stevenm/.conda/envs/python3/lib/python3.6/site-packages/numpy/lib/type_check.py:546: DeprecationWarning: np.asscalar(a) is deprecated since NumPy v1.16, use a.item() instead\n",
      "  'a.item() instead', DeprecationWarning, stacklevel=1)\n",
      "/home/stevenm/.conda/envs/python3/lib/python3.6/site-packages/numpy/lib/type_check.py:546: DeprecationWarning: np.asscalar(a) is deprecated since NumPy v1.16, use a.item() instead\n",
      "  'a.item() instead', DeprecationWarning, stacklevel=1)\n",
      "/home/stevenm/.conda/envs/python3/lib/python3.6/site-packages/numpy/lib/type_check.py:546: DeprecationWarning: np.asscalar(a) is deprecated since NumPy v1.16, use a.item() instead\n",
      "  'a.item() instead', DeprecationWarning, stacklevel=1)\n",
      "/home/stevenm/.conda/envs/python3/lib/python3.6/site-packages/numpy/lib/type_check.py:546: DeprecationWarning: np.asscalar(a) is deprecated since NumPy v1.16, use a.item() instead\n",
      "  'a.item() instead', DeprecationWarning, stacklevel=1)\n",
      "/home/stevenm/.conda/envs/python3/lib/python3.6/site-packages/numpy/lib/type_check.py:546: DeprecationWarning: np.asscalar(a) is deprecated since NumPy v1.16, use a.item() instead\n",
      "  'a.item() instead', DeprecationWarning, stacklevel=1)\n",
      "/home/stevenm/.conda/envs/python3/lib/python3.6/site-packages/numpy/lib/type_check.py:546: DeprecationWarning: np.asscalar(a) is deprecated since NumPy v1.16, use a.item() instead\n",
      "  'a.item() instead', DeprecationWarning, stacklevel=1)\n",
      "/home/stevenm/.conda/envs/python3/lib/python3.6/site-packages/numpy/lib/type_check.py:546: DeprecationWarning: np.asscalar(a) is deprecated since NumPy v1.16, use a.item() instead\n",
      "  'a.item() instead', DeprecationWarning, stacklevel=1)\n",
      "/home/stevenm/.conda/envs/python3/lib/python3.6/site-packages/nilearn/_utils/cache_mixin.py:232: DeprecationWarning: The 'cachedir' attribute has been deprecated in version 0.12 and will be removed in version 0.14.\n",
      "Use os.path.join(memory.location, 'joblib') attribute instead.\n",
      "  if (memory.cachedir is None and memory_level is not None\n",
      "/home/stevenm/.conda/envs/python3/lib/python3.6/site-packages/nilearn/_utils/cache_mixin.py:232: DeprecationWarning: The 'cachedir' attribute has been deprecated in version 0.12 and will be removed in version 0.14.\n",
      "Use os.path.join(memory.location, 'joblib') attribute instead.\n",
      "  if (memory.cachedir is None and memory_level is not None\n",
      "/home/stevenm/.conda/envs/python3/lib/python3.6/site-packages/nilearn/_utils/cache_mixin.py:232: DeprecationWarning: The 'cachedir' attribute has been deprecated in version 0.12 and will be removed in version 0.14.\n",
      "Use os.path.join(memory.location, 'joblib') attribute instead.\n",
      "  if (memory.cachedir is None and memory_level is not None\n",
      "/home/stevenm/.conda/envs/python3/lib/python3.6/site-packages/nilearn/_utils/cache_mixin.py:232: DeprecationWarning: The 'cachedir' attribute has been deprecated in version 0.12 and will be removed in version 0.14.\n",
      "Use os.path.join(memory.location, 'joblib') attribute instead.\n",
      "  if (memory.cachedir is None and memory_level is not None\n",
      "/home/stevenm/.conda/envs/python3/lib/python3.6/site-packages/nilearn/_utils/cache_mixin.py:232: DeprecationWarning: The 'cachedir' attribute has been deprecated in version 0.12 and will be removed in version 0.14.\n",
      "Use os.path.join(memory.location, 'joblib') attribute instead.\n",
      "  if (memory.cachedir is None and memory_level is not None\n",
      "/home/stevenm/.conda/envs/python3/lib/python3.6/site-packages/nilearn/_utils/cache_mixin.py:232: DeprecationWarning: The 'cachedir' attribute has been deprecated in version 0.12 and will be removed in version 0.14.\n",
      "Use os.path.join(memory.location, 'joblib') attribute instead.\n",
      "  if (memory.cachedir is None and memory_level is not None\n",
      "/home/stevenm/.conda/envs/python3/lib/python3.6/site-packages/nilearn/_utils/cache_mixin.py:232: DeprecationWarning: The 'cachedir' attribute has been deprecated in version 0.12 and will be removed in version 0.14.\n",
      "Use os.path.join(memory.location, 'joblib') attribute instead.\n",
      "  if (memory.cachedir is None and memory_level is not None\n",
      "/home/stevenm/.conda/envs/python3/lib/python3.6/site-packages/nilearn/_utils/cache_mixin.py:232: DeprecationWarning: The 'cachedir' attribute has been deprecated in version 0.12 and will be removed in version 0.14.\n",
      "Use os.path.join(memory.location, 'joblib') attribute instead.\n",
      "  if (memory.cachedir is None and memory_level is not None\n",
      "/home/stevenm/.conda/envs/python3/lib/python3.6/site-packages/nilearn/_utils/cache_mixin.py:232: DeprecationWarning: The 'cachedir' attribute has been deprecated in version 0.12 and will be removed in version 0.14.\n",
      "Use os.path.join(memory.location, 'joblib') attribute instead.\n",
      "  if (memory.cachedir is None and memory_level is not None\n",
      "/home/stevenm/.conda/envs/python3/lib/python3.6/site-packages/nilearn/_utils/cache_mixin.py:232: DeprecationWarning: The 'cachedir' attribute has been deprecated in version 0.12 and will be removed in version 0.14.\n",
      "Use os.path.join(memory.location, 'joblib') attribute instead.\n",
      "  if (memory.cachedir is None and memory_level is not None\n"
     ]
    },
    {
     "name": "stdout",
     "output_type": "stream",
     "text": [
      "./data/deriv/fmriprep/sub-01/ses-me/func/sub-01_ses-me_task-stop_run-2_space-MNI152NLin2009cAsym_desc-preproc-hp-optcomb_bold.nii.gz\n"
     ]
    },
    {
     "name": "stderr",
     "output_type": "stream",
     "text": [
      "/home/stevenm/.conda/envs/python3/lib/python3.6/site-packages/numpy/lib/type_check.py:546: DeprecationWarning: np.asscalar(a) is deprecated since NumPy v1.16, use a.item() instead\n",
      "  'a.item() instead', DeprecationWarning, stacklevel=1)\n",
      "/home/stevenm/.conda/envs/python3/lib/python3.6/site-packages/nilearn/_utils/cache_mixin.py:232: DeprecationWarning: The 'cachedir' attribute has been deprecated in version 0.12 and will be removed in version 0.14.\n",
      "Use os.path.join(memory.location, 'joblib') attribute instead.\n",
      "  if (memory.cachedir is None and memory_level is not None\n"
     ]
    },
    {
     "name": "stdout",
     "output_type": "stream",
     "text": [
      "./data/deriv/fmriprep/sub-03/ses-me/func/sub-03_ses-me_task-stop_run-2_space-MNI152NLin2009cAsym_desc-preproc-hp-optcomb_bold.nii.gz\n"
     ]
    },
    {
     "name": "stderr",
     "output_type": "stream",
     "text": [
      "/home/stevenm/.conda/envs/python3/lib/python3.6/site-packages/numpy/lib/type_check.py:546: DeprecationWarning: np.asscalar(a) is deprecated since NumPy v1.16, use a.item() instead\n",
      "  'a.item() instead', DeprecationWarning, stacklevel=1)\n",
      "/home/stevenm/.conda/envs/python3/lib/python3.6/site-packages/nilearn/_utils/cache_mixin.py:232: DeprecationWarning: The 'cachedir' attribute has been deprecated in version 0.12 and will be removed in version 0.14.\n",
      "Use os.path.join(memory.location, 'joblib') attribute instead.\n",
      "  if (memory.cachedir is None and memory_level is not None\n"
     ]
    },
    {
     "name": "stdout",
     "output_type": "stream",
     "text": [
      "./data/deriv/fmriprep/sub-05/ses-me/func/sub-05_ses-me_task-stop_run-2_space-MNI152NLin2009cAsym_desc-preproc-hp-optcomb_bold.nii.gz\n"
     ]
    },
    {
     "name": "stderr",
     "output_type": "stream",
     "text": [
      "/home/stevenm/.conda/envs/python3/lib/python3.6/site-packages/numpy/lib/type_check.py:546: DeprecationWarning: np.asscalar(a) is deprecated since NumPy v1.16, use a.item() instead\n",
      "  'a.item() instead', DeprecationWarning, stacklevel=1)\n",
      "/home/stevenm/.conda/envs/python3/lib/python3.6/site-packages/nilearn/_utils/cache_mixin.py:232: DeprecationWarning: The 'cachedir' attribute has been deprecated in version 0.12 and will be removed in version 0.14.\n",
      "Use os.path.join(memory.location, 'joblib') attribute instead.\n",
      "  if (memory.cachedir is None and memory_level is not None\n"
     ]
    },
    {
     "name": "stdout",
     "output_type": "stream",
     "text": [
      "./data/deriv/fmriprep/sub-04/ses-me/func/sub-04_ses-me_task-stop_run-2_space-MNI152NLin2009cAsym_desc-preproc-hp-optcomb_bold.nii.gz\n"
     ]
    },
    {
     "name": "stderr",
     "output_type": "stream",
     "text": [
      "/home/stevenm/.conda/envs/python3/lib/python3.6/site-packages/numpy/lib/type_check.py:546: DeprecationWarning: np.asscalar(a) is deprecated since NumPy v1.16, use a.item() instead\n",
      "  'a.item() instead', DeprecationWarning, stacklevel=1)\n",
      "/home/stevenm/.conda/envs/python3/lib/python3.6/site-packages/nilearn/_utils/cache_mixin.py:232: DeprecationWarning: The 'cachedir' attribute has been deprecated in version 0.12 and will be removed in version 0.14.\n",
      "Use os.path.join(memory.location, 'joblib') attribute instead.\n",
      "  if (memory.cachedir is None and memory_level is not None\n"
     ]
    },
    {
     "name": "stdout",
     "output_type": "stream",
     "text": [
      "./data/deriv/fmriprep/sub-01/ses-se/func/sub-01_ses-se_task-stop_run-2_space-MNI152NLin2009cAsym_desc-preproc-hp_bold.nii.gz\n"
     ]
    },
    {
     "name": "stderr",
     "output_type": "stream",
     "text": [
      "/home/stevenm/.conda/envs/python3/lib/python3.6/site-packages/numpy/lib/type_check.py:546: DeprecationWarning: np.asscalar(a) is deprecated since NumPy v1.16, use a.item() instead\n",
      "  'a.item() instead', DeprecationWarning, stacklevel=1)\n",
      "/home/stevenm/.conda/envs/python3/lib/python3.6/site-packages/nilearn/_utils/cache_mixin.py:232: DeprecationWarning: The 'cachedir' attribute has been deprecated in version 0.12 and will be removed in version 0.14.\n",
      "Use os.path.join(memory.location, 'joblib') attribute instead.\n",
      "  if (memory.cachedir is None and memory_level is not None\n"
     ]
    },
    {
     "name": "stdout",
     "output_type": "stream",
     "text": [
      "./data/deriv/fmriprep/sub-02/ses-me/func/sub-02_ses-me_task-stop_run-2_space-MNI152NLin2009cAsym_desc-preproc-hp-optcomb_bold.nii.gz\n"
     ]
    },
    {
     "name": "stderr",
     "output_type": "stream",
     "text": [
      "/home/stevenm/.conda/envs/python3/lib/python3.6/site-packages/numpy/lib/type_check.py:546: DeprecationWarning: np.asscalar(a) is deprecated since NumPy v1.16, use a.item() instead\n",
      "  'a.item() instead', DeprecationWarning, stacklevel=1)\n",
      "/home/stevenm/.conda/envs/python3/lib/python3.6/site-packages/nilearn/_utils/cache_mixin.py:232: DeprecationWarning: The 'cachedir' attribute has been deprecated in version 0.12 and will be removed in version 0.14.\n",
      "Use os.path.join(memory.location, 'joblib') attribute instead.\n",
      "  if (memory.cachedir is None and memory_level is not None\n"
     ]
    },
    {
     "name": "stdout",
     "output_type": "stream",
     "text": [
      "./data/deriv/fmriprep/sub-02/ses-se/func/sub-02_ses-se_task-stop_run-2_space-MNI152NLin2009cAsym_desc-preproc-hp_bold.nii.gz\n"
     ]
    },
    {
     "name": "stderr",
     "output_type": "stream",
     "text": [
      "/home/stevenm/.conda/envs/python3/lib/python3.6/site-packages/numpy/lib/type_check.py:546: DeprecationWarning: np.asscalar(a) is deprecated since NumPy v1.16, use a.item() instead\n",
      "  'a.item() instead', DeprecationWarning, stacklevel=1)\n",
      "/home/stevenm/.conda/envs/python3/lib/python3.6/site-packages/nilearn/_utils/cache_mixin.py:232: DeprecationWarning: The 'cachedir' attribute has been deprecated in version 0.12 and will be removed in version 0.14.\n",
      "Use os.path.join(memory.location, 'joblib') attribute instead.\n",
      "  if (memory.cachedir is None and memory_level is not None\n"
     ]
    },
    {
     "name": "stdout",
     "output_type": "stream",
     "text": [
      "./data/deriv/fmriprep/sub-03/ses-se/func/sub-03_ses-se_task-stop_run-2_space-MNI152NLin2009cAsym_desc-preproc-hp_bold.nii.gz\n"
     ]
    },
    {
     "name": "stderr",
     "output_type": "stream",
     "text": [
      "/home/stevenm/.conda/envs/python3/lib/python3.6/site-packages/numpy/lib/type_check.py:546: DeprecationWarning: np.asscalar(a) is deprecated since NumPy v1.16, use a.item() instead\n",
      "  'a.item() instead', DeprecationWarning, stacklevel=1)\n",
      "/home/stevenm/.conda/envs/python3/lib/python3.6/site-packages/nilearn/_utils/cache_mixin.py:232: DeprecationWarning: The 'cachedir' attribute has been deprecated in version 0.12 and will be removed in version 0.14.\n",
      "Use os.path.join(memory.location, 'joblib') attribute instead.\n",
      "  if (memory.cachedir is None and memory_level is not None\n"
     ]
    },
    {
     "name": "stdout",
     "output_type": "stream",
     "text": [
      "./data/deriv/fmriprep/sub-04/ses-se/func/sub-04_ses-se_task-stop_run-2_space-MNI152NLin2009cAsym_desc-preproc-hp_bold.nii.gz\n"
     ]
    },
    {
     "name": "stderr",
     "output_type": "stream",
     "text": [
      "/home/stevenm/.conda/envs/python3/lib/python3.6/site-packages/numpy/lib/type_check.py:546: DeprecationWarning: np.asscalar(a) is deprecated since NumPy v1.16, use a.item() instead\n",
      "  'a.item() instead', DeprecationWarning, stacklevel=1)\n",
      "/home/stevenm/.conda/envs/python3/lib/python3.6/site-packages/nilearn/_utils/cache_mixin.py:232: DeprecationWarning: The 'cachedir' attribute has been deprecated in version 0.12 and will be removed in version 0.14.\n",
      "Use os.path.join(memory.location, 'joblib') attribute instead.\n",
      "  if (memory.cachedir is None and memory_level is not None\n"
     ]
    },
    {
     "name": "stdout",
     "output_type": "stream",
     "text": [
      "./data/deriv/fmriprep/sub-05/ses-se/func/sub-05_ses-se_task-stop_run-2_space-MNI152NLin2009cAsym_desc-preproc-hp_bold.nii.gz\n"
     ]
    },
    {
     "name": "stderr",
     "output_type": "stream",
     "text": [
      "/home/stevenm/.conda/envs/python3/lib/python3.6/site-packages/numpy/lib/type_check.py:546: DeprecationWarning: np.asscalar(a) is deprecated since NumPy v1.16, use a.item() instead\n",
      "  'a.item() instead', DeprecationWarning, stacklevel=1)\n",
      "/home/stevenm/.conda/envs/python3/lib/python3.6/site-packages/nilearn/_utils/cache_mixin.py:232: DeprecationWarning: The 'cachedir' attribute has been deprecated in version 0.12 and will be removed in version 0.14.\n",
      "Use os.path.join(memory.location, 'joblib') attribute instead.\n",
      "  if (memory.cachedir is None and memory_level is not None\n"
     ]
    },
    {
     "name": "stdout",
     "output_type": "stream",
     "text": [
      "./data/deriv/fmriprep/sub-01/ses-me/func/sub-01_ses-me_task-stop_run-3_space-MNI152NLin2009cAsym_desc-preproc-hp-optcomb_bold.nii.gz\n"
     ]
    },
    {
     "name": "stderr",
     "output_type": "stream",
     "text": [
      "/home/stevenm/.conda/envs/python3/lib/python3.6/site-packages/numpy/lib/type_check.py:546: DeprecationWarning: np.asscalar(a) is deprecated since NumPy v1.16, use a.item() instead\n",
      "  'a.item() instead', DeprecationWarning, stacklevel=1)\n",
      "/home/stevenm/.conda/envs/python3/lib/python3.6/site-packages/nilearn/_utils/cache_mixin.py:232: DeprecationWarning: The 'cachedir' attribute has been deprecated in version 0.12 and will be removed in version 0.14.\n",
      "Use os.path.join(memory.location, 'joblib') attribute instead.\n",
      "  if (memory.cachedir is None and memory_level is not None\n"
     ]
    },
    {
     "name": "stdout",
     "output_type": "stream",
     "text": [
      "./data/deriv/fmriprep/sub-03/ses-me/func/sub-03_ses-me_task-stop_run-3_space-MNI152NLin2009cAsym_desc-preproc-hp-optcomb_bold.nii.gz\n"
     ]
    },
    {
     "name": "stderr",
     "output_type": "stream",
     "text": [
      "/home/stevenm/.conda/envs/python3/lib/python3.6/site-packages/numpy/lib/type_check.py:546: DeprecationWarning: np.asscalar(a) is deprecated since NumPy v1.16, use a.item() instead\n",
      "  'a.item() instead', DeprecationWarning, stacklevel=1)\n",
      "/home/stevenm/.conda/envs/python3/lib/python3.6/site-packages/nilearn/_utils/cache_mixin.py:232: DeprecationWarning: The 'cachedir' attribute has been deprecated in version 0.12 and will be removed in version 0.14.\n",
      "Use os.path.join(memory.location, 'joblib') attribute instead.\n",
      "  if (memory.cachedir is None and memory_level is not None\n"
     ]
    },
    {
     "name": "stdout",
     "output_type": "stream",
     "text": [
      "./data/deriv/fmriprep/sub-04/ses-me/func/sub-04_ses-me_task-stop_run-3_space-MNI152NLin2009cAsym_desc-preproc-hp-optcomb_bold.nii.gz\n"
     ]
    },
    {
     "name": "stderr",
     "output_type": "stream",
     "text": [
      "/home/stevenm/.conda/envs/python3/lib/python3.6/site-packages/numpy/lib/type_check.py:546: DeprecationWarning: np.asscalar(a) is deprecated since NumPy v1.16, use a.item() instead\n",
      "  'a.item() instead', DeprecationWarning, stacklevel=1)\n",
      "/home/stevenm/.conda/envs/python3/lib/python3.6/site-packages/nilearn/_utils/cache_mixin.py:232: DeprecationWarning: The 'cachedir' attribute has been deprecated in version 0.12 and will be removed in version 0.14.\n",
      "Use os.path.join(memory.location, 'joblib') attribute instead.\n",
      "  if (memory.cachedir is None and memory_level is not None\n"
     ]
    },
    {
     "name": "stdout",
     "output_type": "stream",
     "text": [
      "./data/deriv/fmriprep/sub-05/ses-me/func/sub-05_ses-me_task-stop_run-3_space-MNI152NLin2009cAsym_desc-preproc-hp-optcomb_bold.nii.gz\n"
     ]
    },
    {
     "name": "stderr",
     "output_type": "stream",
     "text": [
      "/home/stevenm/.conda/envs/python3/lib/python3.6/site-packages/numpy/lib/type_check.py:546: DeprecationWarning: np.asscalar(a) is deprecated since NumPy v1.16, use a.item() instead\n",
      "  'a.item() instead', DeprecationWarning, stacklevel=1)\n",
      "/home/stevenm/.conda/envs/python3/lib/python3.6/site-packages/nilearn/_utils/cache_mixin.py:232: DeprecationWarning: The 'cachedir' attribute has been deprecated in version 0.12 and will be removed in version 0.14.\n",
      "Use os.path.join(memory.location, 'joblib') attribute instead.\n",
      "  if (memory.cachedir is None and memory_level is not None\n"
     ]
    },
    {
     "name": "stdout",
     "output_type": "stream",
     "text": [
      "./data/deriv/fmriprep/sub-02/ses-me/func/sub-02_ses-me_task-stop_run-3_space-MNI152NLin2009cAsym_desc-preproc-hp-optcomb_bold.nii.gz\n"
     ]
    },
    {
     "name": "stderr",
     "output_type": "stream",
     "text": [
      "/home/stevenm/.conda/envs/python3/lib/python3.6/site-packages/numpy/lib/type_check.py:546: DeprecationWarning: np.asscalar(a) is deprecated since NumPy v1.16, use a.item() instead\n",
      "  'a.item() instead', DeprecationWarning, stacklevel=1)\n",
      "/home/stevenm/.conda/envs/python3/lib/python3.6/site-packages/nilearn/_utils/cache_mixin.py:232: DeprecationWarning: The 'cachedir' attribute has been deprecated in version 0.12 and will be removed in version 0.14.\n",
      "Use os.path.join(memory.location, 'joblib') attribute instead.\n",
      "  if (memory.cachedir is None and memory_level is not None\n"
     ]
    },
    {
     "name": "stdout",
     "output_type": "stream",
     "text": [
      "./data/deriv/fmriprep/sub-01/ses-se/func/sub-01_ses-se_task-stop_run-3_space-MNI152NLin2009cAsym_desc-preproc-hp_bold.nii.gz\n"
     ]
    },
    {
     "name": "stderr",
     "output_type": "stream",
     "text": [
      "/home/stevenm/.conda/envs/python3/lib/python3.6/site-packages/numpy/lib/type_check.py:546: DeprecationWarning: np.asscalar(a) is deprecated since NumPy v1.16, use a.item() instead\n",
      "  'a.item() instead', DeprecationWarning, stacklevel=1)\n",
      "/home/stevenm/.conda/envs/python3/lib/python3.6/site-packages/nilearn/_utils/cache_mixin.py:232: DeprecationWarning: The 'cachedir' attribute has been deprecated in version 0.12 and will be removed in version 0.14.\n",
      "Use os.path.join(memory.location, 'joblib') attribute instead.\n",
      "  if (memory.cachedir is None and memory_level is not None\n"
     ]
    },
    {
     "name": "stdout",
     "output_type": "stream",
     "text": [
      "./data/deriv/fmriprep/sub-03/ses-se/func/sub-03_ses-se_task-stop_run-3_space-MNI152NLin2009cAsym_desc-preproc-hp_bold.nii.gz\n"
     ]
    },
    {
     "name": "stderr",
     "output_type": "stream",
     "text": [
      "/home/stevenm/.conda/envs/python3/lib/python3.6/site-packages/numpy/lib/type_check.py:546: DeprecationWarning: np.asscalar(a) is deprecated since NumPy v1.16, use a.item() instead\n",
      "  'a.item() instead', DeprecationWarning, stacklevel=1)\n",
      "/home/stevenm/.conda/envs/python3/lib/python3.6/site-packages/nilearn/_utils/cache_mixin.py:232: DeprecationWarning: The 'cachedir' attribute has been deprecated in version 0.12 and will be removed in version 0.14.\n",
      "Use os.path.join(memory.location, 'joblib') attribute instead.\n",
      "  if (memory.cachedir is None and memory_level is not None\n"
     ]
    },
    {
     "name": "stdout",
     "output_type": "stream",
     "text": [
      "./data/deriv/fmriprep/sub-04/ses-se/func/sub-04_ses-se_task-stop_run-3_space-MNI152NLin2009cAsym_desc-preproc-hp_bold.nii.gz\n"
     ]
    },
    {
     "name": "stderr",
     "output_type": "stream",
     "text": [
      "/home/stevenm/.conda/envs/python3/lib/python3.6/site-packages/numpy/lib/type_check.py:546: DeprecationWarning: np.asscalar(a) is deprecated since NumPy v1.16, use a.item() instead\n",
      "  'a.item() instead', DeprecationWarning, stacklevel=1)\n",
      "/home/stevenm/.conda/envs/python3/lib/python3.6/site-packages/nilearn/_utils/cache_mixin.py:232: DeprecationWarning: The 'cachedir' attribute has been deprecated in version 0.12 and will be removed in version 0.14.\n",
      "Use os.path.join(memory.location, 'joblib') attribute instead.\n",
      "  if (memory.cachedir is None and memory_level is not None\n"
     ]
    },
    {
     "name": "stdout",
     "output_type": "stream",
     "text": [
      "./data/deriv/fmriprep/sub-02/ses-se/func/sub-02_ses-se_task-stop_run-3_space-MNI152NLin2009cAsym_desc-preproc-hp_bold.nii.gz\n"
     ]
    },
    {
     "name": "stderr",
     "output_type": "stream",
     "text": [
      "/home/stevenm/.conda/envs/python3/lib/python3.6/site-packages/numpy/lib/type_check.py:546: DeprecationWarning: np.asscalar(a) is deprecated since NumPy v1.16, use a.item() instead\n",
      "  'a.item() instead', DeprecationWarning, stacklevel=1)\n",
      "/home/stevenm/.conda/envs/python3/lib/python3.6/site-packages/nilearn/_utils/cache_mixin.py:232: DeprecationWarning: The 'cachedir' attribute has been deprecated in version 0.12 and will be removed in version 0.14.\n",
      "Use os.path.join(memory.location, 'joblib') attribute instead.\n",
      "  if (memory.cachedir is None and memory_level is not None\n"
     ]
    },
    {
     "name": "stdout",
     "output_type": "stream",
     "text": [
      "./data/deriv/fmriprep/sub-05/ses-se/func/sub-05_ses-se_task-stop_run-3_space-MNI152NLin2009cAsym_desc-preproc-hp_bold.nii.gz\n"
     ]
    },
    {
     "name": "stderr",
     "output_type": "stream",
     "text": [
      "/home/stevenm/.conda/envs/python3/lib/python3.6/site-packages/numpy/lib/type_check.py:546: DeprecationWarning: np.asscalar(a) is deprecated since NumPy v1.16, use a.item() instead\n",
      "  'a.item() instead', DeprecationWarning, stacklevel=1)\n",
      "/home/stevenm/.conda/envs/python3/lib/python3.6/site-packages/nilearn/_utils/cache_mixin.py:232: DeprecationWarning: The 'cachedir' attribute has been deprecated in version 0.12 and will be removed in version 0.14.\n",
      "Use os.path.join(memory.location, 'joblib') attribute instead.\n",
      "  if (memory.cachedir is None and memory_level is not None\n"
     ]
    },
    {
     "name": "stdout",
     "output_type": "stream",
     "text": [
      "./data/deriv/fmriprep/sub-06/ses-se/func/sub-06_ses-se_task-stop_run-1_space-MNI152NLin2009cAsym_desc-preproc-hp_bold.nii.gz\n"
     ]
    },
    {
     "name": "stderr",
     "output_type": "stream",
     "text": [
      "/home/stevenm/.conda/envs/python3/lib/python3.6/site-packages/numpy/lib/type_check.py:546: DeprecationWarning: np.asscalar(a) is deprecated since NumPy v1.16, use a.item() instead\n",
      "  'a.item() instead', DeprecationWarning, stacklevel=1)\n",
      "/home/stevenm/.conda/envs/python3/lib/python3.6/site-packages/nilearn/_utils/cache_mixin.py:232: DeprecationWarning: The 'cachedir' attribute has been deprecated in version 0.12 and will be removed in version 0.14.\n",
      "Use os.path.join(memory.location, 'joblib') attribute instead.\n",
      "  if (memory.cachedir is None and memory_level is not None\n"
     ]
    },
    {
     "name": "stdout",
     "output_type": "stream",
     "text": [
      "./data/deriv/fmriprep/sub-06/ses-me/func/sub-06_ses-me_task-stop_run-1_space-MNI152NLin2009cAsym_desc-preproc-hp-optcomb_bold.nii.gz\n"
     ]
    },
    {
     "name": "stderr",
     "output_type": "stream",
     "text": [
      "/home/stevenm/.conda/envs/python3/lib/python3.6/site-packages/numpy/lib/type_check.py:546: DeprecationWarning: np.asscalar(a) is deprecated since NumPy v1.16, use a.item() instead\n",
      "  'a.item() instead', DeprecationWarning, stacklevel=1)\n",
      "/home/stevenm/.conda/envs/python3/lib/python3.6/site-packages/nilearn/_utils/cache_mixin.py:232: DeprecationWarning: The 'cachedir' attribute has been deprecated in version 0.12 and will be removed in version 0.14.\n",
      "Use os.path.join(memory.location, 'joblib') attribute instead.\n",
      "  if (memory.cachedir is None and memory_level is not None\n"
     ]
    },
    {
     "name": "stdout",
     "output_type": "stream",
     "text": [
      "./data/deriv/fmriprep/sub-07/ses-se/func/sub-07_ses-se_task-stop_run-1_space-MNI152NLin2009cAsym_desc-preproc-hp_bold.nii.gz\n"
     ]
    },
    {
     "name": "stderr",
     "output_type": "stream",
     "text": [
      "/home/stevenm/.conda/envs/python3/lib/python3.6/site-packages/numpy/lib/type_check.py:546: DeprecationWarning: np.asscalar(a) is deprecated since NumPy v1.16, use a.item() instead\n",
      "  'a.item() instead', DeprecationWarning, stacklevel=1)\n",
      "/home/stevenm/.conda/envs/python3/lib/python3.6/site-packages/nilearn/_utils/cache_mixin.py:232: DeprecationWarning: The 'cachedir' attribute has been deprecated in version 0.12 and will be removed in version 0.14.\n",
      "Use os.path.join(memory.location, 'joblib') attribute instead.\n",
      "  if (memory.cachedir is None and memory_level is not None\n"
     ]
    },
    {
     "name": "stdout",
     "output_type": "stream",
     "text": [
      "./data/deriv/fmriprep/sub-07/ses-me/func/sub-07_ses-me_task-stop_run-1_space-MNI152NLin2009cAsym_desc-preproc-hp-optcomb_bold.nii.gz\n"
     ]
    },
    {
     "name": "stderr",
     "output_type": "stream",
     "text": [
      "/home/stevenm/.conda/envs/python3/lib/python3.6/site-packages/numpy/lib/type_check.py:546: DeprecationWarning: np.asscalar(a) is deprecated since NumPy v1.16, use a.item() instead\n",
      "  'a.item() instead', DeprecationWarning, stacklevel=1)\n",
      "/home/stevenm/.conda/envs/python3/lib/python3.6/site-packages/nilearn/_utils/cache_mixin.py:232: DeprecationWarning: The 'cachedir' attribute has been deprecated in version 0.12 and will be removed in version 0.14.\n",
      "Use os.path.join(memory.location, 'joblib') attribute instead.\n",
      "  if (memory.cachedir is None and memory_level is not None\n"
     ]
    },
    {
     "name": "stdout",
     "output_type": "stream",
     "text": [
      "./data/deriv/fmriprep/sub-08/ses-se/func/sub-08_ses-se_task-stop_run-1_space-MNI152NLin2009cAsym_desc-preproc-hp_bold.nii.gz\n"
     ]
    },
    {
     "name": "stderr",
     "output_type": "stream",
     "text": [
      "/home/stevenm/.conda/envs/python3/lib/python3.6/site-packages/numpy/lib/type_check.py:546: DeprecationWarning: np.asscalar(a) is deprecated since NumPy v1.16, use a.item() instead\n",
      "  'a.item() instead', DeprecationWarning, stacklevel=1)\n",
      "/home/stevenm/.conda/envs/python3/lib/python3.6/site-packages/nilearn/_utils/cache_mixin.py:232: DeprecationWarning: The 'cachedir' attribute has been deprecated in version 0.12 and will be removed in version 0.14.\n",
      "Use os.path.join(memory.location, 'joblib') attribute instead.\n",
      "  if (memory.cachedir is None and memory_level is not None\n"
     ]
    },
    {
     "name": "stdout",
     "output_type": "stream",
     "text": [
      "./data/deriv/fmriprep/sub-08/ses-me/func/sub-08_ses-me_task-stop_run-1_space-MNI152NLin2009cAsym_desc-preproc-hp-optcomb_bold.nii.gz\n"
     ]
    },
    {
     "name": "stderr",
     "output_type": "stream",
     "text": [
      "/home/stevenm/.conda/envs/python3/lib/python3.6/site-packages/numpy/lib/type_check.py:546: DeprecationWarning: np.asscalar(a) is deprecated since NumPy v1.16, use a.item() instead\n",
      "  'a.item() instead', DeprecationWarning, stacklevel=1)\n",
      "/home/stevenm/.conda/envs/python3/lib/python3.6/site-packages/nilearn/_utils/cache_mixin.py:232: DeprecationWarning: The 'cachedir' attribute has been deprecated in version 0.12 and will be removed in version 0.14.\n",
      "Use os.path.join(memory.location, 'joblib') attribute instead.\n",
      "  if (memory.cachedir is None and memory_level is not None\n"
     ]
    },
    {
     "name": "stdout",
     "output_type": "stream",
     "text": [
      "./data/deriv/fmriprep/sub-09/ses-se/func/sub-09_ses-se_task-stop_run-1_space-MNI152NLin2009cAsym_desc-preproc-hp_bold.nii.gz\n"
     ]
    },
    {
     "name": "stderr",
     "output_type": "stream",
     "text": [
      "/home/stevenm/.conda/envs/python3/lib/python3.6/site-packages/numpy/lib/type_check.py:546: DeprecationWarning: np.asscalar(a) is deprecated since NumPy v1.16, use a.item() instead\n",
      "  'a.item() instead', DeprecationWarning, stacklevel=1)\n",
      "/home/stevenm/.conda/envs/python3/lib/python3.6/site-packages/nilearn/_utils/cache_mixin.py:232: DeprecationWarning: The 'cachedir' attribute has been deprecated in version 0.12 and will be removed in version 0.14.\n",
      "Use os.path.join(memory.location, 'joblib') attribute instead.\n",
      "  if (memory.cachedir is None and memory_level is not None\n"
     ]
    },
    {
     "name": "stdout",
     "output_type": "stream",
     "text": [
      "./data/deriv/fmriprep/sub-09/ses-me/func/sub-09_ses-me_task-stop_run-1_space-MNI152NLin2009cAsym_desc-preproc-hp-optcomb_bold.nii.gz\n"
     ]
    },
    {
     "name": "stderr",
     "output_type": "stream",
     "text": [
      "/home/stevenm/.conda/envs/python3/lib/python3.6/site-packages/numpy/lib/type_check.py:546: DeprecationWarning: np.asscalar(a) is deprecated since NumPy v1.16, use a.item() instead\n",
      "  'a.item() instead', DeprecationWarning, stacklevel=1)\n",
      "/home/stevenm/.conda/envs/python3/lib/python3.6/site-packages/nilearn/_utils/cache_mixin.py:232: DeprecationWarning: The 'cachedir' attribute has been deprecated in version 0.12 and will be removed in version 0.14.\n",
      "Use os.path.join(memory.location, 'joblib') attribute instead.\n",
      "  if (memory.cachedir is None and memory_level is not None\n"
     ]
    },
    {
     "name": "stdout",
     "output_type": "stream",
     "text": [
      "./data/deriv/fmriprep/sub-10/ses-se/func/sub-10_ses-se_task-stop_run-1_space-MNI152NLin2009cAsym_desc-preproc-hp_bold.nii.gz\n"
     ]
    },
    {
     "name": "stderr",
     "output_type": "stream",
     "text": [
      "/home/stevenm/.conda/envs/python3/lib/python3.6/site-packages/numpy/lib/type_check.py:546: DeprecationWarning: np.asscalar(a) is deprecated since NumPy v1.16, use a.item() instead\n",
      "  'a.item() instead', DeprecationWarning, stacklevel=1)\n",
      "/home/stevenm/.conda/envs/python3/lib/python3.6/site-packages/nilearn/_utils/cache_mixin.py:232: DeprecationWarning: The 'cachedir' attribute has been deprecated in version 0.12 and will be removed in version 0.14.\n",
      "Use os.path.join(memory.location, 'joblib') attribute instead.\n",
      "  if (memory.cachedir is None and memory_level is not None\n"
     ]
    },
    {
     "name": "stdout",
     "output_type": "stream",
     "text": [
      "./data/deriv/fmriprep/sub-10/ses-me/func/sub-10_ses-me_task-stop_run-1_space-MNI152NLin2009cAsym_desc-preproc-hp-optcomb_bold.nii.gz\n"
     ]
    },
    {
     "name": "stderr",
     "output_type": "stream",
     "text": [
      "/home/stevenm/.conda/envs/python3/lib/python3.6/site-packages/numpy/lib/type_check.py:546: DeprecationWarning: np.asscalar(a) is deprecated since NumPy v1.16, use a.item() instead\n",
      "  'a.item() instead', DeprecationWarning, stacklevel=1)\n",
      "/home/stevenm/.conda/envs/python3/lib/python3.6/site-packages/nilearn/_utils/cache_mixin.py:232: DeprecationWarning: The 'cachedir' attribute has been deprecated in version 0.12 and will be removed in version 0.14.\n",
      "Use os.path.join(memory.location, 'joblib') attribute instead.\n",
      "  if (memory.cachedir is None and memory_level is not None\n"
     ]
    },
    {
     "name": "stdout",
     "output_type": "stream",
     "text": [
      "./data/deriv/fmriprep/sub-06/ses-me/func/sub-06_ses-me_task-stop_run-2_space-MNI152NLin2009cAsym_desc-preproc-hp-optcomb_bold.nii.gz\n"
     ]
    },
    {
     "name": "stderr",
     "output_type": "stream",
     "text": [
      "/home/stevenm/.conda/envs/python3/lib/python3.6/site-packages/numpy/lib/type_check.py:546: DeprecationWarning: np.asscalar(a) is deprecated since NumPy v1.16, use a.item() instead\n",
      "  'a.item() instead', DeprecationWarning, stacklevel=1)\n",
      "/home/stevenm/.conda/envs/python3/lib/python3.6/site-packages/nilearn/_utils/cache_mixin.py:232: DeprecationWarning: The 'cachedir' attribute has been deprecated in version 0.12 and will be removed in version 0.14.\n",
      "Use os.path.join(memory.location, 'joblib') attribute instead.\n",
      "  if (memory.cachedir is None and memory_level is not None\n"
     ]
    },
    {
     "name": "stdout",
     "output_type": "stream",
     "text": [
      "./data/deriv/fmriprep/sub-07/ses-me/func/sub-07_ses-me_task-stop_run-2_space-MNI152NLin2009cAsym_desc-preproc-hp-optcomb_bold.nii.gz\n"
     ]
    },
    {
     "name": "stderr",
     "output_type": "stream",
     "text": [
      "/home/stevenm/.conda/envs/python3/lib/python3.6/site-packages/numpy/lib/type_check.py:546: DeprecationWarning: np.asscalar(a) is deprecated since NumPy v1.16, use a.item() instead\n",
      "  'a.item() instead', DeprecationWarning, stacklevel=1)\n",
      "/home/stevenm/.conda/envs/python3/lib/python3.6/site-packages/nilearn/_utils/cache_mixin.py:232: DeprecationWarning: The 'cachedir' attribute has been deprecated in version 0.12 and will be removed in version 0.14.\n",
      "Use os.path.join(memory.location, 'joblib') attribute instead.\n",
      "  if (memory.cachedir is None and memory_level is not None\n"
     ]
    },
    {
     "name": "stdout",
     "output_type": "stream",
     "text": [
      "./data/deriv/fmriprep/sub-08/ses-me/func/sub-08_ses-me_task-stop_run-2_space-MNI152NLin2009cAsym_desc-preproc-hp-optcomb_bold.nii.gz\n"
     ]
    },
    {
     "name": "stderr",
     "output_type": "stream",
     "text": [
      "/home/stevenm/.conda/envs/python3/lib/python3.6/site-packages/numpy/lib/type_check.py:546: DeprecationWarning: np.asscalar(a) is deprecated since NumPy v1.16, use a.item() instead\n",
      "  'a.item() instead', DeprecationWarning, stacklevel=1)\n",
      "/home/stevenm/.conda/envs/python3/lib/python3.6/site-packages/nilearn/_utils/cache_mixin.py:232: DeprecationWarning: The 'cachedir' attribute has been deprecated in version 0.12 and will be removed in version 0.14.\n",
      "Use os.path.join(memory.location, 'joblib') attribute instead.\n",
      "  if (memory.cachedir is None and memory_level is not None\n"
     ]
    },
    {
     "name": "stdout",
     "output_type": "stream",
     "text": [
      "./data/deriv/fmriprep/sub-06/ses-se/func/sub-06_ses-se_task-stop_run-2_space-MNI152NLin2009cAsym_desc-preproc-hp_bold.nii.gz\n"
     ]
    },
    {
     "name": "stderr",
     "output_type": "stream",
     "text": [
      "/home/stevenm/.conda/envs/python3/lib/python3.6/site-packages/numpy/lib/type_check.py:546: DeprecationWarning: np.asscalar(a) is deprecated since NumPy v1.16, use a.item() instead\n",
      "  'a.item() instead', DeprecationWarning, stacklevel=1)\n",
      "/home/stevenm/.conda/envs/python3/lib/python3.6/site-packages/nilearn/_utils/cache_mixin.py:232: DeprecationWarning: The 'cachedir' attribute has been deprecated in version 0.12 and will be removed in version 0.14.\n",
      "Use os.path.join(memory.location, 'joblib') attribute instead.\n",
      "  if (memory.cachedir is None and memory_level is not None\n"
     ]
    },
    {
     "name": "stdout",
     "output_type": "stream",
     "text": [
      "./data/deriv/fmriprep/sub-08/ses-se/func/sub-08_ses-se_task-stop_run-2_space-MNI152NLin2009cAsym_desc-preproc-hp_bold.nii.gz\n"
     ]
    },
    {
     "name": "stderr",
     "output_type": "stream",
     "text": [
      "/home/stevenm/.conda/envs/python3/lib/python3.6/site-packages/numpy/lib/type_check.py:546: DeprecationWarning: np.asscalar(a) is deprecated since NumPy v1.16, use a.item() instead\n",
      "  'a.item() instead', DeprecationWarning, stacklevel=1)\n",
      "/home/stevenm/.conda/envs/python3/lib/python3.6/site-packages/nilearn/_utils/cache_mixin.py:232: DeprecationWarning: The 'cachedir' attribute has been deprecated in version 0.12 and will be removed in version 0.14.\n",
      "Use os.path.join(memory.location, 'joblib') attribute instead.\n",
      "  if (memory.cachedir is None and memory_level is not None\n"
     ]
    },
    {
     "name": "stdout",
     "output_type": "stream",
     "text": [
      "./data/deriv/fmriprep/sub-07/ses-se/func/sub-07_ses-se_task-stop_run-2_space-MNI152NLin2009cAsym_desc-preproc-hp_bold.nii.gz\n"
     ]
    },
    {
     "name": "stderr",
     "output_type": "stream",
     "text": [
      "/home/stevenm/.conda/envs/python3/lib/python3.6/site-packages/numpy/lib/type_check.py:546: DeprecationWarning: np.asscalar(a) is deprecated since NumPy v1.16, use a.item() instead\n",
      "  'a.item() instead', DeprecationWarning, stacklevel=1)\n",
      "/home/stevenm/.conda/envs/python3/lib/python3.6/site-packages/nilearn/_utils/cache_mixin.py:232: DeprecationWarning: The 'cachedir' attribute has been deprecated in version 0.12 and will be removed in version 0.14.\n",
      "Use os.path.join(memory.location, 'joblib') attribute instead.\n",
      "  if (memory.cachedir is None and memory_level is not None\n"
     ]
    },
    {
     "name": "stdout",
     "output_type": "stream",
     "text": [
      "./data/deriv/fmriprep/sub-09/ses-me/func/sub-09_ses-me_task-stop_run-2_space-MNI152NLin2009cAsym_desc-preproc-hp-optcomb_bold.nii.gz\n"
     ]
    },
    {
     "name": "stderr",
     "output_type": "stream",
     "text": [
      "/home/stevenm/.conda/envs/python3/lib/python3.6/site-packages/numpy/lib/type_check.py:546: DeprecationWarning: np.asscalar(a) is deprecated since NumPy v1.16, use a.item() instead\n",
      "  'a.item() instead', DeprecationWarning, stacklevel=1)\n",
      "/home/stevenm/.conda/envs/python3/lib/python3.6/site-packages/nilearn/_utils/cache_mixin.py:232: DeprecationWarning: The 'cachedir' attribute has been deprecated in version 0.12 and will be removed in version 0.14.\n",
      "Use os.path.join(memory.location, 'joblib') attribute instead.\n",
      "  if (memory.cachedir is None and memory_level is not None\n"
     ]
    },
    {
     "name": "stdout",
     "output_type": "stream",
     "text": [
      "./data/deriv/fmriprep/sub-09/ses-se/func/sub-09_ses-se_task-stop_run-2_space-MNI152NLin2009cAsym_desc-preproc-hp_bold.nii.gz\n"
     ]
    },
    {
     "name": "stderr",
     "output_type": "stream",
     "text": [
      "/home/stevenm/.conda/envs/python3/lib/python3.6/site-packages/numpy/lib/type_check.py:546: DeprecationWarning: np.asscalar(a) is deprecated since NumPy v1.16, use a.item() instead\n",
      "  'a.item() instead', DeprecationWarning, stacklevel=1)\n",
      "/home/stevenm/.conda/envs/python3/lib/python3.6/site-packages/nilearn/_utils/cache_mixin.py:232: DeprecationWarning: The 'cachedir' attribute has been deprecated in version 0.12 and will be removed in version 0.14.\n",
      "Use os.path.join(memory.location, 'joblib') attribute instead.\n",
      "  if (memory.cachedir is None and memory_level is not None\n"
     ]
    },
    {
     "name": "stdout",
     "output_type": "stream",
     "text": [
      "./data/deriv/fmriprep/sub-10/ses-me/func/sub-10_ses-me_task-stop_run-2_space-MNI152NLin2009cAsym_desc-preproc-hp-optcomb_bold.nii.gz\n"
     ]
    },
    {
     "name": "stderr",
     "output_type": "stream",
     "text": [
      "/home/stevenm/.conda/envs/python3/lib/python3.6/site-packages/numpy/lib/type_check.py:546: DeprecationWarning: np.asscalar(a) is deprecated since NumPy v1.16, use a.item() instead\n",
      "  'a.item() instead', DeprecationWarning, stacklevel=1)\n",
      "/home/stevenm/.conda/envs/python3/lib/python3.6/site-packages/nilearn/_utils/cache_mixin.py:232: DeprecationWarning: The 'cachedir' attribute has been deprecated in version 0.12 and will be removed in version 0.14.\n",
      "Use os.path.join(memory.location, 'joblib') attribute instead.\n",
      "  if (memory.cachedir is None and memory_level is not None\n"
     ]
    },
    {
     "name": "stdout",
     "output_type": "stream",
     "text": [
      "./data/deriv/fmriprep/sub-10/ses-se/func/sub-10_ses-se_task-stop_run-2_space-MNI152NLin2009cAsym_desc-preproc-hp_bold.nii.gz\n"
     ]
    },
    {
     "name": "stderr",
     "output_type": "stream",
     "text": [
      "/home/stevenm/.conda/envs/python3/lib/python3.6/site-packages/numpy/lib/type_check.py:546: DeprecationWarning: np.asscalar(a) is deprecated since NumPy v1.16, use a.item() instead\n",
      "  'a.item() instead', DeprecationWarning, stacklevel=1)\n",
      "/home/stevenm/.conda/envs/python3/lib/python3.6/site-packages/nilearn/_utils/cache_mixin.py:232: DeprecationWarning: The 'cachedir' attribute has been deprecated in version 0.12 and will be removed in version 0.14.\n",
      "Use os.path.join(memory.location, 'joblib') attribute instead.\n",
      "  if (memory.cachedir is None and memory_level is not None\n"
     ]
    },
    {
     "name": "stdout",
     "output_type": "stream",
     "text": [
      "./data/deriv/fmriprep/sub-06/ses-me/func/sub-06_ses-me_task-stop_run-3_space-MNI152NLin2009cAsym_desc-preproc-hp-optcomb_bold.nii.gz\n"
     ]
    },
    {
     "name": "stderr",
     "output_type": "stream",
     "text": [
      "/home/stevenm/.conda/envs/python3/lib/python3.6/site-packages/numpy/lib/type_check.py:546: DeprecationWarning: np.asscalar(a) is deprecated since NumPy v1.16, use a.item() instead\n",
      "  'a.item() instead', DeprecationWarning, stacklevel=1)\n",
      "/home/stevenm/.conda/envs/python3/lib/python3.6/site-packages/nilearn/_utils/cache_mixin.py:232: DeprecationWarning: The 'cachedir' attribute has been deprecated in version 0.12 and will be removed in version 0.14.\n",
      "Use os.path.join(memory.location, 'joblib') attribute instead.\n",
      "  if (memory.cachedir is None and memory_level is not None\n"
     ]
    },
    {
     "name": "stdout",
     "output_type": "stream",
     "text": [
      "./data/deriv/fmriprep/sub-07/ses-me/func/sub-07_ses-me_task-stop_run-3_space-MNI152NLin2009cAsym_desc-preproc-hp-optcomb_bold.nii.gz\n"
     ]
    },
    {
     "name": "stderr",
     "output_type": "stream",
     "text": [
      "/home/stevenm/.conda/envs/python3/lib/python3.6/site-packages/numpy/lib/type_check.py:546: DeprecationWarning: np.asscalar(a) is deprecated since NumPy v1.16, use a.item() instead\n",
      "  'a.item() instead', DeprecationWarning, stacklevel=1)\n",
      "/home/stevenm/.conda/envs/python3/lib/python3.6/site-packages/nilearn/_utils/cache_mixin.py:232: DeprecationWarning: The 'cachedir' attribute has been deprecated in version 0.12 and will be removed in version 0.14.\n",
      "Use os.path.join(memory.location, 'joblib') attribute instead.\n",
      "  if (memory.cachedir is None and memory_level is not None\n"
     ]
    },
    {
     "name": "stdout",
     "output_type": "stream",
     "text": [
      "./data/deriv/fmriprep/sub-08/ses-me/func/sub-08_ses-me_task-stop_run-3_space-MNI152NLin2009cAsym_desc-preproc-hp-optcomb_bold.nii.gz\n"
     ]
    },
    {
     "name": "stderr",
     "output_type": "stream",
     "text": [
      "/home/stevenm/.conda/envs/python3/lib/python3.6/site-packages/numpy/lib/type_check.py:546: DeprecationWarning: np.asscalar(a) is deprecated since NumPy v1.16, use a.item() instead\n",
      "  'a.item() instead', DeprecationWarning, stacklevel=1)\n",
      "/home/stevenm/.conda/envs/python3/lib/python3.6/site-packages/nilearn/_utils/cache_mixin.py:232: DeprecationWarning: The 'cachedir' attribute has been deprecated in version 0.12 and will be removed in version 0.14.\n",
      "Use os.path.join(memory.location, 'joblib') attribute instead.\n",
      "  if (memory.cachedir is None and memory_level is not None\n"
     ]
    },
    {
     "name": "stdout",
     "output_type": "stream",
     "text": [
      "./data/deriv/fmriprep/sub-06/ses-se/func/sub-06_ses-se_task-stop_run-3_space-MNI152NLin2009cAsym_desc-preproc-hp_bold.nii.gz\n"
     ]
    },
    {
     "name": "stderr",
     "output_type": "stream",
     "text": [
      "/home/stevenm/.conda/envs/python3/lib/python3.6/site-packages/numpy/lib/type_check.py:546: DeprecationWarning: np.asscalar(a) is deprecated since NumPy v1.16, use a.item() instead\n",
      "  'a.item() instead', DeprecationWarning, stacklevel=1)\n",
      "/home/stevenm/.conda/envs/python3/lib/python3.6/site-packages/nilearn/_utils/cache_mixin.py:232: DeprecationWarning: The 'cachedir' attribute has been deprecated in version 0.12 and will be removed in version 0.14.\n",
      "Use os.path.join(memory.location, 'joblib') attribute instead.\n",
      "  if (memory.cachedir is None and memory_level is not None\n"
     ]
    },
    {
     "name": "stdout",
     "output_type": "stream",
     "text": [
      "./data/deriv/fmriprep/sub-08/ses-se/func/sub-08_ses-se_task-stop_run-3_space-MNI152NLin2009cAsym_desc-preproc-hp_bold.nii.gz\n"
     ]
    },
    {
     "name": "stderr",
     "output_type": "stream",
     "text": [
      "/home/stevenm/.conda/envs/python3/lib/python3.6/site-packages/numpy/lib/type_check.py:546: DeprecationWarning: np.asscalar(a) is deprecated since NumPy v1.16, use a.item() instead\n",
      "  'a.item() instead', DeprecationWarning, stacklevel=1)\n",
      "/home/stevenm/.conda/envs/python3/lib/python3.6/site-packages/nilearn/_utils/cache_mixin.py:232: DeprecationWarning: The 'cachedir' attribute has been deprecated in version 0.12 and will be removed in version 0.14.\n",
      "Use os.path.join(memory.location, 'joblib') attribute instead.\n",
      "  if (memory.cachedir is None and memory_level is not None\n"
     ]
    },
    {
     "name": "stdout",
     "output_type": "stream",
     "text": [
      "./data/deriv/fmriprep/sub-07/ses-se/func/sub-07_ses-se_task-stop_run-3_space-MNI152NLin2009cAsym_desc-preproc-hp_bold.nii.gz\n"
     ]
    },
    {
     "name": "stderr",
     "output_type": "stream",
     "text": [
      "/home/stevenm/.conda/envs/python3/lib/python3.6/site-packages/numpy/lib/type_check.py:546: DeprecationWarning: np.asscalar(a) is deprecated since NumPy v1.16, use a.item() instead\n",
      "  'a.item() instead', DeprecationWarning, stacklevel=1)\n",
      "/home/stevenm/.conda/envs/python3/lib/python3.6/site-packages/nilearn/_utils/cache_mixin.py:232: DeprecationWarning: The 'cachedir' attribute has been deprecated in version 0.12 and will be removed in version 0.14.\n",
      "Use os.path.join(memory.location, 'joblib') attribute instead.\n",
      "  if (memory.cachedir is None and memory_level is not None\n"
     ]
    },
    {
     "name": "stdout",
     "output_type": "stream",
     "text": [
      "./data/deriv/fmriprep/sub-11/ses-se/func/sub-11_ses-se_task-stop_run-1_space-MNI152NLin2009cAsym_desc-preproc-hp_bold.nii.gz\n"
     ]
    },
    {
     "name": "stderr",
     "output_type": "stream",
     "text": [
      "/home/stevenm/.conda/envs/python3/lib/python3.6/site-packages/numpy/lib/type_check.py:546: DeprecationWarning: np.asscalar(a) is deprecated since NumPy v1.16, use a.item() instead\n",
      "  'a.item() instead', DeprecationWarning, stacklevel=1)\n",
      "/home/stevenm/.conda/envs/python3/lib/python3.6/site-packages/nilearn/_utils/cache_mixin.py:232: DeprecationWarning: The 'cachedir' attribute has been deprecated in version 0.12 and will be removed in version 0.14.\n",
      "Use os.path.join(memory.location, 'joblib') attribute instead.\n",
      "  if (memory.cachedir is None and memory_level is not None\n"
     ]
    },
    {
     "name": "stdout",
     "output_type": "stream",
     "text": [
      "./data/deriv/fmriprep/sub-09/ses-me/func/sub-09_ses-me_task-stop_run-3_space-MNI152NLin2009cAsym_desc-preproc-hp-optcomb_bold.nii.gz\n"
     ]
    },
    {
     "name": "stderr",
     "output_type": "stream",
     "text": [
      "/home/stevenm/.conda/envs/python3/lib/python3.6/site-packages/numpy/lib/type_check.py:546: DeprecationWarning: np.asscalar(a) is deprecated since NumPy v1.16, use a.item() instead\n",
      "  'a.item() instead', DeprecationWarning, stacklevel=1)\n",
      "/home/stevenm/.conda/envs/python3/lib/python3.6/site-packages/nilearn/_utils/cache_mixin.py:232: DeprecationWarning: The 'cachedir' attribute has been deprecated in version 0.12 and will be removed in version 0.14.\n",
      "Use os.path.join(memory.location, 'joblib') attribute instead.\n",
      "  if (memory.cachedir is None and memory_level is not None\n"
     ]
    },
    {
     "name": "stdout",
     "output_type": "stream",
     "text": [
      "./data/deriv/fmriprep/sub-10/ses-me/func/sub-10_ses-me_task-stop_run-3_space-MNI152NLin2009cAsym_desc-preproc-hp-optcomb_bold.nii.gz\n"
     ]
    },
    {
     "name": "stderr",
     "output_type": "stream",
     "text": [
      "/home/stevenm/.conda/envs/python3/lib/python3.6/site-packages/numpy/lib/type_check.py:546: DeprecationWarning: np.asscalar(a) is deprecated since NumPy v1.16, use a.item() instead\n",
      "  'a.item() instead', DeprecationWarning, stacklevel=1)\n",
      "/home/stevenm/.conda/envs/python3/lib/python3.6/site-packages/nilearn/_utils/cache_mixin.py:232: DeprecationWarning: The 'cachedir' attribute has been deprecated in version 0.12 and will be removed in version 0.14.\n",
      "Use os.path.join(memory.location, 'joblib') attribute instead.\n",
      "  if (memory.cachedir is None and memory_level is not None\n"
     ]
    },
    {
     "name": "stdout",
     "output_type": "stream",
     "text": [
      "./data/deriv/fmriprep/sub-09/ses-se/func/sub-09_ses-se_task-stop_run-3_space-MNI152NLin2009cAsym_desc-preproc-hp_bold.nii.gz\n"
     ]
    },
    {
     "name": "stderr",
     "output_type": "stream",
     "text": [
      "/home/stevenm/.conda/envs/python3/lib/python3.6/site-packages/numpy/lib/type_check.py:546: DeprecationWarning: np.asscalar(a) is deprecated since NumPy v1.16, use a.item() instead\n",
      "  'a.item() instead', DeprecationWarning, stacklevel=1)\n",
      "/home/stevenm/.conda/envs/python3/lib/python3.6/site-packages/nilearn/_utils/cache_mixin.py:232: DeprecationWarning: The 'cachedir' attribute has been deprecated in version 0.12 and will be removed in version 0.14.\n",
      "Use os.path.join(memory.location, 'joblib') attribute instead.\n",
      "  if (memory.cachedir is None and memory_level is not None\n"
     ]
    },
    {
     "name": "stdout",
     "output_type": "stream",
     "text": [
      "./data/deriv/fmriprep/sub-10/ses-se/func/sub-10_ses-se_task-stop_run-3_space-MNI152NLin2009cAsym_desc-preproc-hp_bold.nii.gz\n"
     ]
    },
    {
     "name": "stderr",
     "output_type": "stream",
     "text": [
      "/home/stevenm/.conda/envs/python3/lib/python3.6/site-packages/numpy/lib/type_check.py:546: DeprecationWarning: np.asscalar(a) is deprecated since NumPy v1.16, use a.item() instead\n",
      "  'a.item() instead', DeprecationWarning, stacklevel=1)\n",
      "/home/stevenm/.conda/envs/python3/lib/python3.6/site-packages/nilearn/_utils/cache_mixin.py:232: DeprecationWarning: The 'cachedir' attribute has been deprecated in version 0.12 and will be removed in version 0.14.\n",
      "Use os.path.join(memory.location, 'joblib') attribute instead.\n",
      "  if (memory.cachedir is None and memory_level is not None\n"
     ]
    },
    {
     "name": "stdout",
     "output_type": "stream",
     "text": [
      "./data/deriv/fmriprep/sub-11/ses-me/func/sub-11_ses-me_task-stop_run-1_space-MNI152NLin2009cAsym_desc-preproc-hp-optcomb_bold.nii.gz\n"
     ]
    },
    {
     "name": "stderr",
     "output_type": "stream",
     "text": [
      "/home/stevenm/.conda/envs/python3/lib/python3.6/site-packages/numpy/lib/type_check.py:546: DeprecationWarning: np.asscalar(a) is deprecated since NumPy v1.16, use a.item() instead\n",
      "  'a.item() instead', DeprecationWarning, stacklevel=1)\n",
      "/home/stevenm/.conda/envs/python3/lib/python3.6/site-packages/nilearn/_utils/cache_mixin.py:232: DeprecationWarning: The 'cachedir' attribute has been deprecated in version 0.12 and will be removed in version 0.14.\n",
      "Use os.path.join(memory.location, 'joblib') attribute instead.\n",
      "  if (memory.cachedir is None and memory_level is not None\n"
     ]
    },
    {
     "name": "stdout",
     "output_type": "stream",
     "text": [
      "./data/deriv/fmriprep/sub-12/ses-se/func/sub-12_ses-se_task-stop_run-1_space-MNI152NLin2009cAsym_desc-preproc-hp_bold.nii.gz\n"
     ]
    },
    {
     "name": "stderr",
     "output_type": "stream",
     "text": [
      "/home/stevenm/.conda/envs/python3/lib/python3.6/site-packages/numpy/lib/type_check.py:546: DeprecationWarning: np.asscalar(a) is deprecated since NumPy v1.16, use a.item() instead\n",
      "  'a.item() instead', DeprecationWarning, stacklevel=1)\n",
      "/home/stevenm/.conda/envs/python3/lib/python3.6/site-packages/nilearn/_utils/cache_mixin.py:232: DeprecationWarning: The 'cachedir' attribute has been deprecated in version 0.12 and will be removed in version 0.14.\n",
      "Use os.path.join(memory.location, 'joblib') attribute instead.\n",
      "  if (memory.cachedir is None and memory_level is not None\n"
     ]
    },
    {
     "name": "stdout",
     "output_type": "stream",
     "text": [
      "./data/deriv/fmriprep/sub-13/ses-se/func/sub-13_ses-se_task-stop_run-1_space-MNI152NLin2009cAsym_desc-preproc-hp_bold.nii.gz\n"
     ]
    },
    {
     "name": "stderr",
     "output_type": "stream",
     "text": [
      "/home/stevenm/.conda/envs/python3/lib/python3.6/site-packages/numpy/lib/type_check.py:546: DeprecationWarning: np.asscalar(a) is deprecated since NumPy v1.16, use a.item() instead\n",
      "  'a.item() instead', DeprecationWarning, stacklevel=1)\n",
      "/home/stevenm/.conda/envs/python3/lib/python3.6/site-packages/nilearn/_utils/cache_mixin.py:232: DeprecationWarning: The 'cachedir' attribute has been deprecated in version 0.12 and will be removed in version 0.14.\n",
      "Use os.path.join(memory.location, 'joblib') attribute instead.\n",
      "  if (memory.cachedir is None and memory_level is not None\n"
     ]
    },
    {
     "name": "stdout",
     "output_type": "stream",
     "text": [
      "./data/deriv/fmriprep/sub-13/ses-me/func/sub-13_ses-me_task-stop_run-1_space-MNI152NLin2009cAsym_desc-preproc-hp-optcomb_bold.nii.gz\n"
     ]
    },
    {
     "name": "stderr",
     "output_type": "stream",
     "text": [
      "/home/stevenm/.conda/envs/python3/lib/python3.6/site-packages/numpy/lib/type_check.py:546: DeprecationWarning: np.asscalar(a) is deprecated since NumPy v1.16, use a.item() instead\n",
      "  'a.item() instead', DeprecationWarning, stacklevel=1)\n",
      "/home/stevenm/.conda/envs/python3/lib/python3.6/site-packages/nilearn/_utils/cache_mixin.py:232: DeprecationWarning: The 'cachedir' attribute has been deprecated in version 0.12 and will be removed in version 0.14.\n",
      "Use os.path.join(memory.location, 'joblib') attribute instead.\n",
      "  if (memory.cachedir is None and memory_level is not None\n"
     ]
    },
    {
     "name": "stdout",
     "output_type": "stream",
     "text": [
      "./data/deriv/fmriprep/sub-14/ses-se/func/sub-14_ses-se_task-stop_run-1_space-MNI152NLin2009cAsym_desc-preproc-hp_bold.nii.gz\n"
     ]
    },
    {
     "name": "stderr",
     "output_type": "stream",
     "text": [
      "/home/stevenm/.conda/envs/python3/lib/python3.6/site-packages/numpy/lib/type_check.py:546: DeprecationWarning: np.asscalar(a) is deprecated since NumPy v1.16, use a.item() instead\n",
      "  'a.item() instead', DeprecationWarning, stacklevel=1)\n",
      "/home/stevenm/.conda/envs/python3/lib/python3.6/site-packages/nilearn/_utils/cache_mixin.py:232: DeprecationWarning: The 'cachedir' attribute has been deprecated in version 0.12 and will be removed in version 0.14.\n",
      "Use os.path.join(memory.location, 'joblib') attribute instead.\n",
      "  if (memory.cachedir is None and memory_level is not None\n"
     ]
    },
    {
     "name": "stdout",
     "output_type": "stream",
     "text": [
      "./data/deriv/fmriprep/sub-14/ses-me/func/sub-14_ses-me_task-stop_run-1_space-MNI152NLin2009cAsym_desc-preproc-hp-optcomb_bold.nii.gz\n"
     ]
    },
    {
     "name": "stderr",
     "output_type": "stream",
     "text": [
      "/home/stevenm/.conda/envs/python3/lib/python3.6/site-packages/numpy/lib/type_check.py:546: DeprecationWarning: np.asscalar(a) is deprecated since NumPy v1.16, use a.item() instead\n",
      "  'a.item() instead', DeprecationWarning, stacklevel=1)\n",
      "/home/stevenm/.conda/envs/python3/lib/python3.6/site-packages/nilearn/_utils/cache_mixin.py:232: DeprecationWarning: The 'cachedir' attribute has been deprecated in version 0.12 and will be removed in version 0.14.\n",
      "Use os.path.join(memory.location, 'joblib') attribute instead.\n",
      "  if (memory.cachedir is None and memory_level is not None\n"
     ]
    },
    {
     "name": "stdout",
     "output_type": "stream",
     "text": [
      "./data/deriv/fmriprep/sub-15/ses-se/func/sub-15_ses-se_task-stop_run-1_space-MNI152NLin2009cAsym_desc-preproc-hp_bold.nii.gz\n"
     ]
    },
    {
     "name": "stderr",
     "output_type": "stream",
     "text": [
      "/home/stevenm/.conda/envs/python3/lib/python3.6/site-packages/numpy/lib/type_check.py:546: DeprecationWarning: np.asscalar(a) is deprecated since NumPy v1.16, use a.item() instead\n",
      "  'a.item() instead', DeprecationWarning, stacklevel=1)\n",
      "/home/stevenm/.conda/envs/python3/lib/python3.6/site-packages/nilearn/_utils/cache_mixin.py:232: DeprecationWarning: The 'cachedir' attribute has been deprecated in version 0.12 and will be removed in version 0.14.\n",
      "Use os.path.join(memory.location, 'joblib') attribute instead.\n",
      "  if (memory.cachedir is None and memory_level is not None\n"
     ]
    },
    {
     "name": "stdout",
     "output_type": "stream",
     "text": [
      "./data/deriv/fmriprep/sub-11/ses-se/func/sub-11_ses-se_task-stop_run-2_space-MNI152NLin2009cAsym_desc-preproc-hp_bold.nii.gz\n"
     ]
    },
    {
     "name": "stderr",
     "output_type": "stream",
     "text": [
      "/home/stevenm/.conda/envs/python3/lib/python3.6/site-packages/numpy/lib/type_check.py:546: DeprecationWarning: np.asscalar(a) is deprecated since NumPy v1.16, use a.item() instead\n",
      "  'a.item() instead', DeprecationWarning, stacklevel=1)\n",
      "/home/stevenm/.conda/envs/python3/lib/python3.6/site-packages/nilearn/_utils/cache_mixin.py:232: DeprecationWarning: The 'cachedir' attribute has been deprecated in version 0.12 and will be removed in version 0.14.\n",
      "Use os.path.join(memory.location, 'joblib') attribute instead.\n",
      "  if (memory.cachedir is None and memory_level is not None\n"
     ]
    },
    {
     "name": "stdout",
     "output_type": "stream",
     "text": [
      "./data/deriv/fmriprep/sub-15/ses-me/func/sub-15_ses-me_task-stop_run-1_space-MNI152NLin2009cAsym_desc-preproc-hp-optcomb_bold.nii.gz\n"
     ]
    },
    {
     "name": "stderr",
     "output_type": "stream",
     "text": [
      "/home/stevenm/.conda/envs/python3/lib/python3.6/site-packages/numpy/lib/type_check.py:546: DeprecationWarning: np.asscalar(a) is deprecated since NumPy v1.16, use a.item() instead\n",
      "  'a.item() instead', DeprecationWarning, stacklevel=1)\n",
      "/home/stevenm/.conda/envs/python3/lib/python3.6/site-packages/nilearn/_utils/cache_mixin.py:232: DeprecationWarning: The 'cachedir' attribute has been deprecated in version 0.12 and will be removed in version 0.14.\n",
      "Use os.path.join(memory.location, 'joblib') attribute instead.\n",
      "  if (memory.cachedir is None and memory_level is not None\n"
     ]
    },
    {
     "name": "stdout",
     "output_type": "stream",
     "text": [
      "./data/deriv/fmriprep/sub-16/ses-se/func/sub-16_ses-se_task-stop_run-1_space-MNI152NLin2009cAsym_desc-preproc-hp_bold.nii.gz\n"
     ]
    },
    {
     "name": "stderr",
     "output_type": "stream",
     "text": [
      "/home/stevenm/.conda/envs/python3/lib/python3.6/site-packages/numpy/lib/type_check.py:546: DeprecationWarning: np.asscalar(a) is deprecated since NumPy v1.16, use a.item() instead\n",
      "  'a.item() instead', DeprecationWarning, stacklevel=1)\n",
      "/home/stevenm/.conda/envs/python3/lib/python3.6/site-packages/nilearn/_utils/cache_mixin.py:232: DeprecationWarning: The 'cachedir' attribute has been deprecated in version 0.12 and will be removed in version 0.14.\n",
      "Use os.path.join(memory.location, 'joblib') attribute instead.\n",
      "  if (memory.cachedir is None and memory_level is not None\n"
     ]
    },
    {
     "name": "stdout",
     "output_type": "stream",
     "text": [
      "./data/deriv/fmriprep/sub-11/ses-me/func/sub-11_ses-me_task-stop_run-2_space-MNI152NLin2009cAsym_desc-preproc-hp-optcomb_bold.nii.gz\n"
     ]
    },
    {
     "name": "stderr",
     "output_type": "stream",
     "text": [
      "/home/stevenm/.conda/envs/python3/lib/python3.6/site-packages/numpy/lib/type_check.py:546: DeprecationWarning: np.asscalar(a) is deprecated since NumPy v1.16, use a.item() instead\n",
      "  'a.item() instead', DeprecationWarning, stacklevel=1)\n",
      "/home/stevenm/.conda/envs/python3/lib/python3.6/site-packages/nilearn/_utils/cache_mixin.py:232: DeprecationWarning: The 'cachedir' attribute has been deprecated in version 0.12 and will be removed in version 0.14.\n",
      "Use os.path.join(memory.location, 'joblib') attribute instead.\n",
      "  if (memory.cachedir is None and memory_level is not None\n"
     ]
    },
    {
     "name": "stdout",
     "output_type": "stream",
     "text": [
      "./data/deriv/fmriprep/sub-12/ses-se/func/sub-12_ses-se_task-stop_run-2_space-MNI152NLin2009cAsym_desc-preproc-hp_bold.nii.gz\n"
     ]
    },
    {
     "name": "stderr",
     "output_type": "stream",
     "text": [
      "/home/stevenm/.conda/envs/python3/lib/python3.6/site-packages/numpy/lib/type_check.py:546: DeprecationWarning: np.asscalar(a) is deprecated since NumPy v1.16, use a.item() instead\n",
      "  'a.item() instead', DeprecationWarning, stacklevel=1)\n",
      "/home/stevenm/.conda/envs/python3/lib/python3.6/site-packages/nilearn/_utils/cache_mixin.py:232: DeprecationWarning: The 'cachedir' attribute has been deprecated in version 0.12 and will be removed in version 0.14.\n",
      "Use os.path.join(memory.location, 'joblib') attribute instead.\n",
      "  if (memory.cachedir is None and memory_level is not None\n"
     ]
    },
    {
     "name": "stdout",
     "output_type": "stream",
     "text": [
      "./data/deriv/fmriprep/sub-13/ses-me/func/sub-13_ses-me_task-stop_run-2_space-MNI152NLin2009cAsym_desc-preproc-hp-optcomb_bold.nii.gz\n"
     ]
    },
    {
     "name": "stderr",
     "output_type": "stream",
     "text": [
      "/home/stevenm/.conda/envs/python3/lib/python3.6/site-packages/numpy/lib/type_check.py:546: DeprecationWarning: np.asscalar(a) is deprecated since NumPy v1.16, use a.item() instead\n",
      "  'a.item() instead', DeprecationWarning, stacklevel=1)\n",
      "/home/stevenm/.conda/envs/python3/lib/python3.6/site-packages/nilearn/_utils/cache_mixin.py:232: DeprecationWarning: The 'cachedir' attribute has been deprecated in version 0.12 and will be removed in version 0.14.\n",
      "Use os.path.join(memory.location, 'joblib') attribute instead.\n",
      "  if (memory.cachedir is None and memory_level is not None\n"
     ]
    },
    {
     "name": "stdout",
     "output_type": "stream",
     "text": [
      "./data/deriv/fmriprep/sub-14/ses-me/func/sub-14_ses-me_task-stop_run-2_space-MNI152NLin2009cAsym_desc-preproc-hp-optcomb_bold.nii.gz\n"
     ]
    },
    {
     "name": "stderr",
     "output_type": "stream",
     "text": [
      "/home/stevenm/.conda/envs/python3/lib/python3.6/site-packages/numpy/lib/type_check.py:546: DeprecationWarning: np.asscalar(a) is deprecated since NumPy v1.16, use a.item() instead\n",
      "  'a.item() instead', DeprecationWarning, stacklevel=1)\n",
      "/home/stevenm/.conda/envs/python3/lib/python3.6/site-packages/nilearn/_utils/cache_mixin.py:232: DeprecationWarning: The 'cachedir' attribute has been deprecated in version 0.12 and will be removed in version 0.14.\n",
      "Use os.path.join(memory.location, 'joblib') attribute instead.\n",
      "  if (memory.cachedir is None and memory_level is not None\n"
     ]
    },
    {
     "name": "stdout",
     "output_type": "stream",
     "text": [
      "./data/deriv/fmriprep/sub-13/ses-se/func/sub-13_ses-se_task-stop_run-2_space-MNI152NLin2009cAsym_desc-preproc-hp_bold.nii.gz\n"
     ]
    },
    {
     "name": "stderr",
     "output_type": "stream",
     "text": [
      "/home/stevenm/.conda/envs/python3/lib/python3.6/site-packages/numpy/lib/type_check.py:546: DeprecationWarning: np.asscalar(a) is deprecated since NumPy v1.16, use a.item() instead\n",
      "  'a.item() instead', DeprecationWarning, stacklevel=1)\n",
      "/home/stevenm/.conda/envs/python3/lib/python3.6/site-packages/nilearn/_utils/cache_mixin.py:232: DeprecationWarning: The 'cachedir' attribute has been deprecated in version 0.12 and will be removed in version 0.14.\n",
      "Use os.path.join(memory.location, 'joblib') attribute instead.\n",
      "  if (memory.cachedir is None and memory_level is not None\n"
     ]
    },
    {
     "name": "stdout",
     "output_type": "stream",
     "text": [
      "./data/deriv/fmriprep/sub-15/ses-me/func/sub-15_ses-me_task-stop_run-2_space-MNI152NLin2009cAsym_desc-preproc-hp-optcomb_bold.nii.gz\n"
     ]
    },
    {
     "name": "stderr",
     "output_type": "stream",
     "text": [
      "/home/stevenm/.conda/envs/python3/lib/python3.6/site-packages/numpy/lib/type_check.py:546: DeprecationWarning: np.asscalar(a) is deprecated since NumPy v1.16, use a.item() instead\n",
      "  'a.item() instead', DeprecationWarning, stacklevel=1)\n",
      "/home/stevenm/.conda/envs/python3/lib/python3.6/site-packages/nilearn/_utils/cache_mixin.py:232: DeprecationWarning: The 'cachedir' attribute has been deprecated in version 0.12 and will be removed in version 0.14.\n",
      "Use os.path.join(memory.location, 'joblib') attribute instead.\n",
      "  if (memory.cachedir is None and memory_level is not None\n"
     ]
    },
    {
     "name": "stdout",
     "output_type": "stream",
     "text": [
      "./data/deriv/fmriprep/sub-14/ses-se/func/sub-14_ses-se_task-stop_run-2_space-MNI152NLin2009cAsym_desc-preproc-hp_bold.nii.gz\n"
     ]
    },
    {
     "name": "stderr",
     "output_type": "stream",
     "text": [
      "/home/stevenm/.conda/envs/python3/lib/python3.6/site-packages/numpy/lib/type_check.py:546: DeprecationWarning: np.asscalar(a) is deprecated since NumPy v1.16, use a.item() instead\n",
      "  'a.item() instead', DeprecationWarning, stacklevel=1)\n",
      "/home/stevenm/.conda/envs/python3/lib/python3.6/site-packages/nilearn/_utils/cache_mixin.py:232: DeprecationWarning: The 'cachedir' attribute has been deprecated in version 0.12 and will be removed in version 0.14.\n",
      "Use os.path.join(memory.location, 'joblib') attribute instead.\n",
      "  if (memory.cachedir is None and memory_level is not None\n"
     ]
    },
    {
     "name": "stdout",
     "output_type": "stream",
     "text": [
      "./data/deriv/fmriprep/sub-11/ses-me/func/sub-11_ses-me_task-stop_run-3_space-MNI152NLin2009cAsym_desc-preproc-hp-optcomb_bold.nii.gz\n"
     ]
    },
    {
     "name": "stderr",
     "output_type": "stream",
     "text": [
      "/home/stevenm/.conda/envs/python3/lib/python3.6/site-packages/numpy/lib/type_check.py:546: DeprecationWarning: np.asscalar(a) is deprecated since NumPy v1.16, use a.item() instead\n",
      "  'a.item() instead', DeprecationWarning, stacklevel=1)\n",
      "/home/stevenm/.conda/envs/python3/lib/python3.6/site-packages/nilearn/_utils/cache_mixin.py:232: DeprecationWarning: The 'cachedir' attribute has been deprecated in version 0.12 and will be removed in version 0.14.\n",
      "Use os.path.join(memory.location, 'joblib') attribute instead.\n",
      "  if (memory.cachedir is None and memory_level is not None\n"
     ]
    },
    {
     "name": "stdout",
     "output_type": "stream",
     "text": [
      "./data/deriv/fmriprep/sub-11/ses-se/func/sub-11_ses-se_task-stop_run-3_space-MNI152NLin2009cAsym_desc-preproc-hp_bold.nii.gz\n"
     ]
    },
    {
     "name": "stderr",
     "output_type": "stream",
     "text": [
      "/home/stevenm/.conda/envs/python3/lib/python3.6/site-packages/numpy/lib/type_check.py:546: DeprecationWarning: np.asscalar(a) is deprecated since NumPy v1.16, use a.item() instead\n",
      "  'a.item() instead', DeprecationWarning, stacklevel=1)\n",
      "/home/stevenm/.conda/envs/python3/lib/python3.6/site-packages/nilearn/_utils/cache_mixin.py:232: DeprecationWarning: The 'cachedir' attribute has been deprecated in version 0.12 and will be removed in version 0.14.\n",
      "Use os.path.join(memory.location, 'joblib') attribute instead.\n",
      "  if (memory.cachedir is None and memory_level is not None\n"
     ]
    },
    {
     "name": "stdout",
     "output_type": "stream",
     "text": [
      "./data/deriv/fmriprep/sub-16/ses-se/func/sub-16_ses-se_task-stop_run-2_space-MNI152NLin2009cAsym_desc-preproc-hp_bold.nii.gz\n"
     ]
    },
    {
     "name": "stderr",
     "output_type": "stream",
     "text": [
      "/home/stevenm/.conda/envs/python3/lib/python3.6/site-packages/numpy/lib/type_check.py:546: DeprecationWarning: np.asscalar(a) is deprecated since NumPy v1.16, use a.item() instead\n",
      "  'a.item() instead', DeprecationWarning, stacklevel=1)\n",
      "/home/stevenm/.conda/envs/python3/lib/python3.6/site-packages/nilearn/_utils/cache_mixin.py:232: DeprecationWarning: The 'cachedir' attribute has been deprecated in version 0.12 and will be removed in version 0.14.\n",
      "Use os.path.join(memory.location, 'joblib') attribute instead.\n",
      "  if (memory.cachedir is None and memory_level is not None\n"
     ]
    },
    {
     "name": "stdout",
     "output_type": "stream",
     "text": [
      "./data/deriv/fmriprep/sub-12/ses-se/func/sub-12_ses-se_task-stop_run-3_space-MNI152NLin2009cAsym_desc-preproc-hp_bold.nii.gz\n"
     ]
    },
    {
     "name": "stderr",
     "output_type": "stream",
     "text": [
      "/home/stevenm/.conda/envs/python3/lib/python3.6/site-packages/numpy/lib/type_check.py:546: DeprecationWarning: np.asscalar(a) is deprecated since NumPy v1.16, use a.item() instead\n",
      "  'a.item() instead', DeprecationWarning, stacklevel=1)\n",
      "/home/stevenm/.conda/envs/python3/lib/python3.6/site-packages/nilearn/_utils/cache_mixin.py:232: DeprecationWarning: The 'cachedir' attribute has been deprecated in version 0.12 and will be removed in version 0.14.\n",
      "Use os.path.join(memory.location, 'joblib') attribute instead.\n",
      "  if (memory.cachedir is None and memory_level is not None\n"
     ]
    },
    {
     "name": "stdout",
     "output_type": "stream",
     "text": [
      "./data/deriv/fmriprep/sub-15/ses-se/func/sub-15_ses-se_task-stop_run-2_space-MNI152NLin2009cAsym_desc-preproc-hp_bold.nii.gz\n"
     ]
    },
    {
     "name": "stderr",
     "output_type": "stream",
     "text": [
      "/home/stevenm/.conda/envs/python3/lib/python3.6/site-packages/numpy/lib/type_check.py:546: DeprecationWarning: np.asscalar(a) is deprecated since NumPy v1.16, use a.item() instead\n",
      "  'a.item() instead', DeprecationWarning, stacklevel=1)\n",
      "/home/stevenm/.conda/envs/python3/lib/python3.6/site-packages/nilearn/_utils/cache_mixin.py:232: DeprecationWarning: The 'cachedir' attribute has been deprecated in version 0.12 and will be removed in version 0.14.\n",
      "Use os.path.join(memory.location, 'joblib') attribute instead.\n",
      "  if (memory.cachedir is None and memory_level is not None\n"
     ]
    },
    {
     "name": "stdout",
     "output_type": "stream",
     "text": [
      "./data/deriv/fmriprep/sub-13/ses-me/func/sub-13_ses-me_task-stop_run-3_space-MNI152NLin2009cAsym_desc-preproc-hp-optcomb_bold.nii.gz\n"
     ]
    },
    {
     "name": "stderr",
     "output_type": "stream",
     "text": [
      "/home/stevenm/.conda/envs/python3/lib/python3.6/site-packages/numpy/lib/type_check.py:546: DeprecationWarning: np.asscalar(a) is deprecated since NumPy v1.16, use a.item() instead\n",
      "  'a.item() instead', DeprecationWarning, stacklevel=1)\n",
      "/home/stevenm/.conda/envs/python3/lib/python3.6/site-packages/nilearn/_utils/cache_mixin.py:232: DeprecationWarning: The 'cachedir' attribute has been deprecated in version 0.12 and will be removed in version 0.14.\n",
      "Use os.path.join(memory.location, 'joblib') attribute instead.\n",
      "  if (memory.cachedir is None and memory_level is not None\n"
     ]
    },
    {
     "name": "stdout",
     "output_type": "stream",
     "text": [
      "./data/deriv/fmriprep/sub-14/ses-me/func/sub-14_ses-me_task-stop_run-3_space-MNI152NLin2009cAsym_desc-preproc-hp-optcomb_bold.nii.gz\n"
     ]
    },
    {
     "name": "stderr",
     "output_type": "stream",
     "text": [
      "/home/stevenm/.conda/envs/python3/lib/python3.6/site-packages/numpy/lib/type_check.py:546: DeprecationWarning: np.asscalar(a) is deprecated since NumPy v1.16, use a.item() instead\n",
      "  'a.item() instead', DeprecationWarning, stacklevel=1)\n",
      "/home/stevenm/.conda/envs/python3/lib/python3.6/site-packages/nilearn/_utils/cache_mixin.py:232: DeprecationWarning: The 'cachedir' attribute has been deprecated in version 0.12 and will be removed in version 0.14.\n",
      "Use os.path.join(memory.location, 'joblib') attribute instead.\n",
      "  if (memory.cachedir is None and memory_level is not None\n"
     ]
    },
    {
     "name": "stdout",
     "output_type": "stream",
     "text": [
      "./data/deriv/fmriprep/sub-15/ses-me/func/sub-15_ses-me_task-stop_run-3_space-MNI152NLin2009cAsym_desc-preproc-hp-optcomb_bold.nii.gz\n"
     ]
    },
    {
     "name": "stderr",
     "output_type": "stream",
     "text": [
      "/home/stevenm/.conda/envs/python3/lib/python3.6/site-packages/numpy/lib/type_check.py:546: DeprecationWarning: np.asscalar(a) is deprecated since NumPy v1.16, use a.item() instead\n",
      "  'a.item() instead', DeprecationWarning, stacklevel=1)\n",
      "/home/stevenm/.conda/envs/python3/lib/python3.6/site-packages/nilearn/_utils/cache_mixin.py:232: DeprecationWarning: The 'cachedir' attribute has been deprecated in version 0.12 and will be removed in version 0.14.\n",
      "Use os.path.join(memory.location, 'joblib') attribute instead.\n",
      "  if (memory.cachedir is None and memory_level is not None\n"
     ]
    },
    {
     "name": "stdout",
     "output_type": "stream",
     "text": [
      "./data/deriv/fmriprep/sub-16/ses-me/func/sub-16_ses-me_task-stop_run-1_space-MNI152NLin2009cAsym_desc-preproc-hp-optcomb_bold.nii.gz\n"
     ]
    },
    {
     "name": "stderr",
     "output_type": "stream",
     "text": [
      "/home/stevenm/.conda/envs/python3/lib/python3.6/site-packages/numpy/lib/type_check.py:546: DeprecationWarning: np.asscalar(a) is deprecated since NumPy v1.16, use a.item() instead\n",
      "  'a.item() instead', DeprecationWarning, stacklevel=1)\n",
      "/home/stevenm/.conda/envs/python3/lib/python3.6/site-packages/nilearn/_utils/cache_mixin.py:232: DeprecationWarning: The 'cachedir' attribute has been deprecated in version 0.12 and will be removed in version 0.14.\n",
      "Use os.path.join(memory.location, 'joblib') attribute instead.\n",
      "  if (memory.cachedir is None and memory_level is not None\n"
     ]
    },
    {
     "name": "stdout",
     "output_type": "stream",
     "text": [
      "./data/deriv/fmriprep/sub-14/ses-se/func/sub-14_ses-se_task-stop_run-3_space-MNI152NLin2009cAsym_desc-preproc-hp_bold.nii.gz\n"
     ]
    },
    {
     "name": "stderr",
     "output_type": "stream",
     "text": [
      "/home/stevenm/.conda/envs/python3/lib/python3.6/site-packages/numpy/lib/type_check.py:546: DeprecationWarning: np.asscalar(a) is deprecated since NumPy v1.16, use a.item() instead\n",
      "  'a.item() instead', DeprecationWarning, stacklevel=1)\n",
      "/home/stevenm/.conda/envs/python3/lib/python3.6/site-packages/nilearn/_utils/cache_mixin.py:232: DeprecationWarning: The 'cachedir' attribute has been deprecated in version 0.12 and will be removed in version 0.14.\n",
      "Use os.path.join(memory.location, 'joblib') attribute instead.\n",
      "  if (memory.cachedir is None and memory_level is not None\n"
     ]
    },
    {
     "name": "stdout",
     "output_type": "stream",
     "text": [
      "./data/deriv/fmriprep/sub-13/ses-se/func/sub-13_ses-se_task-stop_run-3_space-MNI152NLin2009cAsym_desc-preproc-hp_bold.nii.gz\n"
     ]
    },
    {
     "name": "stderr",
     "output_type": "stream",
     "text": [
      "/home/stevenm/.conda/envs/python3/lib/python3.6/site-packages/numpy/lib/type_check.py:546: DeprecationWarning: np.asscalar(a) is deprecated since NumPy v1.16, use a.item() instead\n",
      "  'a.item() instead', DeprecationWarning, stacklevel=1)\n",
      "/home/stevenm/.conda/envs/python3/lib/python3.6/site-packages/nilearn/_utils/cache_mixin.py:232: DeprecationWarning: The 'cachedir' attribute has been deprecated in version 0.12 and will be removed in version 0.14.\n",
      "Use os.path.join(memory.location, 'joblib') attribute instead.\n",
      "  if (memory.cachedir is None and memory_level is not None\n"
     ]
    },
    {
     "name": "stdout",
     "output_type": "stream",
     "text": [
      "./data/deriv/fmriprep/sub-17/ses-se/func/sub-17_ses-se_task-stop_run-1_space-MNI152NLin2009cAsym_desc-preproc-hp_bold.nii.gz\n"
     ]
    },
    {
     "name": "stderr",
     "output_type": "stream",
     "text": [
      "/home/stevenm/.conda/envs/python3/lib/python3.6/site-packages/numpy/lib/type_check.py:546: DeprecationWarning: np.asscalar(a) is deprecated since NumPy v1.16, use a.item() instead\n",
      "  'a.item() instead', DeprecationWarning, stacklevel=1)\n",
      "/home/stevenm/.conda/envs/python3/lib/python3.6/site-packages/nilearn/_utils/cache_mixin.py:232: DeprecationWarning: The 'cachedir' attribute has been deprecated in version 0.12 and will be removed in version 0.14.\n",
      "Use os.path.join(memory.location, 'joblib') attribute instead.\n",
      "  if (memory.cachedir is None and memory_level is not None\n"
     ]
    },
    {
     "name": "stdout",
     "output_type": "stream",
     "text": [
      "./data/deriv/fmriprep/sub-17/ses-me/func/sub-17_ses-me_task-stop_run-1_space-MNI152NLin2009cAsym_desc-preproc-hp-optcomb_bold.nii.gz\n"
     ]
    },
    {
     "name": "stderr",
     "output_type": "stream",
     "text": [
      "/home/stevenm/.conda/envs/python3/lib/python3.6/site-packages/numpy/lib/type_check.py:546: DeprecationWarning: np.asscalar(a) is deprecated since NumPy v1.16, use a.item() instead\n",
      "  'a.item() instead', DeprecationWarning, stacklevel=1)\n",
      "/home/stevenm/.conda/envs/python3/lib/python3.6/site-packages/nilearn/_utils/cache_mixin.py:232: DeprecationWarning: The 'cachedir' attribute has been deprecated in version 0.12 and will be removed in version 0.14.\n",
      "Use os.path.join(memory.location, 'joblib') attribute instead.\n",
      "  if (memory.cachedir is None and memory_level is not None\n"
     ]
    },
    {
     "name": "stdout",
     "output_type": "stream",
     "text": [
      "./data/deriv/fmriprep/sub-16/ses-se/func/sub-16_ses-se_task-stop_run-3_space-MNI152NLin2009cAsym_desc-preproc-hp_bold.nii.gz\n"
     ]
    },
    {
     "name": "stderr",
     "output_type": "stream",
     "text": [
      "/home/stevenm/.conda/envs/python3/lib/python3.6/site-packages/numpy/lib/type_check.py:546: DeprecationWarning: np.asscalar(a) is deprecated since NumPy v1.16, use a.item() instead\n",
      "  'a.item() instead', DeprecationWarning, stacklevel=1)\n",
      "/home/stevenm/.conda/envs/python3/lib/python3.6/site-packages/nilearn/_utils/cache_mixin.py:232: DeprecationWarning: The 'cachedir' attribute has been deprecated in version 0.12 and will be removed in version 0.14.\n",
      "Use os.path.join(memory.location, 'joblib') attribute instead.\n",
      "  if (memory.cachedir is None and memory_level is not None\n"
     ]
    },
    {
     "name": "stdout",
     "output_type": "stream",
     "text": [
      "./data/deriv/fmriprep/sub-15/ses-se/func/sub-15_ses-se_task-stop_run-3_space-MNI152NLin2009cAsym_desc-preproc-hp_bold.nii.gz\n"
     ]
    },
    {
     "name": "stderr",
     "output_type": "stream",
     "text": [
      "/home/stevenm/.conda/envs/python3/lib/python3.6/site-packages/numpy/lib/type_check.py:546: DeprecationWarning: np.asscalar(a) is deprecated since NumPy v1.16, use a.item() instead\n",
      "  'a.item() instead', DeprecationWarning, stacklevel=1)\n",
      "/home/stevenm/.conda/envs/python3/lib/python3.6/site-packages/nilearn/_utils/cache_mixin.py:232: DeprecationWarning: The 'cachedir' attribute has been deprecated in version 0.12 and will be removed in version 0.14.\n",
      "Use os.path.join(memory.location, 'joblib') attribute instead.\n",
      "  if (memory.cachedir is None and memory_level is not None\n"
     ]
    },
    {
     "name": "stdout",
     "output_type": "stream",
     "text": [
      "./data/deriv/fmriprep/sub-18/ses-se/func/sub-18_ses-se_task-stop_run-1_space-MNI152NLin2009cAsym_desc-preproc-hp_bold.nii.gz\n"
     ]
    },
    {
     "name": "stderr",
     "output_type": "stream",
     "text": [
      "/home/stevenm/.conda/envs/python3/lib/python3.6/site-packages/numpy/lib/type_check.py:546: DeprecationWarning: np.asscalar(a) is deprecated since NumPy v1.16, use a.item() instead\n",
      "  'a.item() instead', DeprecationWarning, stacklevel=1)\n",
      "/home/stevenm/.conda/envs/python3/lib/python3.6/site-packages/nilearn/_utils/cache_mixin.py:232: DeprecationWarning: The 'cachedir' attribute has been deprecated in version 0.12 and will be removed in version 0.14.\n",
      "Use os.path.join(memory.location, 'joblib') attribute instead.\n",
      "  if (memory.cachedir is None and memory_level is not None\n"
     ]
    },
    {
     "name": "stdout",
     "output_type": "stream",
     "text": [
      "./data/deriv/fmriprep/sub-18/ses-me/func/sub-18_ses-me_task-stop_run-1_space-MNI152NLin2009cAsym_desc-preproc-hp-optcomb_bold.nii.gz\n"
     ]
    },
    {
     "name": "stderr",
     "output_type": "stream",
     "text": [
      "/home/stevenm/.conda/envs/python3/lib/python3.6/site-packages/numpy/lib/type_check.py:546: DeprecationWarning: np.asscalar(a) is deprecated since NumPy v1.16, use a.item() instead\n",
      "  'a.item() instead', DeprecationWarning, stacklevel=1)\n",
      "/home/stevenm/.conda/envs/python3/lib/python3.6/site-packages/nilearn/_utils/cache_mixin.py:232: DeprecationWarning: The 'cachedir' attribute has been deprecated in version 0.12 and will be removed in version 0.14.\n",
      "Use os.path.join(memory.location, 'joblib') attribute instead.\n",
      "  if (memory.cachedir is None and memory_level is not None\n"
     ]
    },
    {
     "name": "stdout",
     "output_type": "stream",
     "text": [
      "./data/deriv/fmriprep/sub-16/ses-me/func/sub-16_ses-me_task-stop_run-2_space-MNI152NLin2009cAsym_desc-preproc-hp-optcomb_bold.nii.gz\n"
     ]
    },
    {
     "name": "stderr",
     "output_type": "stream",
     "text": [
      "/home/stevenm/.conda/envs/python3/lib/python3.6/site-packages/numpy/lib/type_check.py:546: DeprecationWarning: np.asscalar(a) is deprecated since NumPy v1.16, use a.item() instead\n",
      "  'a.item() instead', DeprecationWarning, stacklevel=1)\n",
      "/home/stevenm/.conda/envs/python3/lib/python3.6/site-packages/nilearn/_utils/cache_mixin.py:232: DeprecationWarning: The 'cachedir' attribute has been deprecated in version 0.12 and will be removed in version 0.14.\n",
      "Use os.path.join(memory.location, 'joblib') attribute instead.\n",
      "  if (memory.cachedir is None and memory_level is not None\n"
     ]
    },
    {
     "name": "stdout",
     "output_type": "stream",
     "text": [
      "./data/deriv/fmriprep/sub-17/ses-me/func/sub-17_ses-me_task-stop_run-2_space-MNI152NLin2009cAsym_desc-preproc-hp-optcomb_bold.nii.gz\n"
     ]
    },
    {
     "name": "stderr",
     "output_type": "stream",
     "text": [
      "/home/stevenm/.conda/envs/python3/lib/python3.6/site-packages/numpy/lib/type_check.py:546: DeprecationWarning: np.asscalar(a) is deprecated since NumPy v1.16, use a.item() instead\n",
      "  'a.item() instead', DeprecationWarning, stacklevel=1)\n",
      "/home/stevenm/.conda/envs/python3/lib/python3.6/site-packages/nilearn/_utils/cache_mixin.py:232: DeprecationWarning: The 'cachedir' attribute has been deprecated in version 0.12 and will be removed in version 0.14.\n",
      "Use os.path.join(memory.location, 'joblib') attribute instead.\n",
      "  if (memory.cachedir is None and memory_level is not None\n"
     ]
    },
    {
     "name": "stdout",
     "output_type": "stream",
     "text": [
      "./data/deriv/fmriprep/sub-18/ses-se/func/sub-18_ses-se_task-stop_run-2_space-MNI152NLin2009cAsym_desc-preproc-hp_bold.nii.gz\n"
     ]
    },
    {
     "name": "stderr",
     "output_type": "stream",
     "text": [
      "/home/stevenm/.conda/envs/python3/lib/python3.6/site-packages/numpy/lib/type_check.py:546: DeprecationWarning: np.asscalar(a) is deprecated since NumPy v1.16, use a.item() instead\n",
      "  'a.item() instead', DeprecationWarning, stacklevel=1)\n",
      "/home/stevenm/.conda/envs/python3/lib/python3.6/site-packages/nilearn/_utils/cache_mixin.py:232: DeprecationWarning: The 'cachedir' attribute has been deprecated in version 0.12 and will be removed in version 0.14.\n",
      "Use os.path.join(memory.location, 'joblib') attribute instead.\n",
      "  if (memory.cachedir is None and memory_level is not None\n"
     ]
    },
    {
     "name": "stdout",
     "output_type": "stream",
     "text": [
      "./data/deriv/fmriprep/sub-17/ses-se/func/sub-17_ses-se_task-stop_run-2_space-MNI152NLin2009cAsym_desc-preproc-hp_bold.nii.gz\n"
     ]
    },
    {
     "name": "stderr",
     "output_type": "stream",
     "text": [
      "/home/stevenm/.conda/envs/python3/lib/python3.6/site-packages/numpy/lib/type_check.py:546: DeprecationWarning: np.asscalar(a) is deprecated since NumPy v1.16, use a.item() instead\n",
      "  'a.item() instead', DeprecationWarning, stacklevel=1)\n",
      "/home/stevenm/.conda/envs/python3/lib/python3.6/site-packages/nilearn/_utils/cache_mixin.py:232: DeprecationWarning: The 'cachedir' attribute has been deprecated in version 0.12 and will be removed in version 0.14.\n",
      "Use os.path.join(memory.location, 'joblib') attribute instead.\n",
      "  if (memory.cachedir is None and memory_level is not None\n"
     ]
    },
    {
     "name": "stdout",
     "output_type": "stream",
     "text": [
      "./data/deriv/fmriprep/sub-18/ses-me/func/sub-18_ses-me_task-stop_run-2_space-MNI152NLin2009cAsym_desc-preproc-hp-optcomb_bold.nii.gz\n"
     ]
    },
    {
     "name": "stderr",
     "output_type": "stream",
     "text": [
      "/home/stevenm/.conda/envs/python3/lib/python3.6/site-packages/numpy/lib/type_check.py:546: DeprecationWarning: np.asscalar(a) is deprecated since NumPy v1.16, use a.item() instead\n",
      "  'a.item() instead', DeprecationWarning, stacklevel=1)\n",
      "/home/stevenm/.conda/envs/python3/lib/python3.6/site-packages/nilearn/_utils/cache_mixin.py:232: DeprecationWarning: The 'cachedir' attribute has been deprecated in version 0.12 and will be removed in version 0.14.\n",
      "Use os.path.join(memory.location, 'joblib') attribute instead.\n",
      "  if (memory.cachedir is None and memory_level is not None\n"
     ]
    },
    {
     "name": "stdout",
     "output_type": "stream",
     "text": [
      "./data/deriv/fmriprep/sub-16/ses-me/func/sub-16_ses-me_task-stop_run-3_space-MNI152NLin2009cAsym_desc-preproc-hp-optcomb_bold.nii.gz\n"
     ]
    },
    {
     "name": "stderr",
     "output_type": "stream",
     "text": [
      "/home/stevenm/.conda/envs/python3/lib/python3.6/site-packages/numpy/lib/type_check.py:546: DeprecationWarning: np.asscalar(a) is deprecated since NumPy v1.16, use a.item() instead\n",
      "  'a.item() instead', DeprecationWarning, stacklevel=1)\n",
      "/home/stevenm/.conda/envs/python3/lib/python3.6/site-packages/nilearn/_utils/cache_mixin.py:232: DeprecationWarning: The 'cachedir' attribute has been deprecated in version 0.12 and will be removed in version 0.14.\n",
      "Use os.path.join(memory.location, 'joblib') attribute instead.\n",
      "  if (memory.cachedir is None and memory_level is not None\n"
     ]
    },
    {
     "name": "stdout",
     "output_type": "stream",
     "text": [
      "./data/deriv/fmriprep/sub-18/ses-me/func/sub-18_ses-me_task-stop_run-3_space-MNI152NLin2009cAsym_desc-preproc-hp-optcomb_bold.nii.gz\n"
     ]
    },
    {
     "name": "stderr",
     "output_type": "stream",
     "text": [
      "/home/stevenm/.conda/envs/python3/lib/python3.6/site-packages/numpy/lib/type_check.py:546: DeprecationWarning: np.asscalar(a) is deprecated since NumPy v1.16, use a.item() instead\n",
      "  'a.item() instead', DeprecationWarning, stacklevel=1)\n",
      "/home/stevenm/.conda/envs/python3/lib/python3.6/site-packages/nilearn/_utils/cache_mixin.py:232: DeprecationWarning: The 'cachedir' attribute has been deprecated in version 0.12 and will be removed in version 0.14.\n",
      "Use os.path.join(memory.location, 'joblib') attribute instead.\n",
      "  if (memory.cachedir is None and memory_level is not None\n"
     ]
    },
    {
     "name": "stdout",
     "output_type": "stream",
     "text": [
      "./data/deriv/fmriprep/sub-18/ses-se/func/sub-18_ses-se_task-stop_run-3_space-MNI152NLin2009cAsym_desc-preproc-hp_bold.nii.gz\n"
     ]
    },
    {
     "name": "stderr",
     "output_type": "stream",
     "text": [
      "/home/stevenm/.conda/envs/python3/lib/python3.6/site-packages/numpy/lib/type_check.py:546: DeprecationWarning: np.asscalar(a) is deprecated since NumPy v1.16, use a.item() instead\n",
      "  'a.item() instead', DeprecationWarning, stacklevel=1)\n",
      "/home/stevenm/.conda/envs/python3/lib/python3.6/site-packages/nilearn/_utils/cache_mixin.py:232: DeprecationWarning: The 'cachedir' attribute has been deprecated in version 0.12 and will be removed in version 0.14.\n",
      "Use os.path.join(memory.location, 'joblib') attribute instead.\n",
      "  if (memory.cachedir is None and memory_level is not None\n"
     ]
    }
   ],
   "source": [
    "def get_mask_fn(sub, ses, run):\n",
    "    sub_str = str(sub).zfill(2)\n",
    "    session = 'me' if 'echo' in ses or ses == 'me' else 'se'  # sorry about the confusing variable names\n",
    "    mask_fn = 'data/deriv/fmriprep/sub-{}/ses-{}/func/sub-{}_ses-{}_task-stop_run-{}_{}space-MNI152NLin2009cAsym_desc-brain_mask.nii.gz'.format(sub_str, session, sub_str, session, run, '' if session=='se' else 'echo-1_')\n",
    "    return mask_fn\n",
    "\n",
    "def mask_img(img, mask):\n",
    "    masker = NiftiMasker(mask)\n",
    "\n",
    "    data_masked = masker.fit_transform(img)\n",
    "    data_masked_epispace = masker.inverse_transform(data_masked)\n",
    "    return data_masked_epispace\n",
    "\n",
    "def mask_data_and_fix_header(arg):\n",
    "    sub, ses, run = arg\n",
    "    if sub == 17 and run == 3:\n",
    "        return 0\n",
    "    if sub == 12 and not ses == 'se':\n",
    "        return 0\n",
    "    \n",
    "    if ses == 'se':\n",
    "        session_name = ses\n",
    "        current_fn = 'sub-{}_ses-se_task-stop_run-{}_space-MNI152NLin2009cAsym_desc-preproc-hp_bold.nii.gz'.format(str(sub).zfill(2), run)\n",
    "    elif ses == 'me':\n",
    "        session_name = ses\n",
    "        current_fn = 'sub-{}_ses-me_task-stop_run-{}_space-MNI152NLin2009cAsym_desc-preproc-hp-optcomb_bold.nii.gz'.format(str(sub).zfill(2), run)\n",
    "    else:\n",
    "        echo_n = ses[-1]\n",
    "        session_name = 'me'\n",
    "        current_fn = 'sub-{}_ses-me_task-stop_run-{}_echo-{}_space-MNI152NLin2009cAsym_desc-preproc-hp_bold.nii.gz'.format(str(sub).zfill(2), run, echo_n)\n",
    "        \n",
    "    input_dir = './data/deriv/fmriprep/sub-{}/ses-{}/func'.format(str(sub).zfill(2), session_name)\n",
    "    output_dir = './data/feat_files/sub-{sub}/ses-{ses}/run-{run}/func'.format(**{'sub':str(sub).zfill(2), \n",
    "                                                                                  'ses':ses, \n",
    "                                                                                  'run':run})\n",
    "    if not os.path.exists(output_dir):\n",
    "        os.makedirs(output_dir, exist_ok=True)\n",
    "        \n",
    "    img_fn = os.path.join(input_dir, current_fn)\n",
    "    output_fn = os.path.join(output_dir, current_fn)\n",
    "    mask_fn = get_mask_fn(sub, ses, run)\n",
    "\n",
    "    print(img_fn)\n",
    "    masked_data = mask_img(img_fn, mask_fn)\n",
    "    nib.save(masked_data, output_fn)\n",
    "    \n",
    "    # make sure header is OK\n",
    "    import subprocess\n",
    "    return_code = subprocess.run([\"fslmerge\", \"-tr\", output_fn, output_fn, \"3\"])\n",
    "\n",
    "    return 0\n",
    "\n",
    "subjects = np.arange(1, 19)\n",
    "sessions = ['se', 'me', 'echo-1', 'echo-2', 'echo-3']\n",
    "runs = [1,2,3]\n",
    "\n",
    "to_run = itertools.product(subjects, sessions, runs)\n",
    "to_run_list = list(to_run)\n",
    "\n",
    "# sequential:\n",
    "# for i in to_run_list:\n",
    "#     mask_data_and_fix_header(i)\n",
    "\n",
    "# MP:\n",
    "# with mp.Pool(15) as p:\n",
    "#     p.map(mask_data_and_fix_header, to_run_list)"
   ]
  },
  {
   "cell_type": "markdown",
   "metadata": {},
   "source": [
    "## 3. At this point in the pipeline, we manually create a single .fsf-file in FEAT\n",
    "All preprocessing steps turned off (except smoothing), and no post-stats.\n",
    "Afterwards, we make copies of this .fsf-file for each subject & session & run, and change the filenames that the fsf-file points to.\n",
    "\n",
    "We run with both fwhm = 5 mm (standard GLM) and fwhm = 0 mm (to allow for running LISA)\n",
    "\n",
    "Also, from here on, we treat echos as 'sessions' for simplicity in coding"
   ]
  },
  {
   "cell_type": "markdown",
   "metadata": {},
   "source": [
    "## 4. Generate .fsf-files for all first-levels"
   ]
  },
  {
   "cell_type": "code",
   "execution_count": 28,
   "metadata": {},
   "outputs": [],
   "source": [
    "# orig_fsf = './data/feat_files/sub-01/ses-se/run-1.feat/design.fsf'\n",
    "# with open(orig_fsf, 'r') as f:\n",
    "#     txt = f.read()\n",
    "\n",
    "# function to adapt a design file\n",
    "def fix_fsf_file(sub, ses, run, fwhm=0,\n",
    "                 orig_fsf='./data/feat_files/sub-01/ses-se/run-1/fwhm-5/design.fsf', \n",
    "                 write_out=True):\n",
    "    # read fsf as txt\n",
    "    with open(orig_fsf, 'r') as f:\n",
    "        fsf = f.read()\n",
    "    \n",
    "    # replace output directory\n",
    "    fsf = fsf.replace('set fmri(outputdir) \"/home/stevenm/MultiEchoEPISeq/data/feat_fwhm-5/sub-01/ses-se/run-1\"',\n",
    "                      'set fmri(outputdir) \"/home/stevenm/MultiEchoEPISeq/data/feat_fwhm-{}/sub-{}/ses-{}/run-{}\"'.format(fwhm, str(sub).zfill(2), ses, run))\n",
    "    \n",
    "    # replace directories for func files & ev files\n",
    "    fsf = fsf.replace(\"/home/stevenm/MultiEchoEPISeq/data/feat_files/sub-01/ses-se/run-1\",\n",
    "                      \"/home/stevenm/MultiEchoEPISeq/data/feat_files/sub-{}/ses-{}/run-{}\".format(str(sub).zfill(2), ses, run))\n",
    "    \n",
    "    # replace filename, NB: no extension to fn..\n",
    "    if ses == 'me':\n",
    "        fn_to_run = \"sub-{sub}_ses-{ses}_task-stop_run-{run}_space-MNI152NLin2009cAsym_desc-preproc-hp-optcomb_bold\".format(**{'sub':sub, 'ses':ses, 'run':run})\n",
    "    elif ses == 'se':\n",
    "        fn_to_run = \"sub-{sub}_ses-{ses}_task-stop_run-{run}_space-MNI152NLin2009cAsym_desc-preproc-hp_bold\".format(**{'sub':sub, 'ses':ses, 'run':run})\n",
    "    elif 'echo-' in ses:\n",
    "        echo_n = ses[-1]\n",
    "        fn_to_run = \"sub-{sub}_ses-me_task-stop_run-{run}_echo-{echo}_space-MNI152NLin2009cAsym_desc-preproc-hp_bold\".format(**{'sub':sub, 'run':run, 'echo': echo_n})\n",
    "        \n",
    "    fsf = fsf.replace(\"sub-01_ses-se_task-stop_run-1_space-MNI152NLin2009cAsym_desc-preproc-hp_bold\", fn_to_run)\n",
    "    \n",
    "    # replace smoothing fwhm\n",
    "    fsf = fsf.replace(\"set fmri(smooth) 5\", \n",
    "                      \"set fmri(smooth) {}\".format(int(fwhm)))\n",
    "    \n",
    "    # subject 6 ses me run 3: only 206 volumes instead of 343\n",
    "    if sub == '06' and ses is not 'se' and run == 3:\n",
    "        fsf = fsf.replace(\"set fmri(npts) 343\", \"set fmri(npts) 206\")\n",
    "    \n",
    "    # save fsf as txt\n",
    "    if write_out:\n",
    "        output_dir = './data/feat_files/sub-{}/ses-{}/run-{}/fwhm-{}'.format(sub, ses, run, fwhm)\n",
    "        if not os.path.exists(output_dir):\n",
    "            os.makedirs(output_dir)\n",
    "        with open(os.path.join(output_dir, 'design.fsf'), 'w') as f:\n",
    "            f.write(fsf)\n",
    "    else:\n",
    "        return fsf\n",
    "    \n",
    "# function to run in parallel\n",
    "def run_feat(fsf_file):\n",
    "    print(fsf_file)\n",
    "    import subprocess\n",
    "    return_code = subprocess.run([\"feat\", fsf_file])\n",
    "    print('{}: {}'.format(fsf_file, return_code))\n",
    "    return return_code\n",
    "\n",
    "#fix_fsf_file('01', 'se', 2, write_out=False)"
   ]
  },
  {
   "cell_type": "code",
   "execution_count": 29,
   "metadata": {},
   "outputs": [],
   "source": [
    "# main loop\n",
    "subjects = np.arange(1, 19)\n",
    "sessions = ['se', 'me', 'echo-1', 'echo-2', 'echo-3']\n",
    "runs = [1,2,3]\n",
    "\n",
    "for fwhm in [5, 0]:\n",
    "    # generate all fsf files first\n",
    "    for sub in subjects:\n",
    "        for ses in sessions:\n",
    "            if sub == 12 and not ses == 'se':\n",
    "                continue\n",
    "\n",
    "            for run in runs:\n",
    "                if sub == 17 and run == 3:\n",
    "                    continue\n",
    "                else:\n",
    "                    fix_fsf_file(str(sub).zfill(2), ses, run, fwhm=fwhm)\n",
    "    \n",
    "# find all newly created design files\n",
    "all_fsfs = glob.glob('./data/feat_files/sub-*/ses-*/run*/fwhm-*/*.fsf')\n",
    "all_fsfs.sort()"
   ]
  },
  {
   "cell_type": "markdown",
   "metadata": {},
   "source": [
    "## 5. Run the first-levels\n",
    "##### Runtime estimate \n",
    "\n",
    "First start (`feat_fwhm-0/sub-01/ses-echo-1/run-1.feat/report.html`): 14:32h\n",
    "End: 15:33h\n",
    "\n",
    "- About 1 hour per run on this server (Intel Gold 6134 CPU @ 3.20GHz)\n",
    "- 3 * 17 * 5 * 2 = (3 runs, 17 participants, 5 data types, 2 fwhms) = 510 runs = 510 CPU hour total\n",
    "- On the current server, we run 25 processes simultaneously \n",
    "- 510cpuh / 25cpu =~ 20 hours in total\n",
    "\n",
    "In reality, over 24h --> some overhead"
   ]
  },
  {
   "cell_type": "code",
   "execution_count": null,
   "metadata": {},
   "outputs": [
    {
     "name": "stdout",
     "output_type": "stream",
     "text": [
      "./data/feat_files/sub-02/ses-echo-2/run-3/fwhm-0/design.fsf\n",
      "./data/feat_files/sub-01/ses-echo-2/run-3/fwhm-0/design.fsf\n",
      "./data/feat_files/sub-01/ses-echo-1/run-1/fwhm-0/design.fsf\n",
      "./data/feat_files/sub-01/ses-me/run-2/fwhm-0/design.fsf\n",
      "./data/feat_files/sub-02/ses-echo-1/run-1/fwhm-0/design.fsf\n",
      "./data/feat_files/sub-01/ses-echo-3/run-2/fwhm-5/design.fsf\n",
      "./data/feat_files/sub-02/ses-echo-1/run-3/fwhm-5/design.fsf\n",
      "./data/feat_files/sub-03/ses-echo-1/run-3/fwhm-5/design.fsf\n",
      "./data/feat_files/sub-01/ses-se/run-1/fwhm-5/design.fsf\n",
      "./data/feat_files/sub-01/ses-echo-1/run-3/fwhm-5/design.fsf\n",
      "./data/feat_files/sub-03/ses-me/run-2/fwhm-0/design.fsf\n",
      "./data/feat_files/sub-04/ses-echo-1/run-1/fwhm-0/design.fsf\n",
      "./data/feat_files/sub-03/ses-se/run-1/fwhm-5/design.fsf\n",
      "./data/feat_files/sub-03/ses-echo-3/run-2/fwhm-5/design.fsf\n",
      "./data/feat_files/sub-04/ses-echo-1/run-3/fwhm-5/design.fsf\n",
      "./data/feat_files/sub-04/ses-echo-2/run-3/fwhm-0/design.fsf\n",
      "./data/feat_files/sub-04/ses-echo-3/run-2/fwhm-5/design.fsf\n",
      "./data/feat_files/sub-05/ses-echo-1/run-1/fwhm-0/design.fsf\n",
      "./data/feat_files/sub-04/ses-se/run-1/fwhm-5/design.fsf\n",
      "./data/feat_files/sub-05/ses-echo-1/run-3/fwhm-5/design.fsf\n",
      "./data/feat_files/sub-04/ses-me/run-2/fwhm-0/design.fsf\n",
      "./data/feat_files/sub-05/ses-echo-3/run-2/fwhm-5/design.fsf\n",
      "./data/feat_files/sub-05/ses-echo-2/run-3/fwhm-0/design.fsf\n",
      "./data/feat_files/sub-03/ses-echo-1/run-1/fwhm-0/design.fsf\n",
      "./data/feat_files/sub-02/ses-echo-3/run-2/fwhm-5/design.fsf\n",
      "./data/feat_files/sub-03/ses-echo-2/run-3/fwhm-0/design.fsf\n",
      "./data/feat_files/sub-02/ses-me/run-2/fwhm-0/design.fsf\n",
      "./data/feat_files/sub-02/ses-se/run-1/fwhm-5/design.fsf\n"
     ]
    }
   ],
   "source": [
    "with mp.Pool(28) as p:\n",
    "    outputs = p.map(run_feat, all_fsfs)"
   ]
  },
  {
   "cell_type": "markdown",
   "metadata": {},
   "source": [
    "Minor correction: some .feat-directories accidentally already existed before running feat. Feat then outputs to an +.feat-directory. Here, we find all +.feat directories, and rename them to remove the +"
   ]
  },
  {
   "cell_type": "code",
   "execution_count": 77,
   "metadata": {},
   "outputs": [],
   "source": [
    "# all_featplus_dirs = glob.glob('./data/feat_fwhm-*/sub*/ses*/run*+.feat/')\n",
    "\n",
    "# for fn in all_featplus_dirs:\n",
    "#     if os.path.exists(fn) and os.path.exists(fn.replace('+.feat', '.feat')):\n",
    "#         fn_no_plus = fn.replace('+.feat/', '.feat')\n",
    "#         os.rename(fn_no_plus, fn_no_plus.replace('.feat', '_OLD.feat'))\n",
    "#         os.rename(fn, fn_no_plus)"
   ]
  },
  {
   "cell_type": "markdown",
   "metadata": {},
   "source": [
    "## Interim: Fix \"registration not run\"-issue for fixed effects\n",
    "\n",
    "Feat higher-order analyses require \"registration to have been performed\", which is true, but not by FSL so FSL doesn't know. To do this, \"trick\" FSL into thinking they have been run by linking identity matrices to the feat dirs.\n",
    "\n",
    "See also https://neurostars.org/t/performing-full-glm-analysis-with-fsl-on-the-bold-images-preprocessed-by-fmriprep-without-re-registering-the-data-to-the-mni-space/784"
   ]
  },
  {
   "cell_type": "code",
   "execution_count": 32,
   "metadata": {},
   "outputs": [],
   "source": [
    "def link_files(feat_dir, fsl_dir='/usr/share/fsl/5.0'):\n",
    "    reg_dir = os.path.join(feat_dir, 'reg')\n",
    "    if not os.path.exists(reg_dir):\n",
    "        os.makedirs(reg_dir)\n",
    "    os.system('ln -s {}/etc/flirtsch/ident.mat {}/reg/example_func2standard.mat'.format(fsl_dir, feat_dir))\n",
    "    os.system('ln -s {}/etc/flirtsch/ident.mat {}/reg/standard2example_func.mat'.format(fsl_dir, feat_dir))\n",
    "    os.system('ln -s {}/mean_func.nii.gz {}/reg/standard.nii.gz'.format(feat_dir, feat_dir))\n",
    "    return 0\n",
    "\n",
    "subjects = np.arange(1, 19)\n",
    "sessions = ['se', 'me', 'echo-1', 'echo-2', 'echo-3']\n",
    "runs = [1,2,3]\n",
    "\n",
    "for fwhm in [0, 5]:\n",
    "    for sub in subjects:\n",
    "        for ses in sessions:\n",
    "            if sub == 12 and not ses == 'se':\n",
    "                continue\n",
    "\n",
    "            for run in runs:\n",
    "                if sub == 17 and run == 3:\n",
    "                    continue\n",
    "\n",
    "                else:\n",
    "                    feat_dir = '/home/stevenm/MultiEchoEPISeq/data/feat_fwhm-{}/sub-{}/ses-{}/run-{}.feat'.format(fwhm, str(sub).zfill(2), ses, run)\n",
    "                    if os.path.exists(feat_dir):\n",
    "                        link_files(feat_dir)"
   ]
  },
  {
   "cell_type": "markdown",
   "metadata": {},
   "source": [
    "## 6. Manually create single fixed-effects .fsf-file here"
   ]
  },
  {
   "cell_type": "markdown",
   "metadata": {},
   "source": [
    "## 7. Generate .fsf-files for second-level fixed-effects"
   ]
  },
  {
   "cell_type": "code",
   "execution_count": 33,
   "metadata": {},
   "outputs": [],
   "source": [
    "def fix_fsf_file_fe(sub, ses, fwhm,\n",
    "                    orig_fsf='./data/feat_files/sub-01/ses-se_fe/fwhm-5/design.fsf', \n",
    "                    write_out=True):\n",
    "    # read fsf as txt\n",
    "    with open(orig_fsf, 'r') as f:\n",
    "        fsf = f.read()\n",
    "    \n",
    "    for run in [1,2,3]:\n",
    "        # replace directories..\n",
    "        fsf = fsf.replace(\"/home/stevenm/MultiEchoEPISeq/data/feat_fwhm-5/sub-01/ses-se/run-{}\".format(run),\n",
    "                          \"/home/stevenm/MultiEchoEPISeq/data/feat_fwhm-{}/sub-{}/ses-{}/run-{}\".format(fwhm, str(sub).zfill(2), ses, run))\n",
    "    \n",
    "    # output directory\n",
    "    fsf = fsf.replace(\"/home/stevenm/MultiEchoEPISeq/data/feat_fwhm-5/sub-01/ses-se_fe\", \n",
    "                      \"/home/stevenm/MultiEchoEPISeq/data/feat_fwhm-{}/sub-{}/ses-{}_fe\".format(fwhm, str(sub).zfill(2), ses, run))\n",
    "    \n",
    "    # For subject 17 and 6, remove run 3\n",
    "    if sub == '17' or sub == '06':\n",
    "        # change n inputs\n",
    "        fsf = fsf.replace(\"set fmri(npts) 3\", \"set fmri(npts) 2\")\n",
    "        fsf = fsf.replace(\"set fmri(multiple) 3\", \"set fmri(multiple) 2\")\n",
    "        \n",
    "        # change feat directories\n",
    "        fsf = fsf.replace('\\n# 4D AVW data or FEAT directory (3)', '')\n",
    "        fsf = fsf.replace('\\nset feat_files(3) \"/home/stevenm/MultiEchoEPISeq/data/feat_fwhm-{}/sub-{}/ses-{}/run-3.feat\"'.format(fwhm, sub, ses), '')\n",
    "        \n",
    "        # change EV specification\n",
    "        fsf = fsf.replace('\\n# Higher-level EV value for EV 1 and input 3', '')\n",
    "        fsf = fsf.replace('\\nset fmri(evg3.1) 1.0', '')\n",
    "        fsf = fsf.replace('\\n# Group membership for input 3', '')\n",
    "        fsf = fsf.replace('\\nset fmri(groupmem.3) 1', '')\n",
    "        \n",
    "    # save fsf as txt\n",
    "    if write_out:\n",
    "        output_dir = './data/feat_files/sub-{}/ses-{}_fe/fwhm-{}'.format(str(sub).zfill(2), ses, fwhm)\n",
    "        if not os.path.exists(output_dir):\n",
    "            os.makedirs(output_dir)\n",
    "        with open(os.path.join(output_dir, 'design.fsf'), 'w') as f:\n",
    "            f.write(fsf)\n",
    "    else:\n",
    "        return fsf\n",
    "    \n",
    "#fix_fsf_file_fe('01', 'me', write_out=False)\n",
    "\n",
    "subjects = np.arange(1, 19)\n",
    "sessions = ['se', 'me', 'echo-1', 'echo-2', 'echo-3']\n",
    "\n",
    "for fwhm in [0, 5]:\n",
    "    for sub in subjects:\n",
    "        for ses in sessions:\n",
    "            if sub == 12 and not ses == 'se':\n",
    "                continue\n",
    "            else:\n",
    "                fix_fsf_file_fe(str(sub).zfill(2), ses, fwhm=fwhm, write_out=True)"
   ]
  },
  {
   "cell_type": "markdown",
   "metadata": {},
   "source": [
    "For some bloody reason this won't run from within a jupyter notebook, so make a batch files that can be run from within the system\n",
    "\n",
    "I made 10 .sh files that can be run in parallel. Each one makes 7 serial .feat-calls.\n",
    "The outer wrapper \"run_fe_batch.sh\" calls the 10 .sh-files in parallel\n",
    "\n",
    "\n",
    "Runtime estimate: an hour or so?"
   ]
  },
  {
   "cell_type": "code",
   "execution_count": 34,
   "metadata": {},
   "outputs": [
    {
     "data": {
      "text/plain": [
       "['/home/stevenm/MultiEchoEPISeq/data/feat_files/sub-01/ses-echo-1_fe/fwhm-0/design.fsf',\n",
       " '/home/stevenm/MultiEchoEPISeq/data/feat_files/sub-01/ses-echo-1_fe/fwhm-5/design.fsf',\n",
       " '/home/stevenm/MultiEchoEPISeq/data/feat_files/sub-01/ses-echo-2_fe/fwhm-0/design.fsf',\n",
       " '/home/stevenm/MultiEchoEPISeq/data/feat_files/sub-01/ses-echo-2_fe/fwhm-5/design.fsf',\n",
       " '/home/stevenm/MultiEchoEPISeq/data/feat_files/sub-01/ses-echo-3_fe/fwhm-0/design.fsf',\n",
       " '/home/stevenm/MultiEchoEPISeq/data/feat_files/sub-01/ses-echo-3_fe/fwhm-5/design.fsf',\n",
       " '/home/stevenm/MultiEchoEPISeq/data/feat_files/sub-01/ses-me_fe/fwhm-0/design.fsf',\n",
       " '/home/stevenm/MultiEchoEPISeq/data/feat_files/sub-01/ses-me_fe/fwhm-5/design.fsf',\n",
       " '/home/stevenm/MultiEchoEPISeq/data/feat_files/sub-01/ses-se_fe/fwhm-0/design.fsf',\n",
       " '/home/stevenm/MultiEchoEPISeq/data/feat_files/sub-01/ses-se_fe/fwhm-5/design.fsf',\n",
       " '/home/stevenm/MultiEchoEPISeq/data/feat_files/sub-02/ses-echo-1_fe/fwhm-0/design.fsf',\n",
       " '/home/stevenm/MultiEchoEPISeq/data/feat_files/sub-02/ses-echo-1_fe/fwhm-5/design.fsf',\n",
       " '/home/stevenm/MultiEchoEPISeq/data/feat_files/sub-02/ses-echo-2_fe/fwhm-0/design.fsf',\n",
       " '/home/stevenm/MultiEchoEPISeq/data/feat_files/sub-02/ses-echo-2_fe/fwhm-5/design.fsf',\n",
       " '/home/stevenm/MultiEchoEPISeq/data/feat_files/sub-02/ses-echo-3_fe/fwhm-0/design.fsf',\n",
       " '/home/stevenm/MultiEchoEPISeq/data/feat_files/sub-02/ses-echo-3_fe/fwhm-5/design.fsf',\n",
       " '/home/stevenm/MultiEchoEPISeq/data/feat_files/sub-02/ses-me_fe/fwhm-0/design.fsf',\n",
       " '/home/stevenm/MultiEchoEPISeq/data/feat_files/sub-02/ses-me_fe/fwhm-5/design.fsf',\n",
       " '/home/stevenm/MultiEchoEPISeq/data/feat_files/sub-02/ses-se_fe/fwhm-0/design.fsf',\n",
       " '/home/stevenm/MultiEchoEPISeq/data/feat_files/sub-02/ses-se_fe/fwhm-5/design.fsf',\n",
       " '/home/stevenm/MultiEchoEPISeq/data/feat_files/sub-03/ses-echo-1_fe/fwhm-0/design.fsf',\n",
       " '/home/stevenm/MultiEchoEPISeq/data/feat_files/sub-03/ses-echo-1_fe/fwhm-5/design.fsf',\n",
       " '/home/stevenm/MultiEchoEPISeq/data/feat_files/sub-03/ses-echo-2_fe/fwhm-0/design.fsf',\n",
       " '/home/stevenm/MultiEchoEPISeq/data/feat_files/sub-03/ses-echo-2_fe/fwhm-5/design.fsf',\n",
       " '/home/stevenm/MultiEchoEPISeq/data/feat_files/sub-03/ses-echo-3_fe/fwhm-0/design.fsf',\n",
       " '/home/stevenm/MultiEchoEPISeq/data/feat_files/sub-03/ses-echo-3_fe/fwhm-5/design.fsf',\n",
       " '/home/stevenm/MultiEchoEPISeq/data/feat_files/sub-03/ses-me_fe/fwhm-0/design.fsf',\n",
       " '/home/stevenm/MultiEchoEPISeq/data/feat_files/sub-03/ses-me_fe/fwhm-5/design.fsf',\n",
       " '/home/stevenm/MultiEchoEPISeq/data/feat_files/sub-03/ses-se_fe/fwhm-0/design.fsf',\n",
       " '/home/stevenm/MultiEchoEPISeq/data/feat_files/sub-03/ses-se_fe/fwhm-5/design.fsf',\n",
       " '/home/stevenm/MultiEchoEPISeq/data/feat_files/sub-04/ses-echo-1_fe/fwhm-0/design.fsf',\n",
       " '/home/stevenm/MultiEchoEPISeq/data/feat_files/sub-04/ses-echo-1_fe/fwhm-5/design.fsf',\n",
       " '/home/stevenm/MultiEchoEPISeq/data/feat_files/sub-04/ses-echo-2_fe/fwhm-0/design.fsf',\n",
       " '/home/stevenm/MultiEchoEPISeq/data/feat_files/sub-04/ses-echo-2_fe/fwhm-5/design.fsf',\n",
       " '/home/stevenm/MultiEchoEPISeq/data/feat_files/sub-04/ses-echo-3_fe/fwhm-0/design.fsf',\n",
       " '/home/stevenm/MultiEchoEPISeq/data/feat_files/sub-04/ses-echo-3_fe/fwhm-5/design.fsf',\n",
       " '/home/stevenm/MultiEchoEPISeq/data/feat_files/sub-04/ses-me_fe/fwhm-0/design.fsf',\n",
       " '/home/stevenm/MultiEchoEPISeq/data/feat_files/sub-04/ses-me_fe/fwhm-5/design.fsf',\n",
       " '/home/stevenm/MultiEchoEPISeq/data/feat_files/sub-04/ses-se_fe/fwhm-0/design.fsf',\n",
       " '/home/stevenm/MultiEchoEPISeq/data/feat_files/sub-04/ses-se_fe/fwhm-5/design.fsf',\n",
       " '/home/stevenm/MultiEchoEPISeq/data/feat_files/sub-05/ses-echo-1_fe/fwhm-0/design.fsf',\n",
       " '/home/stevenm/MultiEchoEPISeq/data/feat_files/sub-05/ses-echo-1_fe/fwhm-5/design.fsf',\n",
       " '/home/stevenm/MultiEchoEPISeq/data/feat_files/sub-05/ses-echo-2_fe/fwhm-0/design.fsf',\n",
       " '/home/stevenm/MultiEchoEPISeq/data/feat_files/sub-05/ses-echo-2_fe/fwhm-5/design.fsf',\n",
       " '/home/stevenm/MultiEchoEPISeq/data/feat_files/sub-05/ses-echo-3_fe/fwhm-0/design.fsf',\n",
       " '/home/stevenm/MultiEchoEPISeq/data/feat_files/sub-05/ses-echo-3_fe/fwhm-5/design.fsf',\n",
       " '/home/stevenm/MultiEchoEPISeq/data/feat_files/sub-05/ses-me_fe/fwhm-0/design.fsf',\n",
       " '/home/stevenm/MultiEchoEPISeq/data/feat_files/sub-05/ses-me_fe/fwhm-5/design.fsf',\n",
       " '/home/stevenm/MultiEchoEPISeq/data/feat_files/sub-05/ses-se_fe/fwhm-0/design.fsf',\n",
       " '/home/stevenm/MultiEchoEPISeq/data/feat_files/sub-05/ses-se_fe/fwhm-5/design.fsf',\n",
       " '/home/stevenm/MultiEchoEPISeq/data/feat_files/sub-06/ses-echo-1_fe/fwhm-0/design.fsf',\n",
       " '/home/stevenm/MultiEchoEPISeq/data/feat_files/sub-06/ses-echo-1_fe/fwhm-5/design.fsf',\n",
       " '/home/stevenm/MultiEchoEPISeq/data/feat_files/sub-06/ses-echo-2_fe/fwhm-0/design.fsf',\n",
       " '/home/stevenm/MultiEchoEPISeq/data/feat_files/sub-06/ses-echo-2_fe/fwhm-5/design.fsf',\n",
       " '/home/stevenm/MultiEchoEPISeq/data/feat_files/sub-06/ses-echo-3_fe/fwhm-0/design.fsf',\n",
       " '/home/stevenm/MultiEchoEPISeq/data/feat_files/sub-06/ses-echo-3_fe/fwhm-5/design.fsf',\n",
       " '/home/stevenm/MultiEchoEPISeq/data/feat_files/sub-06/ses-me_fe/fwhm-0/design.fsf',\n",
       " '/home/stevenm/MultiEchoEPISeq/data/feat_files/sub-06/ses-me_fe/fwhm-5/design.fsf',\n",
       " '/home/stevenm/MultiEchoEPISeq/data/feat_files/sub-06/ses-se_fe/fwhm-0/design.fsf',\n",
       " '/home/stevenm/MultiEchoEPISeq/data/feat_files/sub-06/ses-se_fe/fwhm-5/design.fsf',\n",
       " '/home/stevenm/MultiEchoEPISeq/data/feat_files/sub-07/ses-echo-1_fe/fwhm-0/design.fsf',\n",
       " '/home/stevenm/MultiEchoEPISeq/data/feat_files/sub-07/ses-echo-1_fe/fwhm-5/design.fsf',\n",
       " '/home/stevenm/MultiEchoEPISeq/data/feat_files/sub-07/ses-echo-2_fe/fwhm-0/design.fsf',\n",
       " '/home/stevenm/MultiEchoEPISeq/data/feat_files/sub-07/ses-echo-2_fe/fwhm-5/design.fsf',\n",
       " '/home/stevenm/MultiEchoEPISeq/data/feat_files/sub-07/ses-echo-3_fe/fwhm-0/design.fsf',\n",
       " '/home/stevenm/MultiEchoEPISeq/data/feat_files/sub-07/ses-echo-3_fe/fwhm-5/design.fsf',\n",
       " '/home/stevenm/MultiEchoEPISeq/data/feat_files/sub-07/ses-me_fe/fwhm-0/design.fsf',\n",
       " '/home/stevenm/MultiEchoEPISeq/data/feat_files/sub-07/ses-me_fe/fwhm-5/design.fsf',\n",
       " '/home/stevenm/MultiEchoEPISeq/data/feat_files/sub-07/ses-se_fe/fwhm-0/design.fsf',\n",
       " '/home/stevenm/MultiEchoEPISeq/data/feat_files/sub-07/ses-se_fe/fwhm-5/design.fsf',\n",
       " '/home/stevenm/MultiEchoEPISeq/data/feat_files/sub-08/ses-echo-1_fe/fwhm-0/design.fsf',\n",
       " '/home/stevenm/MultiEchoEPISeq/data/feat_files/sub-08/ses-echo-1_fe/fwhm-5/design.fsf',\n",
       " '/home/stevenm/MultiEchoEPISeq/data/feat_files/sub-08/ses-echo-2_fe/fwhm-0/design.fsf',\n",
       " '/home/stevenm/MultiEchoEPISeq/data/feat_files/sub-08/ses-echo-2_fe/fwhm-5/design.fsf',\n",
       " '/home/stevenm/MultiEchoEPISeq/data/feat_files/sub-08/ses-echo-3_fe/fwhm-0/design.fsf',\n",
       " '/home/stevenm/MultiEchoEPISeq/data/feat_files/sub-08/ses-echo-3_fe/fwhm-5/design.fsf',\n",
       " '/home/stevenm/MultiEchoEPISeq/data/feat_files/sub-08/ses-me_fe/fwhm-0/design.fsf',\n",
       " '/home/stevenm/MultiEchoEPISeq/data/feat_files/sub-08/ses-me_fe/fwhm-5/design.fsf',\n",
       " '/home/stevenm/MultiEchoEPISeq/data/feat_files/sub-08/ses-se_fe/fwhm-0/design.fsf',\n",
       " '/home/stevenm/MultiEchoEPISeq/data/feat_files/sub-08/ses-se_fe/fwhm-5/design.fsf',\n",
       " '/home/stevenm/MultiEchoEPISeq/data/feat_files/sub-09/ses-echo-1_fe/fwhm-0/design.fsf',\n",
       " '/home/stevenm/MultiEchoEPISeq/data/feat_files/sub-09/ses-echo-1_fe/fwhm-5/design.fsf',\n",
       " '/home/stevenm/MultiEchoEPISeq/data/feat_files/sub-09/ses-echo-2_fe/fwhm-0/design.fsf',\n",
       " '/home/stevenm/MultiEchoEPISeq/data/feat_files/sub-09/ses-echo-2_fe/fwhm-5/design.fsf',\n",
       " '/home/stevenm/MultiEchoEPISeq/data/feat_files/sub-09/ses-echo-3_fe/fwhm-0/design.fsf',\n",
       " '/home/stevenm/MultiEchoEPISeq/data/feat_files/sub-09/ses-echo-3_fe/fwhm-5/design.fsf',\n",
       " '/home/stevenm/MultiEchoEPISeq/data/feat_files/sub-09/ses-me_fe/fwhm-0/design.fsf',\n",
       " '/home/stevenm/MultiEchoEPISeq/data/feat_files/sub-09/ses-me_fe/fwhm-5/design.fsf',\n",
       " '/home/stevenm/MultiEchoEPISeq/data/feat_files/sub-09/ses-se_fe/fwhm-0/design.fsf',\n",
       " '/home/stevenm/MultiEchoEPISeq/data/feat_files/sub-09/ses-se_fe/fwhm-5/design.fsf',\n",
       " '/home/stevenm/MultiEchoEPISeq/data/feat_files/sub-10/ses-echo-1_fe/fwhm-0/design.fsf',\n",
       " '/home/stevenm/MultiEchoEPISeq/data/feat_files/sub-10/ses-echo-1_fe/fwhm-5/design.fsf',\n",
       " '/home/stevenm/MultiEchoEPISeq/data/feat_files/sub-10/ses-echo-2_fe/fwhm-0/design.fsf',\n",
       " '/home/stevenm/MultiEchoEPISeq/data/feat_files/sub-10/ses-echo-2_fe/fwhm-5/design.fsf',\n",
       " '/home/stevenm/MultiEchoEPISeq/data/feat_files/sub-10/ses-echo-3_fe/fwhm-0/design.fsf',\n",
       " '/home/stevenm/MultiEchoEPISeq/data/feat_files/sub-10/ses-echo-3_fe/fwhm-5/design.fsf',\n",
       " '/home/stevenm/MultiEchoEPISeq/data/feat_files/sub-10/ses-me_fe/fwhm-0/design.fsf',\n",
       " '/home/stevenm/MultiEchoEPISeq/data/feat_files/sub-10/ses-me_fe/fwhm-5/design.fsf',\n",
       " '/home/stevenm/MultiEchoEPISeq/data/feat_files/sub-10/ses-se_fe/fwhm-0/design.fsf',\n",
       " '/home/stevenm/MultiEchoEPISeq/data/feat_files/sub-10/ses-se_fe/fwhm-5/design.fsf',\n",
       " '/home/stevenm/MultiEchoEPISeq/data/feat_files/sub-11/ses-echo-1_fe/fwhm-0/design.fsf',\n",
       " '/home/stevenm/MultiEchoEPISeq/data/feat_files/sub-11/ses-echo-1_fe/fwhm-5/design.fsf',\n",
       " '/home/stevenm/MultiEchoEPISeq/data/feat_files/sub-11/ses-echo-2_fe/fwhm-0/design.fsf',\n",
       " '/home/stevenm/MultiEchoEPISeq/data/feat_files/sub-11/ses-echo-2_fe/fwhm-5/design.fsf',\n",
       " '/home/stevenm/MultiEchoEPISeq/data/feat_files/sub-11/ses-echo-3_fe/fwhm-0/design.fsf',\n",
       " '/home/stevenm/MultiEchoEPISeq/data/feat_files/sub-11/ses-echo-3_fe/fwhm-5/design.fsf',\n",
       " '/home/stevenm/MultiEchoEPISeq/data/feat_files/sub-11/ses-me_fe/fwhm-0/design.fsf',\n",
       " '/home/stevenm/MultiEchoEPISeq/data/feat_files/sub-11/ses-me_fe/fwhm-5/design.fsf',\n",
       " '/home/stevenm/MultiEchoEPISeq/data/feat_files/sub-11/ses-se_fe/fwhm-0/design.fsf',\n",
       " '/home/stevenm/MultiEchoEPISeq/data/feat_files/sub-11/ses-se_fe/fwhm-5/design.fsf',\n",
       " '/home/stevenm/MultiEchoEPISeq/data/feat_files/sub-12/ses-se_fe/fwhm-0/design.fsf',\n",
       " '/home/stevenm/MultiEchoEPISeq/data/feat_files/sub-12/ses-se_fe/fwhm-5/design.fsf',\n",
       " '/home/stevenm/MultiEchoEPISeq/data/feat_files/sub-13/ses-echo-1_fe/fwhm-0/design.fsf',\n",
       " '/home/stevenm/MultiEchoEPISeq/data/feat_files/sub-13/ses-echo-1_fe/fwhm-5/design.fsf',\n",
       " '/home/stevenm/MultiEchoEPISeq/data/feat_files/sub-13/ses-echo-2_fe/fwhm-0/design.fsf',\n",
       " '/home/stevenm/MultiEchoEPISeq/data/feat_files/sub-13/ses-echo-2_fe/fwhm-5/design.fsf',\n",
       " '/home/stevenm/MultiEchoEPISeq/data/feat_files/sub-13/ses-echo-3_fe/fwhm-0/design.fsf',\n",
       " '/home/stevenm/MultiEchoEPISeq/data/feat_files/sub-13/ses-echo-3_fe/fwhm-5/design.fsf',\n",
       " '/home/stevenm/MultiEchoEPISeq/data/feat_files/sub-13/ses-me_fe/fwhm-0/design.fsf',\n",
       " '/home/stevenm/MultiEchoEPISeq/data/feat_files/sub-13/ses-me_fe/fwhm-5/design.fsf',\n",
       " '/home/stevenm/MultiEchoEPISeq/data/feat_files/sub-13/ses-se_fe/fwhm-0/design.fsf',\n",
       " '/home/stevenm/MultiEchoEPISeq/data/feat_files/sub-13/ses-se_fe/fwhm-5/design.fsf',\n",
       " '/home/stevenm/MultiEchoEPISeq/data/feat_files/sub-14/ses-echo-1_fe/fwhm-0/design.fsf',\n",
       " '/home/stevenm/MultiEchoEPISeq/data/feat_files/sub-14/ses-echo-1_fe/fwhm-5/design.fsf',\n",
       " '/home/stevenm/MultiEchoEPISeq/data/feat_files/sub-14/ses-echo-2_fe/fwhm-0/design.fsf',\n",
       " '/home/stevenm/MultiEchoEPISeq/data/feat_files/sub-14/ses-echo-2_fe/fwhm-5/design.fsf',\n",
       " '/home/stevenm/MultiEchoEPISeq/data/feat_files/sub-14/ses-echo-3_fe/fwhm-0/design.fsf',\n",
       " '/home/stevenm/MultiEchoEPISeq/data/feat_files/sub-14/ses-echo-3_fe/fwhm-5/design.fsf',\n",
       " '/home/stevenm/MultiEchoEPISeq/data/feat_files/sub-14/ses-me_fe/fwhm-0/design.fsf',\n",
       " '/home/stevenm/MultiEchoEPISeq/data/feat_files/sub-14/ses-me_fe/fwhm-5/design.fsf',\n",
       " '/home/stevenm/MultiEchoEPISeq/data/feat_files/sub-14/ses-se_fe/fwhm-0/design.fsf',\n",
       " '/home/stevenm/MultiEchoEPISeq/data/feat_files/sub-14/ses-se_fe/fwhm-5/design.fsf',\n",
       " '/home/stevenm/MultiEchoEPISeq/data/feat_files/sub-15/ses-echo-1_fe/fwhm-0/design.fsf',\n",
       " '/home/stevenm/MultiEchoEPISeq/data/feat_files/sub-15/ses-echo-1_fe/fwhm-5/design.fsf',\n",
       " '/home/stevenm/MultiEchoEPISeq/data/feat_files/sub-15/ses-echo-2_fe/fwhm-0/design.fsf',\n",
       " '/home/stevenm/MultiEchoEPISeq/data/feat_files/sub-15/ses-echo-2_fe/fwhm-5/design.fsf',\n",
       " '/home/stevenm/MultiEchoEPISeq/data/feat_files/sub-15/ses-echo-3_fe/fwhm-0/design.fsf',\n",
       " '/home/stevenm/MultiEchoEPISeq/data/feat_files/sub-15/ses-echo-3_fe/fwhm-5/design.fsf',\n",
       " '/home/stevenm/MultiEchoEPISeq/data/feat_files/sub-15/ses-me_fe/fwhm-0/design.fsf',\n",
       " '/home/stevenm/MultiEchoEPISeq/data/feat_files/sub-15/ses-me_fe/fwhm-5/design.fsf',\n",
       " '/home/stevenm/MultiEchoEPISeq/data/feat_files/sub-15/ses-se_fe/fwhm-0/design.fsf',\n",
       " '/home/stevenm/MultiEchoEPISeq/data/feat_files/sub-15/ses-se_fe/fwhm-5/design.fsf',\n",
       " '/home/stevenm/MultiEchoEPISeq/data/feat_files/sub-16/ses-echo-1_fe/fwhm-0/design.fsf',\n",
       " '/home/stevenm/MultiEchoEPISeq/data/feat_files/sub-16/ses-echo-1_fe/fwhm-5/design.fsf',\n",
       " '/home/stevenm/MultiEchoEPISeq/data/feat_files/sub-16/ses-echo-2_fe/fwhm-0/design.fsf',\n",
       " '/home/stevenm/MultiEchoEPISeq/data/feat_files/sub-16/ses-echo-2_fe/fwhm-5/design.fsf',\n",
       " '/home/stevenm/MultiEchoEPISeq/data/feat_files/sub-16/ses-echo-3_fe/fwhm-0/design.fsf',\n",
       " '/home/stevenm/MultiEchoEPISeq/data/feat_files/sub-16/ses-echo-3_fe/fwhm-5/design.fsf',\n",
       " '/home/stevenm/MultiEchoEPISeq/data/feat_files/sub-16/ses-me_fe/fwhm-0/design.fsf',\n",
       " '/home/stevenm/MultiEchoEPISeq/data/feat_files/sub-16/ses-me_fe/fwhm-5/design.fsf',\n",
       " '/home/stevenm/MultiEchoEPISeq/data/feat_files/sub-16/ses-se_fe/fwhm-0/design.fsf',\n",
       " '/home/stevenm/MultiEchoEPISeq/data/feat_files/sub-16/ses-se_fe/fwhm-5/design.fsf',\n",
       " '/home/stevenm/MultiEchoEPISeq/data/feat_files/sub-17/ses-echo-1_fe/fwhm-0/design.fsf',\n",
       " '/home/stevenm/MultiEchoEPISeq/data/feat_files/sub-17/ses-echo-1_fe/fwhm-5/design.fsf',\n",
       " '/home/stevenm/MultiEchoEPISeq/data/feat_files/sub-17/ses-echo-2_fe/fwhm-0/design.fsf',\n",
       " '/home/stevenm/MultiEchoEPISeq/data/feat_files/sub-17/ses-echo-2_fe/fwhm-5/design.fsf',\n",
       " '/home/stevenm/MultiEchoEPISeq/data/feat_files/sub-17/ses-echo-3_fe/fwhm-0/design.fsf',\n",
       " '/home/stevenm/MultiEchoEPISeq/data/feat_files/sub-17/ses-echo-3_fe/fwhm-5/design.fsf',\n",
       " '/home/stevenm/MultiEchoEPISeq/data/feat_files/sub-17/ses-me_fe/fwhm-0/design.fsf',\n",
       " '/home/stevenm/MultiEchoEPISeq/data/feat_files/sub-17/ses-me_fe/fwhm-5/design.fsf',\n",
       " '/home/stevenm/MultiEchoEPISeq/data/feat_files/sub-17/ses-se_fe/fwhm-0/design.fsf',\n",
       " '/home/stevenm/MultiEchoEPISeq/data/feat_files/sub-17/ses-se_fe/fwhm-5/design.fsf',\n",
       " '/home/stevenm/MultiEchoEPISeq/data/feat_files/sub-18/ses-echo-1_fe/fwhm-0/design.fsf',\n",
       " '/home/stevenm/MultiEchoEPISeq/data/feat_files/sub-18/ses-echo-1_fe/fwhm-5/design.fsf',\n",
       " '/home/stevenm/MultiEchoEPISeq/data/feat_files/sub-18/ses-echo-2_fe/fwhm-0/design.fsf',\n",
       " '/home/stevenm/MultiEchoEPISeq/data/feat_files/sub-18/ses-echo-2_fe/fwhm-5/design.fsf',\n",
       " '/home/stevenm/MultiEchoEPISeq/data/feat_files/sub-18/ses-echo-3_fe/fwhm-0/design.fsf',\n",
       " '/home/stevenm/MultiEchoEPISeq/data/feat_files/sub-18/ses-echo-3_fe/fwhm-5/design.fsf',\n",
       " '/home/stevenm/MultiEchoEPISeq/data/feat_files/sub-18/ses-me_fe/fwhm-0/design.fsf',\n",
       " '/home/stevenm/MultiEchoEPISeq/data/feat_files/sub-18/ses-me_fe/fwhm-5/design.fsf',\n",
       " '/home/stevenm/MultiEchoEPISeq/data/feat_files/sub-18/ses-se_fe/fwhm-0/design.fsf',\n",
       " '/home/stevenm/MultiEchoEPISeq/data/feat_files/sub-18/ses-se_fe/fwhm-5/design.fsf']"
      ]
     },
     "execution_count": 34,
     "metadata": {},
     "output_type": "execute_result"
    }
   ],
   "source": [
    "all_fsfs = glob.glob('/home/stevenm/MultiEchoEPISeq/data/feat_files/sub-*/ses-*_fe/fwhm-*/design.fsf')\n",
    "all_fsfs.sort()\n",
    "all_fsfs"
   ]
  },
  {
   "cell_type": "code",
   "execution_count": 35,
   "metadata": {},
   "outputs": [
    {
     "name": "stdout",
     "output_type": "stream",
     "text": [
      "Call this line: \n",
      "/home/stevenm/MultiEchoEPISeq/data/feat_files/run_fe_batch.sh > /home/stevenm/MultiEchoEPISeq/data/feat_files/fixed_effects_outputs.txt\n"
     ]
    }
   ],
   "source": [
    "all_fsfs = glob.glob('/home/stevenm/MultiEchoEPISeq/data/feat_files/sub-*/ses-*_fe/fwhm-*/design.fsf')\n",
    "all_fsfs.sort()\n",
    "\n",
    "total_n_calls = len(all_fsfs)  # 70 in total\n",
    "n_files = 25  # this is the number of parallel processes that will run\n",
    "\n",
    "# evenly divide number of feat calls over n_files\n",
    "n_rows_per_file = np.floor(total_n_calls / n_files)\n",
    "remainder = total_n_calls % n_files\n",
    "rows_per_file = np.repeat(n_rows_per_file, n_files)\n",
    "for i in range(remainder):\n",
    "    rows_per_file[i] += 1\n",
    "\n",
    "# ensure we're not missing one\n",
    "assert np.sum(rows_per_file) == total_n_calls\n",
    "\n",
    "txt_files = []\n",
    "# loop over files\n",
    "for txt_file_n, n_lines_this_file in enumerate(rows_per_file.astype(int)):\n",
    "    this_txt = []\n",
    "    for row in range(n_lines_this_file):\n",
    "        this_fsf_file = all_fsfs.pop(0)\n",
    "        this_txt.append('feat {}\\n'.format(this_fsf_file))\n",
    "    this_txt.insert(0, '#/bin/bash\\n')\n",
    "    \n",
    "    this_fn = \"/home/stevenm/MultiEchoEPISeq/data/feat_files/fe_batch-{}.sh\".format(txt_file_n)\n",
    "    with open(this_fn, 'w') as f:\n",
    "        f.writelines(this_txt)\n",
    "    os.system('chmod +x {}'.format(this_fn))\n",
    "    txt_files.append(this_fn + ' &\\n')\n",
    "\n",
    "# write outer wrapper for a single command line call\n",
    "txt_files.insert(0, '#/bin/bash\\n')\n",
    "with open('./data/feat_files/run_fe_batch.sh', 'w') as f:\n",
    "    f.writelines(txt_files)\n",
    "os.system('chmod +x ./data/feat_files/run_fe_batch.sh')\n",
    "\n",
    "assert len(all_fsfs) == 0\n",
    "\n",
    "print(\"Call this line: \\n/home/stevenm/MultiEchoEPISeq/data/feat_files/run_fe_batch.sh > /home/stevenm/MultiEchoEPISeq/data/feat_files/fixed_effects_outputs.txt\")"
   ]
  },
  {
   "cell_type": "markdown",
   "metadata": {},
   "source": [
    "## 8. Call the line above"
   ]
  },
  {
   "cell_type": "markdown",
   "metadata": {},
   "source": [
    "### Fixed effects done"
   ]
  },
  {
   "cell_type": "markdown",
   "metadata": {},
   "source": [
    "## 9. Create .fsf-file for third-level random effects\n",
    "\n",
    "Only for FWHM = 5 mm\n",
    "\n",
    "Use Flame1\n",
    "\n",
    "5x9 models (2 sessions + 3 echos, 9 copes) = another whopping 45 FLAME1-calls"
   ]
  },
  {
   "cell_type": "code",
   "execution_count": 138,
   "metadata": {},
   "outputs": [],
   "source": [
    "# useful call for pasting paths\n",
    "# txt = ['/home/stevenm/MultiEchoEPISeq/data/feat_fwhm-5/sub-{}/ses-se_fe.gfeat/cope1.feat'.format(str(x).zfill(2)) for x in np.arange(1, 19) if not x == 12]\n",
    "# print('\\n'.join(txt))"
   ]
  },
  {
   "cell_type": "markdown",
   "metadata": {},
   "source": [
    "## 10. Generate other third-level .fsf-files"
   ]
  },
  {
   "cell_type": "code",
   "execution_count": 36,
   "metadata": {},
   "outputs": [],
   "source": [
    "def fix_fsf_file_flame1(ses, fwhm, cope,\n",
    "                        orig_fsf='./data/feat_files/ses-se_flame1/fwhm-5/cope1/design.fsf', \n",
    "                        write_out=True):\n",
    "    # read fsf as txt\n",
    "    with open(orig_fsf, 'r') as f:\n",
    "        fsf = f.read()\n",
    "    \n",
    "    # output directory\n",
    "    fsf = fsf.replace(\"/home/stevenm/MultiEchoEPISeq/data/feat_fwhm-5/third_levels/ses-se/cope1\",\n",
    "                      \"/home/stevenm/MultiEchoEPISeq/data/feat_fwhm-{}/third_levels/ses-{}/cope{}\".format(fwhm, ses, cope))\n",
    "    \n",
    "    for sub in np.arange(1, 19):\n",
    "        fsf = fsf.replace('set feat_files({}) \"/home/stevenm/MultiEchoEPISeq/data/feat_fwhm-5/sub-{}/ses-se_fe.gfeat/cope1.feat\"'.format(sub, str(sub).zfill(2)),\n",
    "            'set feat_files({}) \"/home/stevenm/MultiEchoEPISeq/data/feat_fwhm-{}/sub-{}/ses-{}_fe.gfeat/cope{}.feat\"'.format(sub, fwhm, str(sub).zfill(2), ses, cope))\n",
    "        \n",
    "        # feat files 12-17 correspond to subjects 13-18; 12 was removed\n",
    "        fsf = fsf.replace('set feat_files({}) \"/home/stevenm/MultiEchoEPISeq/data/feat_fwhm-5/sub-{}/ses-se_fe.gfeat/cope1.feat\"'.format(sub-1, str(sub).zfill(2)),\n",
    "            'set feat_files({}) \"/home/stevenm/MultiEchoEPISeq/data/feat_fwhm-{}/sub-{}/ses-{}_fe.gfeat/cope{}.feat\"'.format(sub-1, fwhm, str(sub).zfill(2), ses, cope))\n",
    "        \n",
    "    # save fsf as txt\n",
    "    if write_out:\n",
    "        output_dir = './data/feat_files/ses-{}_flame1/fwhm-{}/cope{}'.format(ses, fwhm, cope)\n",
    "        if not os.path.exists(output_dir):\n",
    "            os.makedirs(output_dir)\n",
    "        with open(os.path.join(output_dir, 'design.fsf'), 'w') as f:\n",
    "            f.write(fsf)\n",
    "    else:\n",
    "        return fsf\n",
    "    \n",
    "#fix_fsf_file_fe('01', 'me', write_out=False)\n",
    "\n",
    "sessions = ['se', 'me', 'echo-1', 'echo-2', 'echo-3']\n",
    "runs = [1,2,3]\n",
    "copes = np.arange(1, 10)\n",
    "\n",
    "for fwhm in [5]:  # don't run unsmoothed - that was only for LISA\n",
    "    for cope in copes:\n",
    "        for ses in sessions:\n",
    "            fix_fsf_file_flame1(ses, fwhm=fwhm, cope=cope, write_out=True)"
   ]
  },
  {
   "cell_type": "code",
   "execution_count": 37,
   "metadata": {},
   "outputs": [],
   "source": [
    "# try to run (does this one work from command line or do we need to do this stupid batching again?)\n",
    "# !feat ./data/feat_fwhm-5/ses-se_flame1/cope1/design.fsf\n",
    "\n",
    "# ok this seems to work again!"
   ]
  },
  {
   "cell_type": "code",
   "execution_count": 38,
   "metadata": {},
   "outputs": [
    {
     "data": {
      "text/plain": [
       "['./data/feat_files/ses-echo-2_flame1/fwhm-5/cope6/design.fsf',\n",
       " './data/feat_files/ses-echo-2_flame1/fwhm-5/cope4/design.fsf',\n",
       " './data/feat_files/ses-echo-2_flame1/fwhm-5/cope2/design.fsf',\n",
       " './data/feat_files/ses-echo-2_flame1/fwhm-5/cope7/design.fsf',\n",
       " './data/feat_files/ses-echo-2_flame1/fwhm-5/cope3/design.fsf',\n",
       " './data/feat_files/ses-echo-2_flame1/fwhm-5/cope5/design.fsf',\n",
       " './data/feat_files/ses-echo-2_flame1/fwhm-5/cope9/design.fsf',\n",
       " './data/feat_files/ses-echo-2_flame1/fwhm-5/cope1/design.fsf',\n",
       " './data/feat_files/ses-echo-2_flame1/fwhm-5/cope8/design.fsf',\n",
       " './data/feat_files/ses-se_flame1/fwhm-5/cope6/design.fsf',\n",
       " './data/feat_files/ses-se_flame1/fwhm-5/cope4/design.fsf',\n",
       " './data/feat_files/ses-se_flame1/fwhm-5/cope2/design.fsf',\n",
       " './data/feat_files/ses-se_flame1/fwhm-5/cope7/design.fsf',\n",
       " './data/feat_files/ses-se_flame1/fwhm-5/cope3/design.fsf',\n",
       " './data/feat_files/ses-se_flame1/fwhm-5/cope5/design.fsf',\n",
       " './data/feat_files/ses-se_flame1/fwhm-5/cope9/design.fsf',\n",
       " './data/feat_files/ses-se_flame1/fwhm-5/cope1/design.fsf',\n",
       " './data/feat_files/ses-se_flame1/fwhm-5/cope8/design.fsf',\n",
       " './data/feat_files/ses-echo-1_flame1/fwhm-5/cope6/design.fsf',\n",
       " './data/feat_files/ses-echo-1_flame1/fwhm-5/cope4/design.fsf',\n",
       " './data/feat_files/ses-echo-1_flame1/fwhm-5/cope2/design.fsf',\n",
       " './data/feat_files/ses-echo-1_flame1/fwhm-5/cope7/design.fsf',\n",
       " './data/feat_files/ses-echo-1_flame1/fwhm-5/cope3/design.fsf',\n",
       " './data/feat_files/ses-echo-1_flame1/fwhm-5/cope5/design.fsf',\n",
       " './data/feat_files/ses-echo-1_flame1/fwhm-5/cope9/design.fsf',\n",
       " './data/feat_files/ses-echo-1_flame1/fwhm-5/cope1/design.fsf',\n",
       " './data/feat_files/ses-echo-1_flame1/fwhm-5/cope8/design.fsf',\n",
       " './data/feat_files/ses-echo-3_flame1/fwhm-5/cope6/design.fsf',\n",
       " './data/feat_files/ses-echo-3_flame1/fwhm-5/cope4/design.fsf',\n",
       " './data/feat_files/ses-echo-3_flame1/fwhm-5/cope2/design.fsf',\n",
       " './data/feat_files/ses-echo-3_flame1/fwhm-5/cope7/design.fsf',\n",
       " './data/feat_files/ses-echo-3_flame1/fwhm-5/cope3/design.fsf',\n",
       " './data/feat_files/ses-echo-3_flame1/fwhm-5/cope5/design.fsf',\n",
       " './data/feat_files/ses-echo-3_flame1/fwhm-5/cope9/design.fsf',\n",
       " './data/feat_files/ses-echo-3_flame1/fwhm-5/cope1/design.fsf',\n",
       " './data/feat_files/ses-echo-3_flame1/fwhm-5/cope8/design.fsf',\n",
       " './data/feat_files/ses-me_flame1/fwhm-5/cope6/design.fsf',\n",
       " './data/feat_files/ses-me_flame1/fwhm-5/cope4/design.fsf',\n",
       " './data/feat_files/ses-me_flame1/fwhm-5/cope2/design.fsf',\n",
       " './data/feat_files/ses-me_flame1/fwhm-5/cope7/design.fsf',\n",
       " './data/feat_files/ses-me_flame1/fwhm-5/cope3/design.fsf',\n",
       " './data/feat_files/ses-me_flame1/fwhm-5/cope5/design.fsf',\n",
       " './data/feat_files/ses-me_flame1/fwhm-5/cope9/design.fsf',\n",
       " './data/feat_files/ses-me_flame1/fwhm-5/cope1/design.fsf',\n",
       " './data/feat_files/ses-me_flame1/fwhm-5/cope8/design.fsf']"
      ]
     },
     "execution_count": 38,
     "metadata": {},
     "output_type": "execute_result"
    }
   ],
   "source": [
    "# no need to run any fwhm=0 second levels\n",
    "all_fsfs = glob.glob('./data/feat_files/ses-*_flame1/fwhm-5/cope*/design.fsf')\n",
    "all_fsfs"
   ]
  },
  {
   "cell_type": "code",
   "execution_count": 39,
   "metadata": {},
   "outputs": [
    {
     "name": "stdout",
     "output_type": "stream",
     "text": [
      "Call this line: \n",
      "/home/stevenm/MultiEchoEPISeq/data/feat_files/run_re_batch.sh > /home/stevenm/MultiEchoEPISeq/data/feat_files/random_effects_outputs.txt\n"
     ]
    }
   ],
   "source": [
    "all_fsfs = glob.glob('/home/stevenm/MultiEchoEPISeq/data/feat_files/ses-*_flame1/fwhm-5/cope*/design.fsf')\n",
    "all_fsfs.sort()\n",
    "\n",
    "total_n_calls = len(all_fsfs)  # 70 in total\n",
    "n_files = 15  # this is the number of parallel processes that will run\n",
    "\n",
    "# evenly divide number of feat calls over n_files\n",
    "n_rows_per_file = np.floor(total_n_calls / n_files)\n",
    "remainder = total_n_calls % n_files\n",
    "rows_per_file = np.repeat(n_rows_per_file, n_files)\n",
    "for i in range(remainder):\n",
    "    rows_per_file[i] += 1\n",
    "\n",
    "# ensure we're not missing one\n",
    "assert np.sum(rows_per_file) == total_n_calls\n",
    "\n",
    "txt_files = []\n",
    "# loop over files\n",
    "for txt_file_n, n_lines_this_file in enumerate(rows_per_file.astype(int)):\n",
    "    this_txt = []\n",
    "    for row in range(n_lines_this_file):\n",
    "        this_fsf_file = all_fsfs.pop(0)\n",
    "        this_txt.append('feat {}\\n'.format(this_fsf_file))\n",
    "    this_txt.insert(0, '#/bin/bash\\n')\n",
    "    \n",
    "    this_fn = \"/home/stevenm/MultiEchoEPISeq/data/feat_files/re_batch-{}.sh\".format(txt_file_n)\n",
    "    with open(this_fn, 'w') as f:\n",
    "        f.writelines(this_txt)\n",
    "    os.system('chmod +x {}'.format(this_fn))\n",
    "    txt_files.append(this_fn + ' &\\n')\n",
    "\n",
    "# write outer wrapper for a single command line call\n",
    "txt_files.insert(0, '#/bin/bash\\n')\n",
    "with open('./data/feat_files/run_re_batch.sh', 'w') as f:\n",
    "    f.writelines(txt_files)\n",
    "os.system('chmod +x ./data/feat_files/run_re_batch.sh')\n",
    "\n",
    "assert len(all_fsfs) == 0\n",
    "\n",
    "print(\"Call this line: \\n/home/stevenm/MultiEchoEPISeq/data/feat_files/run_re_batch.sh > /home/stevenm/MultiEchoEPISeq/data/feat_files/random_effects_outputs.txt\")"
   ]
  },
  {
   "cell_type": "markdown",
   "metadata": {},
   "source": [
    "## 11. Run third-levels"
   ]
  },
  {
   "cell_type": "code",
   "execution_count": null,
   "metadata": {},
   "outputs": [
    {
     "name": "stdout",
     "output_type": "stream",
     "text": [
      "./data/feat_files/ses-echo-2_flame1/fwhm-5/cope6/design.fsf\n",
      "./data/feat_files/ses-echo-2_flame1/fwhm-5/cope1/design.fsf\n",
      "./data/feat_files/ses-se_flame1/fwhm-5/cope3/design.fsf\n",
      "./data/feat_files/ses-echo-2_flame1/fwhm-5/cope2/design.fsf\n",
      "./data/feat_files/ses-se_flame1/fwhm-5/cope2/design.fsf\n",
      "./data/feat_files/ses-se_flame1/fwhm-5/cope1/design.fsf\n",
      "./data/feat_files/ses-echo-2_flame1/fwhm-5/cope8/design.fsf\n",
      "./data/feat_files/ses-se_flame1/fwhm-5/cope4/design.fsf\n",
      "./data/feat_files/ses-se_flame1/fwhm-5/cope9/design.fsf\n",
      "./data/feat_files/ses-echo-1_flame1/fwhm-5/cope4/design.fsf\n",
      "./data/feat_files/ses-se_flame1/fwhm-5/cope6/design.fsf\n",
      "./data/feat_files/ses-se_flame1/fwhm-5/cope7/design.fsf\n",
      "./data/feat_files/ses-echo-2_flame1/fwhm-5/cope4/design.fsf\n",
      "./data/feat_files/ses-se_flame1/fwhm-5/cope5/design.fsf\n",
      "./data/feat_files/ses-se_flame1/fwhm-5/cope8/design.fsf\n",
      "./data/feat_files/ses-echo-1_flame1/fwhm-5/cope9/design.fsf\n",
      "./data/feat_files/ses-echo-1_flame1/fwhm-5/cope6/design.fsf\n",
      "./data/feat_files/ses-echo-1_flame1/fwhm-5/cope7/design.fsf\n",
      "./data/feat_files/ses-echo-1_flame1/fwhm-5/cope5/design.fsf\n",
      "./data/feat_files/ses-echo-1_flame1/fwhm-5/cope3/design.fsf\n",
      "./data/feat_files/ses-echo-1_flame1/fwhm-5/cope2/design.fsf\n",
      "./data/feat_files/ses-echo-2_flame1/fwhm-5/cope5/design.fsf\n",
      "./data/feat_files/ses-echo-2_flame1/fwhm-5/cope9/design.fsf\n",
      "./data/feat_files/ses-echo-2_flame1/fwhm-5/cope7/design.fsf\n",
      "./data/feat_files/ses-echo-2_flame1/fwhm-5/cope3/design.fsf\n"
     ]
    }
   ],
   "source": [
    "# with mp.Pool(25) as p:\n",
    "#     outputs = p.map(run_feat, all_fsfs)"
   ]
  },
  {
   "cell_type": "markdown",
   "metadata": {},
   "source": [
    "# FLAME1 done\n",
    "\n",
    "That's all folks?"
   ]
  },
  {
   "cell_type": "code",
   "execution_count": 1,
   "metadata": {},
   "outputs": [
    {
     "name": "stdout",
     "output_type": "stream",
     "text": [
      "cope1.nii.gz\t\t\t res4d.nii.gz\t  weights1.nii.gz\r\n",
      "dof\t\t\t\t smoothness\t  zflame1lowertstat1.nii.gz\r\n",
      "logfile\t\t\t\t tdof_t1.nii.gz   zflame1uppertstat1.nii.gz\r\n",
      "mean_random_effects_var1.nii.gz  tstat1.nii.gz\t  zstat1.nii.gz\r\n",
      "pe1.nii.gz\t\t\t varcope1.nii.gz\r\n"
     ]
    }
   ],
   "source": [
    "!ls ./data/feat_fwhm-0/sub-01/ses-se_fe.gfeat/cope4.feat/stats/"
   ]
  },
  {
   "cell_type": "code",
   "execution_count": 40,
   "metadata": {},
   "outputs": [],
   "source": [
    "def fix_fsf_file_flame12(ses, fwhm, cope,\n",
    "                        orig_fsf='./data/feat_files/ses-se_flame12/fwhm-5/cope1/design.fsf', \n",
    "                        write_out=True):\n",
    "    # read fsf as txt\n",
    "    with open(orig_fsf, 'r') as f:\n",
    "        fsf = f.read()\n",
    "    \n",
    "    # output directory\n",
    "    fsf = fsf.replace(\"/home/stevenm/MultiEchoEPISeq/data/feat_fwhm-5/third_levels/ses-se/cope1\",\n",
    "                      \"/home/stevenm/MultiEchoEPISeq/data/feat_fwhm-{}/third_levels/ses-{}/cope{}\".format(fwhm, ses, cope))\n",
    "    \n",
    "    for sub in np.arange(1, 19):\n",
    "        fsf = fsf.replace('set feat_files({}) \"/home/stevenm/MultiEchoEPISeq/data/feat_fwhm-5/sub-{}/ses-se_fe.gfeat/cope1.feat\"'.format(sub, str(sub).zfill(2)),\n",
    "            'set feat_files({}) \"/home/stevenm/MultiEchoEPISeq/data/feat_fwhm-{}/sub-{}/ses-{}_fe.gfeat/cope{}.feat\"'.format(sub, fwhm, str(sub).zfill(2), ses, cope))\n",
    "        \n",
    "        # feat files 12-17 correspond to subjects 13-18; 12 was removed\n",
    "        fsf = fsf.replace('set feat_files({}) \"/home/stevenm/MultiEchoEPISeq/data/feat_fwhm-5/sub-{}/ses-se_fe.gfeat/cope1.feat\"'.format(sub-1, str(sub).zfill(2)),\n",
    "            'set feat_files({}) \"/home/stevenm/MultiEchoEPISeq/data/feat_fwhm-{}/sub-{}/ses-{}_fe.gfeat/cope{}.feat\"'.format(sub-1, fwhm, str(sub).zfill(2), ses, cope))\n",
    "        \n",
    "    # save fsf as txt\n",
    "    if write_out:\n",
    "        output_dir = './data/feat_files/ses-{}_flame12/fwhm-{}/cope{}'.format(ses, fwhm, cope)\n",
    "        if not os.path.exists(output_dir):\n",
    "            os.makedirs(output_dir)\n",
    "        with open(os.path.join(output_dir, 'design.fsf'), 'w') as f:\n",
    "            f.write(fsf)\n",
    "    else:\n",
    "        return fsf\n",
    "    \n",
    "#fix_fsf_file_fe('01', 'me', write_out=False)\n",
    "\n",
    "sessions = ['se', 'me']\n",
    "runs = [1,2,3]\n",
    "copes = np.arange(1, 4)\n",
    "\n",
    "for fwhm in [5]:  # don't run unsmoothed - that was only for LISA\n",
    "    for cope in copes:\n",
    "        for ses in sessions:\n",
    "            fix_fsf_file_flame12(ses, fwhm=fwhm, cope=cope, write_out=True)"
   ]
  },
  {
   "cell_type": "code",
   "execution_count": 41,
   "metadata": {},
   "outputs": [
    {
     "data": {
      "text/plain": [
       "['./data/feat_files/ses-se_flame12/fwhm-5/cope2/design.fsf',\n",
       " './data/feat_files/ses-se_flame12/fwhm-5/cope3/design.fsf',\n",
       " './data/feat_files/ses-se_flame12/fwhm-5/cope1/design.fsf',\n",
       " './data/feat_files/ses-me_flame12/fwhm-5/cope2/design.fsf',\n",
       " './data/feat_files/ses-me_flame12/fwhm-5/cope3/design.fsf',\n",
       " './data/feat_files/ses-me_flame12/fwhm-5/cope1/design.fsf']"
      ]
     },
     "execution_count": 41,
     "metadata": {},
     "output_type": "execute_result"
    }
   ],
   "source": [
    "# no need to run any fwhm=0 second levels\n",
    "all_fsfs = glob.glob('./data/feat_files/ses-*_flame12/fwhm-5/cope*/design.fsf')\n",
    "all_fsfs"
   ]
  },
  {
   "cell_type": "code",
   "execution_count": 43,
   "metadata": {},
   "outputs": [
    {
     "name": "stdout",
     "output_type": "stream",
     "text": [
      "Call this line: \n",
      "/home/stevenm/MultiEchoEPISeq/data/feat_files/run_re_batch.sh > /home/stevenm/MultiEchoEPISeq/data/feat_files/random_effects_outputs.txt\n"
     ]
    }
   ],
   "source": [
    "all_fsfs = glob.glob('/home/stevenm/MultiEchoEPISeq/data/feat_files/ses-*_flame12/fwhm-5/cope*/design.fsf')\n",
    "all_fsfs.sort()\n",
    "\n",
    "total_n_calls = len(all_fsfs)  # 70 in total\n",
    "n_files = 6  # this is the number of parallel processes that will run\n",
    "\n",
    "# evenly divide number of feat calls over n_files\n",
    "n_rows_per_file = np.floor(total_n_calls / n_files)\n",
    "remainder = total_n_calls % n_files\n",
    "rows_per_file = np.repeat(n_rows_per_file, n_files)\n",
    "for i in range(remainder):\n",
    "    rows_per_file[i] += 1\n",
    "\n",
    "# ensure we're not missing one\n",
    "assert np.sum(rows_per_file) == total_n_calls\n",
    "\n",
    "txt_files = []\n",
    "# loop over files\n",
    "for txt_file_n, n_lines_this_file in enumerate(rows_per_file.astype(int)):\n",
    "    this_txt = []\n",
    "    for row in range(n_lines_this_file):\n",
    "        this_fsf_file = all_fsfs.pop(0)\n",
    "        this_txt.append('feat {}\\n'.format(this_fsf_file))\n",
    "    this_txt.insert(0, '#/bin/bash\\n')\n",
    "    \n",
    "    this_fn = \"/home/stevenm/MultiEchoEPISeq/data/feat_files/re_batch-{}.sh\".format(txt_file_n)\n",
    "    with open(this_fn, 'w') as f:\n",
    "        f.writelines(this_txt)\n",
    "    os.system('chmod +x {}'.format(this_fn))\n",
    "    txt_files.append(this_fn + ' &\\n')\n",
    "\n",
    "# write outer wrapper for a single command line call\n",
    "txt_files.insert(0, '#/bin/bash\\n')\n",
    "with open('./data/feat_files/run_re_batch.sh', 'w') as f:\n",
    "    f.writelines(txt_files)\n",
    "os.system('chmod +x ./data/feat_files/run_re_batch.sh')\n",
    "\n",
    "assert len(all_fsfs) == 0\n",
    "\n",
    "print(\"Call this line: \\n/home/stevenm/MultiEchoEPISeq/data/feat_files/run_re_batch.sh > /home/stevenm/MultiEchoEPISeq/data/feat_files/random_effects_outputs.txt\")"
   ]
  },
  {
   "cell_type": "code",
   "execution_count": null,
   "metadata": {},
   "outputs": [],
   "source": []
  },
  {
   "cell_type": "code",
   "execution_count": null,
   "metadata": {},
   "outputs": [],
   "source": []
  },
  {
   "cell_type": "code",
   "execution_count": 44,
   "metadata": {},
   "outputs": [],
   "source": [
    "import subprocess\n",
    "import os\n",
    "import glob\n",
    "import numpy as np\n",
    "import pandas\n",
    "import nilearn\n",
    "import nibabel as nib\n",
    "\n",
    "class SLM(object):\n",
    "    def __init__(self, copes, session='se',\n",
    "                 feat_root = './data/feat_fwhm-0',\n",
    "                 save_dir='./data/feat_fwhm-0/third_levels', \n",
    "                 tmp_dir = '/home/stevenm/MultiEchoEPISeq/lisa_tmp_dir',\n",
    "                 level = 0.05):\n",
    "        self.copes = copes\n",
    "        self.session = session\n",
    "        self.lisa_tmp_dir = tmp_dir\n",
    "        self.feat_root = feat_root\n",
    "        self.save_dir = save_dir + '/ses-{}'.format(self.session)\n",
    "        self.level = level\n",
    "    \n",
    "    def _get_first_levels(self, cope):\n",
    "        \n",
    "        first_levels = glob.glob(os.path.join(self.feat_root, \n",
    "                                                   'sub-*', \n",
    "                                                   'ses-{}_fe.gfeat'.format(self.session), \n",
    "                                                   'cope{}.feat'.format(cope),\n",
    "                                                   'stats/cope1.nii.gz'))\n",
    "#         first_levels = [x.replace('./data/', '') for x in first_levels]\n",
    "        return first_levels\n",
    "        \n",
    "    def _load_if_exists(self, fn):\n",
    "        path = os.path.join(self.save_dir, fn)\n",
    "        if os.path.exists(path):\n",
    "            return nib.load(path)\n",
    "        else:\n",
    "            return None\n",
    "        \n",
    "    def _save_contrast_nii(self, nii, fn):\n",
    "        # save second level models\n",
    "        if not os.path.exists(self.save_dir):\n",
    "            os.makedirs(self.save_dir)\n",
    "        \n",
    "        nib.save(nii, os.path.join(self.save_dir, fn))\n",
    "\n",
    "    def fit_lisa(self):\n",
    "        # empty contrasts dictionary, will point to filenames\n",
    "#         self.first_level_contrasts = {x: [] for x in self.contrasts.keys()}\n",
    "        \n",
    "        if not os.path.exists(self.lisa_tmp_dir):\n",
    "            os.makedirs(self.lisa_tmp_dir)\n",
    "    \n",
    "        for cope in self.copes:  #contrast_name, contrast in self.contrasts.items():\n",
    "            if os.path.exists(os.path.join(self.lisa_tmp_dir, 'ses-{}_cope{}.nii'.format(self.session, cope))):\n",
    "                print('already exists, skipping')\n",
    "                continue\n",
    "                \n",
    "            # try to load previously run first...\n",
    "            contrast_fn = 'cope-{}.nii.gz'.format(cope)\n",
    "            contrast_nii = self._load_if_exists(contrast_fn)\n",
    "            if contrast_nii is not None:\n",
    "                self.zmaps[contrast_name] = contrast_nii\n",
    "                continue\n",
    "            \n",
    "            first_level_fns = self._get_first_levels(cope=cope)\n",
    "\n",
    "#             print(first_level_fns)\n",
    "            print('Converting to float32 using fslmaths...')\n",
    "            fns_full = [os.path.join(self.lisa_tmp_dir, x.replace(self.feat_root+'/', '').replace('/', '_')) for x in first_level_fns]\n",
    "            for fn_in, fn_tmp in zip(first_level_fns, fns_full):\n",
    "                cmd = ['fslmaths', fn_in, fn_tmp,  '-odt', 'float']\n",
    "                print(' '.join(cmd))\n",
    "                subprocess.call(cmd)\n",
    "            \n",
    "            cmd_onesample = self._make_lipsia_command(fns=fns_full)\n",
    "            cmd_conversion = self._make_lipsia_vnifti_command(fn='/data/ses-{}_cope{}'.format(self.session, cope))\n",
    "            print('Running command: {}'.format(cmd_onesample))\n",
    "            print(' '.join(cmd_onesample))\n",
    "            lipsia_output_onesample = subprocess.call(cmd_onesample)\n",
    "            print('done, output: {}'.format(lipsia_output_onesample))\n",
    "            \n",
    "            print('Running command: {}'.format(cmd_conversion))\n",
    "            lipsia_output_conversion = subprocess.call(cmd_conversion)\n",
    "            print('done, output: {}'.format(lipsia_output_conversion))\n",
    "            \n",
    "            # cleanup\n",
    "            print('cleanup...')\n",
    "            [os.remove(x) for x in glob.glob(os.path.join(self.lisa_tmp_dir, '*.nii.gz'))]\n",
    "            os.remove(os.path.join(self.lisa_tmp_dir, 'second_level_contrast.v'))\n",
    "            \n",
    "#             [os.remove(os.path.join(self.lisa_tmp_dir, x)) for x in first_level_fns]\n",
    "#             os.remove(os.path.join(self.lisa_tmp_dir, 'second_level_contrast.v'))\n",
    "            \n",
    "#             self.zmaps[contrast_name] = nib.load(os.path.join(self.lisa_tmp_dir, 'second_level_contrast.nii'))\n",
    "#             self._save_contrast_nii(self.zmaps[contrast_name], contrast_fn)\n",
    "            \n",
    "    def _make_lipsia_command(self, fns, out_fn='/data/second_level_contrast.v', docker=True):\n",
    "\n",
    "        if docker:\n",
    "            #fns = ['/data/' + x for x in fns]  # make sure to point at the /data-directory inside the Docker container\n",
    "            fns = [x.replace(self.lisa_tmp_dir, '/data') for x in fns]\n",
    "            cmd = ['docker', 'run', '-v', self.lisa_tmp_dir + ':/data', \n",
    "                   'lipsia', 'vlisa_onesample', '-alpha', str(self.level), '-in']\n",
    "            cmd += fns\n",
    "            cmd += ['-out', out_fn, '-cleanup', 'false']\n",
    "            #cmd = ' '.join(cmd)\n",
    "        else:\n",
    "            # not implemented\n",
    "            pass\n",
    "        \n",
    "        return cmd\n",
    "    \n",
    "    def _make_lipsia_vnifti_command(self, fn='/data/cope{}', docker=True):\n",
    "        \n",
    "        if docker:\n",
    "            cmd = ['docker', 'run', '-v', self.lisa_tmp_dir + ':/data', \n",
    "                   'lipsia', 'vnifti', '-in', '/data/second_level_contrast' + '.v', '-out', fn + '.nii']\n",
    "#            cmd = ' '.join(cmd)\n",
    "        else:\n",
    "            # not implemented\n",
    "            pass\n",
    "        \n",
    "        return cmd\n",
    "            "
   ]
  },
  {
   "cell_type": "code",
   "execution_count": 45,
   "metadata": {},
   "outputs": [
    {
     "name": "stdout",
     "output_type": "stream",
     "text": [
      "already exists, skipping\n",
      "already exists, skipping\n",
      "already exists, skipping\n",
      "already exists, skipping\n",
      "already exists, skipping\n",
      "already exists, skipping\n",
      "already exists, skipping\n",
      "already exists, skipping\n",
      "already exists, skipping\n",
      "already exists, skipping\n",
      "already exists, skipping\n",
      "already exists, skipping\n"
     ]
    }
   ],
   "source": [
    "for session in ['se', 'me']:\n",
    "    slm = SLM(copes=[1,2,3,7,8,9], session=session, level=0.025)  # NB: two-sided test, so half the level\n",
    "    slm.fit_lisa()"
   ]
  },
  {
   "cell_type": "code",
   "execution_count": null,
   "metadata": {},
   "outputs": [],
   "source": [
    "## done"
   ]
  }
 ],
 "metadata": {
  "kernelspec": {
   "display_name": "Python 3",
   "language": "python",
   "name": "python3"
  },
  "language_info": {
   "codemirror_mode": {
    "name": "ipython",
    "version": 3
   },
   "file_extension": ".py",
   "mimetype": "text/x-python",
   "name": "python",
   "nbconvert_exporter": "python",
   "pygments_lexer": "ipython3",
   "version": "3.6.0"
  }
 },
 "nbformat": 4,
 "nbformat_minor": 2
}
