{
 "cells": [
  {
   "cell_type": "markdown",
   "metadata": {},
   "source": [
    "## THIS COPY was created\n",
    "to smooth / header correct all individual echo data\n",
    "\n",
    "When this is done, this copy can be removed BUT the make_ev_files, make_motion_ev_files, "
   ]
  },
  {
   "cell_type": "code",
   "execution_count": 1,
   "metadata": {},
   "outputs": [],
   "source": [
    "import pandas as pd\n",
    "import numpy as np\n",
    "import glob\n",
    "\n",
    "# for masking\n",
    "from nilearn.input_data import NiftiMasker\n",
    "import nibabel as nib\n",
    "import itertools\n",
    "import multiprocessing as mp\n",
    "\n",
    "import os\n",
    "import shutil"
   ]
  },
  {
   "cell_type": "markdown",
   "metadata": {},
   "source": [
    "# Create EV-files\n",
    "\n",
    "1. ev-files with actual events, 3-column format"
   ]
  },
  {
   "cell_type": "code",
   "execution_count": 13,
   "metadata": {},
   "outputs": [],
   "source": [
    "def make_ev_files(sub, ses, run, evs=('go_trial', 'failed_stop', 'successful_stop')):\n",
    "    \n",
    "    if 'echo' in ses:\n",
    "        ses_ = 'me'\n",
    "    else:\n",
    "        ses_ = ses\n",
    "        \n",
    "    fn = './data/deriv/fmriprep/sub-{sub}/ses-{ses}/func/sub-{sub}_ses-{ses}_task-stop_run-{run}_events.tsv'.format(**{'sub':sub, 'ses':ses_, 'run':run})\n",
    "    output_dir = './data/feat_files/sub-{sub}/ses-{ses}/run-{run}/evs/'.format(**{'sub':sub, 'ses':ses, 'run':run})\n",
    "    if not os.path.exists(output_dir):\n",
    "        os.makedirs(output_dir)\n",
    "\n",
    "    events = pd.read_csv(fn, sep='\\t')\n",
    "    events['weight'] = 1.\n",
    "    events['onset'] -= 1.5  # slice timing correction\n",
    "\n",
    "    for i, ev in enumerate(evs):\n",
    "        events.loc[events['trial_type']==ev, ['onset', 'duration', 'weight']].to_csv(output_dir+'{}.txt'.format(ev), sep='\\t', index=False, header=False)\n",
    "\n",
    "subjects = np.arange(1, 19)\n",
    "# sessions = ['se', 'me']\n",
    "sessions = ['echo-1', 'echo-2', 'echo-3']\n",
    "runs = [1,2,3]\n",
    "\n",
    "for sub in subjects:\n",
    "    for ses in sessions:\n",
    "        if sub == 12 and not ses == 'se':\n",
    "            continue\n",
    "            \n",
    "        for run in runs:\n",
    "            if sub == 17 and run == 3:\n",
    "                continue\n",
    "            make_ev_files(str(sub).zfill(2), ses, run)"
   ]
  },
  {
   "cell_type": "markdown",
   "metadata": {},
   "source": [
    "2. ev-files with motion parameters that are not convolved"
   ]
  },
  {
   "cell_type": "code",
   "execution_count": 14,
   "metadata": {},
   "outputs": [],
   "source": [
    "def make_motion_ev_files(sub, ses, run, evs=('trans_x', 'trans_y', 'trans_z', 'rot_x', 'rot_y', 'rot_z', 'framewise_displacement')):\n",
    "\n",
    "    output_dir = './data/feat_files/sub-{sub}/ses-{ses}/run-{run}/evs/'.format(**{'sub':sub, 'ses':ses, 'run':run})\n",
    "    if not os.path.exists(output_dir):\n",
    "        os.makedirs(output_dir, exist_ok=True)\n",
    "\n",
    "    if ses == 'se':\n",
    "        fn = './data/deriv/fmriprep/sub-{sub}/ses-se/func/sub-{sub}_ses-se_task-stop_run-{run}_desc-confounds_regressors.tsv'.format(**{'sub':sub, 'run':run})\n",
    "    else:\n",
    "        fn = './data/deriv/fmriprep/sub-{sub}/ses-me/func/sub-{sub}_ses-me_task-stop_run-{run}_echo-1_desc-confounds_regressors.tsv'.format(**{'sub':sub, 'run':run})\n",
    "\n",
    "    events = pd.read_csv(fn, sep='\\t')\n",
    "\n",
    "    for i, ev in enumerate(evs):\n",
    "        events[ev].fillna(0).to_csv(output_dir+'{}.txt'.format(ev), sep='\\t', index=False, header=False)\n",
    "    \n",
    "subjects = np.arange(1, 19)\n",
    "# sessions = ['se', 'me']\n",
    "sessions = ['echo-1', 'echo-2', 'echo-3']\n",
    "runs = [1,2,3]\n",
    "\n",
    "for sub in subjects:\n",
    "    for ses in sessions:\n",
    "        if sub == 12 and not ses == 'se':\n",
    "            continue\n",
    "            \n",
    "        for run in runs:\n",
    "            if sub == 17 and run == 3:\n",
    "                continue\n",
    "            make_motion_ev_files(str(sub).zfill(2), ses, run)"
   ]
  },
  {
   "cell_type": "markdown",
   "metadata": {},
   "source": [
    "# Correction in header\n",
    "For some reason, FSL wrongly believes the func data files have a TR of 1. This needs to be corrected. We can use FSLmerge for this\n"
   ]
  },
  {
   "cell_type": "code",
   "execution_count": 4,
   "metadata": {},
   "outputs": [],
   "source": [
    "# subjects = np.arange(1, 19)\n",
    "# sessions = ['se', 'me']\n",
    "# runs = [1,2,3]\n",
    "# cmds = []\n",
    "\n",
    "# for sub in subjects:\n",
    "#     for ses in sessions:\n",
    "#         if sub == 12 and ses == 'me':\n",
    "#             continue\n",
    "        \n",
    "#         current_dir = './data/deriv/fmriprep/sub-{}/ses-{}/func'.format(str(sub).zfill(2), ses)\n",
    "            \n",
    "#         for run in runs:\n",
    "#             if sub == 17 and run == 3:\n",
    "#                 continue\n",
    "                \n",
    "#             if ses == 'me':\n",
    "#                 current_fn = 'sub-{}_ses-me_task-stop_run-{}_space-MNI152NLin2009cAsym_desc-preproc-hp-optcomb_bold.nii.gz'.format(str(sub).zfill(2), run)\n",
    "#             else:\n",
    "#                 current_fn = 'sub-{}_ses-se_task-stop_run-{}_space-MNI152NLin2009cAsym_desc-preproc-hp_bold.nii.gz'.format(str(sub).zfill(2), run)\n",
    "\n",
    "#             output_dir = './data/feat_files/sub-{sub}/ses-{ses}/run-{run}/func'.format(**{'sub':str(sub).zfill(2), \n",
    "#                                                                                           'ses':ses, \n",
    "#                                                                                           'run':run})\n",
    "#             if not os.path.exists(output_dir):\n",
    "#                 os.makedirs(output_dir, exist_ok=True)\n",
    "            \n",
    "            \n",
    "#             cmds.append('fslmerge -tr {} {} 3'.format(os.path.join(output_dir, current_fn), \n",
    "#                                                       os.path.join(current_dir, current_fn)))\n",
    "\n",
    "# ## slow\n",
    "# # for cmd in cmds:\n",
    "# #     os.system(cmd)"
   ]
  },
  {
   "cell_type": "markdown",
   "metadata": {},
   "source": [
    "## Apply brain mask to data\n",
    "The single echo data has not been masked yet"
   ]
  },
  {
   "cell_type": "code",
   "execution_count": 24,
   "metadata": {
    "scrolled": true
   },
   "outputs": [
    {
     "name": "stdout",
     "output_type": "stream",
     "text": [
      "./data/deriv/fmriprep/sub-13/ses-me/func/sub-13_ses-me_task-stop_run-1_echo-2_space-MNI152NLin2009cAsym_desc-preproc-hp_bold.nii.gz\n",
      "./data/deriv/fmriprep/sub-14/ses-me/func/sub-14_ses-me_task-stop_run-1_echo-1_space-MNI152NLin2009cAsym_desc-preproc-hp_bold.nii.gz\n",
      "./data/deriv/fmriprep/sub-13/ses-me/func/sub-13_ses-me_task-stop_run-1_echo-1_space-MNI152NLin2009cAsym_desc-preproc-hp_bold.nii.gz\n"
     ]
    },
    {
     "name": "stderr",
     "output_type": "stream",
     "text": [
      "/home/stevenm/.conda/envs/python3/lib/python3.6/site-packages/numpy/lib/type_check.py:546: DeprecationWarning: np.asscalar(a) is deprecated since NumPy v1.16, use a.item() instead\n",
      "  'a.item() instead', DeprecationWarning, stacklevel=1)\n",
      "/home/stevenm/.conda/envs/python3/lib/python3.6/site-packages/numpy/lib/type_check.py:546: DeprecationWarning: np.asscalar(a) is deprecated since NumPy v1.16, use a.item() instead\n",
      "  'a.item() instead', DeprecationWarning, stacklevel=1)\n",
      "/home/stevenm/.conda/envs/python3/lib/python3.6/site-packages/numpy/lib/type_check.py:546: DeprecationWarning: np.asscalar(a) is deprecated since NumPy v1.16, use a.item() instead\n",
      "  'a.item() instead', DeprecationWarning, stacklevel=1)\n",
      "/home/stevenm/.conda/envs/python3/lib/python3.6/site-packages/nilearn/_utils/cache_mixin.py:232: DeprecationWarning: The 'cachedir' attribute has been deprecated in version 0.12 and will be removed in version 0.14.\n",
      "Use os.path.join(memory.location, 'joblib') attribute instead.\n",
      "  if (memory.cachedir is None and memory_level is not None\n",
      "/home/stevenm/.conda/envs/python3/lib/python3.6/site-packages/nilearn/_utils/cache_mixin.py:232: DeprecationWarning: The 'cachedir' attribute has been deprecated in version 0.12 and will be removed in version 0.14.\n",
      "Use os.path.join(memory.location, 'joblib') attribute instead.\n",
      "  if (memory.cachedir is None and memory_level is not None\n",
      "/home/stevenm/.conda/envs/python3/lib/python3.6/site-packages/nilearn/_utils/cache_mixin.py:232: DeprecationWarning: The 'cachedir' attribute has been deprecated in version 0.12 and will be removed in version 0.14.\n",
      "Use os.path.join(memory.location, 'joblib') attribute instead.\n",
      "  if (memory.cachedir is None and memory_level is not None\n"
     ]
    },
    {
     "name": "stdout",
     "output_type": "stream",
     "text": [
      "./data/deriv/fmriprep/sub-14/ses-me/func/sub-14_ses-me_task-stop_run-2_echo-1_space-MNI152NLin2009cAsym_desc-preproc-hp_bold.nii.gz\n"
     ]
    },
    {
     "name": "stderr",
     "output_type": "stream",
     "text": [
      "/home/stevenm/.conda/envs/python3/lib/python3.6/site-packages/numpy/lib/type_check.py:546: DeprecationWarning: np.asscalar(a) is deprecated since NumPy v1.16, use a.item() instead\n",
      "  'a.item() instead', DeprecationWarning, stacklevel=1)\n",
      "/home/stevenm/.conda/envs/python3/lib/python3.6/site-packages/nilearn/_utils/cache_mixin.py:232: DeprecationWarning: The 'cachedir' attribute has been deprecated in version 0.12 and will be removed in version 0.14.\n",
      "Use os.path.join(memory.location, 'joblib') attribute instead.\n",
      "  if (memory.cachedir is None and memory_level is not None\n"
     ]
    },
    {
     "name": "stdout",
     "output_type": "stream",
     "text": [
      "./data/deriv/fmriprep/sub-13/ses-me/func/sub-13_ses-me_task-stop_run-2_echo-1_space-MNI152NLin2009cAsym_desc-preproc-hp_bold.nii.gz\n"
     ]
    },
    {
     "name": "stderr",
     "output_type": "stream",
     "text": [
      "/home/stevenm/.conda/envs/python3/lib/python3.6/site-packages/numpy/lib/type_check.py:546: DeprecationWarning: np.asscalar(a) is deprecated since NumPy v1.16, use a.item() instead\n",
      "  'a.item() instead', DeprecationWarning, stacklevel=1)\n",
      "/home/stevenm/.conda/envs/python3/lib/python3.6/site-packages/nilearn/_utils/cache_mixin.py:232: DeprecationWarning: The 'cachedir' attribute has been deprecated in version 0.12 and will be removed in version 0.14.\n",
      "Use os.path.join(memory.location, 'joblib') attribute instead.\n",
      "  if (memory.cachedir is None and memory_level is not None\n"
     ]
    },
    {
     "name": "stdout",
     "output_type": "stream",
     "text": [
      "./data/deriv/fmriprep/sub-13/ses-me/func/sub-13_ses-me_task-stop_run-2_echo-2_space-MNI152NLin2009cAsym_desc-preproc-hp_bold.nii.gz\n"
     ]
    },
    {
     "name": "stderr",
     "output_type": "stream",
     "text": [
      "/home/stevenm/.conda/envs/python3/lib/python3.6/site-packages/numpy/lib/type_check.py:546: DeprecationWarning: np.asscalar(a) is deprecated since NumPy v1.16, use a.item() instead\n",
      "  'a.item() instead', DeprecationWarning, stacklevel=1)\n",
      "/home/stevenm/.conda/envs/python3/lib/python3.6/site-packages/nilearn/_utils/cache_mixin.py:232: DeprecationWarning: The 'cachedir' attribute has been deprecated in version 0.12 and will be removed in version 0.14.\n",
      "Use os.path.join(memory.location, 'joblib') attribute instead.\n",
      "  if (memory.cachedir is None and memory_level is not None\n"
     ]
    },
    {
     "name": "stdout",
     "output_type": "stream",
     "text": [
      "./data/deriv/fmriprep/sub-14/ses-me/func/sub-14_ses-me_task-stop_run-3_echo-1_space-MNI152NLin2009cAsym_desc-preproc-hp_bold.nii.gz\n"
     ]
    },
    {
     "name": "stderr",
     "output_type": "stream",
     "text": [
      "/home/stevenm/.conda/envs/python3/lib/python3.6/site-packages/numpy/lib/type_check.py:546: DeprecationWarning: np.asscalar(a) is deprecated since NumPy v1.16, use a.item() instead\n",
      "  'a.item() instead', DeprecationWarning, stacklevel=1)\n",
      "/home/stevenm/.conda/envs/python3/lib/python3.6/site-packages/nilearn/_utils/cache_mixin.py:232: DeprecationWarning: The 'cachedir' attribute has been deprecated in version 0.12 and will be removed in version 0.14.\n",
      "Use os.path.join(memory.location, 'joblib') attribute instead.\n",
      "  if (memory.cachedir is None and memory_level is not None\n"
     ]
    },
    {
     "name": "stdout",
     "output_type": "stream",
     "text": [
      "./data/deriv/fmriprep/sub-13/ses-me/func/sub-13_ses-me_task-stop_run-3_echo-2_space-MNI152NLin2009cAsym_desc-preproc-hp_bold.nii.gz\n"
     ]
    },
    {
     "name": "stderr",
     "output_type": "stream",
     "text": [
      "/home/stevenm/.conda/envs/python3/lib/python3.6/site-packages/numpy/lib/type_check.py:546: DeprecationWarning: np.asscalar(a) is deprecated since NumPy v1.16, use a.item() instead\n",
      "  'a.item() instead', DeprecationWarning, stacklevel=1)\n",
      "/home/stevenm/.conda/envs/python3/lib/python3.6/site-packages/nilearn/_utils/cache_mixin.py:232: DeprecationWarning: The 'cachedir' attribute has been deprecated in version 0.12 and will be removed in version 0.14.\n",
      "Use os.path.join(memory.location, 'joblib') attribute instead.\n",
      "  if (memory.cachedir is None and memory_level is not None\n"
     ]
    },
    {
     "name": "stdout",
     "output_type": "stream",
     "text": [
      "./data/deriv/fmriprep/sub-13/ses-me/func/sub-13_ses-me_task-stop_run-3_echo-1_space-MNI152NLin2009cAsym_desc-preproc-hp_bold.nii.gz\n"
     ]
    },
    {
     "name": "stderr",
     "output_type": "stream",
     "text": [
      "/home/stevenm/.conda/envs/python3/lib/python3.6/site-packages/numpy/lib/type_check.py:546: DeprecationWarning: np.asscalar(a) is deprecated since NumPy v1.16, use a.item() instead\n",
      "  'a.item() instead', DeprecationWarning, stacklevel=1)\n",
      "/home/stevenm/.conda/envs/python3/lib/python3.6/site-packages/nilearn/_utils/cache_mixin.py:232: DeprecationWarning: The 'cachedir' attribute has been deprecated in version 0.12 and will be removed in version 0.14.\n",
      "Use os.path.join(memory.location, 'joblib') attribute instead.\n",
      "  if (memory.cachedir is None and memory_level is not None\n"
     ]
    },
    {
     "name": "stdout",
     "output_type": "stream",
     "text": [
      "./data/deriv/fmriprep/sub-14/ses-me/func/sub-14_ses-me_task-stop_run-1_echo-2_space-MNI152NLin2009cAsym_desc-preproc-hp_bold.nii.gz\n"
     ]
    },
    {
     "name": "stderr",
     "output_type": "stream",
     "text": [
      "/home/stevenm/.conda/envs/python3/lib/python3.6/site-packages/numpy/lib/type_check.py:546: DeprecationWarning: np.asscalar(a) is deprecated since NumPy v1.16, use a.item() instead\n",
      "  'a.item() instead', DeprecationWarning, stacklevel=1)\n",
      "/home/stevenm/.conda/envs/python3/lib/python3.6/site-packages/nilearn/_utils/cache_mixin.py:232: DeprecationWarning: The 'cachedir' attribute has been deprecated in version 0.12 and will be removed in version 0.14.\n",
      "Use os.path.join(memory.location, 'joblib') attribute instead.\n",
      "  if (memory.cachedir is None and memory_level is not None\n"
     ]
    },
    {
     "name": "stdout",
     "output_type": "stream",
     "text": [
      "./data/deriv/fmriprep/sub-13/ses-me/func/sub-13_ses-me_task-stop_run-1_echo-3_space-MNI152NLin2009cAsym_desc-preproc-hp_bold.nii.gz\n"
     ]
    },
    {
     "name": "stderr",
     "output_type": "stream",
     "text": [
      "/home/stevenm/.conda/envs/python3/lib/python3.6/site-packages/numpy/lib/type_check.py:546: DeprecationWarning: np.asscalar(a) is deprecated since NumPy v1.16, use a.item() instead\n",
      "  'a.item() instead', DeprecationWarning, stacklevel=1)\n",
      "/home/stevenm/.conda/envs/python3/lib/python3.6/site-packages/nilearn/_utils/cache_mixin.py:232: DeprecationWarning: The 'cachedir' attribute has been deprecated in version 0.12 and will be removed in version 0.14.\n",
      "Use os.path.join(memory.location, 'joblib') attribute instead.\n",
      "  if (memory.cachedir is None and memory_level is not None\n"
     ]
    },
    {
     "name": "stdout",
     "output_type": "stream",
     "text": [
      "./data/deriv/fmriprep/sub-14/ses-me/func/sub-14_ses-me_task-stop_run-1_echo-3_space-MNI152NLin2009cAsym_desc-preproc-hp_bold.nii.gz\n"
     ]
    },
    {
     "name": "stderr",
     "output_type": "stream",
     "text": [
      "/home/stevenm/.conda/envs/python3/lib/python3.6/site-packages/numpy/lib/type_check.py:546: DeprecationWarning: np.asscalar(a) is deprecated since NumPy v1.16, use a.item() instead\n",
      "  'a.item() instead', DeprecationWarning, stacklevel=1)\n",
      "/home/stevenm/.conda/envs/python3/lib/python3.6/site-packages/nilearn/_utils/cache_mixin.py:232: DeprecationWarning: The 'cachedir' attribute has been deprecated in version 0.12 and will be removed in version 0.14.\n",
      "Use os.path.join(memory.location, 'joblib') attribute instead.\n",
      "  if (memory.cachedir is None and memory_level is not None\n"
     ]
    },
    {
     "name": "stdout",
     "output_type": "stream",
     "text": [
      "./data/deriv/fmriprep/sub-14/ses-me/func/sub-14_ses-me_task-stop_run-2_echo-2_space-MNI152NLin2009cAsym_desc-preproc-hp_bold.nii.gz\n"
     ]
    },
    {
     "name": "stderr",
     "output_type": "stream",
     "text": [
      "/home/stevenm/.conda/envs/python3/lib/python3.6/site-packages/numpy/lib/type_check.py:546: DeprecationWarning: np.asscalar(a) is deprecated since NumPy v1.16, use a.item() instead\n",
      "  'a.item() instead', DeprecationWarning, stacklevel=1)\n",
      "/home/stevenm/.conda/envs/python3/lib/python3.6/site-packages/nilearn/_utils/cache_mixin.py:232: DeprecationWarning: The 'cachedir' attribute has been deprecated in version 0.12 and will be removed in version 0.14.\n",
      "Use os.path.join(memory.location, 'joblib') attribute instead.\n",
      "  if (memory.cachedir is None and memory_level is not None\n"
     ]
    },
    {
     "name": "stdout",
     "output_type": "stream",
     "text": [
      "./data/deriv/fmriprep/sub-13/ses-me/func/sub-13_ses-me_task-stop_run-2_echo-3_space-MNI152NLin2009cAsym_desc-preproc-hp_bold.nii.gz\n"
     ]
    },
    {
     "name": "stderr",
     "output_type": "stream",
     "text": [
      "/home/stevenm/.conda/envs/python3/lib/python3.6/site-packages/numpy/lib/type_check.py:546: DeprecationWarning: np.asscalar(a) is deprecated since NumPy v1.16, use a.item() instead\n",
      "  'a.item() instead', DeprecationWarning, stacklevel=1)\n",
      "/home/stevenm/.conda/envs/python3/lib/python3.6/site-packages/nilearn/_utils/cache_mixin.py:232: DeprecationWarning: The 'cachedir' attribute has been deprecated in version 0.12 and will be removed in version 0.14.\n",
      "Use os.path.join(memory.location, 'joblib') attribute instead.\n",
      "  if (memory.cachedir is None and memory_level is not None\n"
     ]
    },
    {
     "name": "stdout",
     "output_type": "stream",
     "text": [
      "./data/deriv/fmriprep/sub-14/ses-me/func/sub-14_ses-me_task-stop_run-2_echo-3_space-MNI152NLin2009cAsym_desc-preproc-hp_bold.nii.gz\n"
     ]
    },
    {
     "name": "stderr",
     "output_type": "stream",
     "text": [
      "/home/stevenm/.conda/envs/python3/lib/python3.6/site-packages/numpy/lib/type_check.py:546: DeprecationWarning: np.asscalar(a) is deprecated since NumPy v1.16, use a.item() instead\n",
      "  'a.item() instead', DeprecationWarning, stacklevel=1)\n",
      "/home/stevenm/.conda/envs/python3/lib/python3.6/site-packages/nilearn/_utils/cache_mixin.py:232: DeprecationWarning: The 'cachedir' attribute has been deprecated in version 0.12 and will be removed in version 0.14.\n",
      "Use os.path.join(memory.location, 'joblib') attribute instead.\n",
      "  if (memory.cachedir is None and memory_level is not None\n"
     ]
    },
    {
     "name": "stdout",
     "output_type": "stream",
     "text": [
      "./data/deriv/fmriprep/sub-14/ses-me/func/sub-14_ses-me_task-stop_run-3_echo-2_space-MNI152NLin2009cAsym_desc-preproc-hp_bold.nii.gz\n"
     ]
    },
    {
     "name": "stderr",
     "output_type": "stream",
     "text": [
      "/home/stevenm/.conda/envs/python3/lib/python3.6/site-packages/numpy/lib/type_check.py:546: DeprecationWarning: np.asscalar(a) is deprecated since NumPy v1.16, use a.item() instead\n",
      "  'a.item() instead', DeprecationWarning, stacklevel=1)\n",
      "/home/stevenm/.conda/envs/python3/lib/python3.6/site-packages/nilearn/_utils/cache_mixin.py:232: DeprecationWarning: The 'cachedir' attribute has been deprecated in version 0.12 and will be removed in version 0.14.\n",
      "Use os.path.join(memory.location, 'joblib') attribute instead.\n",
      "  if (memory.cachedir is None and memory_level is not None\n"
     ]
    },
    {
     "name": "stdout",
     "output_type": "stream",
     "text": [
      "./data/deriv/fmriprep/sub-13/ses-me/func/sub-13_ses-me_task-stop_run-3_echo-3_space-MNI152NLin2009cAsym_desc-preproc-hp_bold.nii.gz\n"
     ]
    },
    {
     "name": "stderr",
     "output_type": "stream",
     "text": [
      "/home/stevenm/.conda/envs/python3/lib/python3.6/site-packages/numpy/lib/type_check.py:546: DeprecationWarning: np.asscalar(a) is deprecated since NumPy v1.16, use a.item() instead\n",
      "  'a.item() instead', DeprecationWarning, stacklevel=1)\n",
      "/home/stevenm/.conda/envs/python3/lib/python3.6/site-packages/nilearn/_utils/cache_mixin.py:232: DeprecationWarning: The 'cachedir' attribute has been deprecated in version 0.12 and will be removed in version 0.14.\n",
      "Use os.path.join(memory.location, 'joblib') attribute instead.\n",
      "  if (memory.cachedir is None and memory_level is not None\n"
     ]
    },
    {
     "name": "stdout",
     "output_type": "stream",
     "text": [
      "./data/deriv/fmriprep/sub-14/ses-me/func/sub-14_ses-me_task-stop_run-3_echo-3_space-MNI152NLin2009cAsym_desc-preproc-hp_bold.nii.gz\n"
     ]
    },
    {
     "name": "stderr",
     "output_type": "stream",
     "text": [
      "/home/stevenm/.conda/envs/python3/lib/python3.6/site-packages/numpy/lib/type_check.py:546: DeprecationWarning: np.asscalar(a) is deprecated since NumPy v1.16, use a.item() instead\n",
      "  'a.item() instead', DeprecationWarning, stacklevel=1)\n",
      "/home/stevenm/.conda/envs/python3/lib/python3.6/site-packages/nilearn/_utils/cache_mixin.py:232: DeprecationWarning: The 'cachedir' attribute has been deprecated in version 0.12 and will be removed in version 0.14.\n",
      "Use os.path.join(memory.location, 'joblib') attribute instead.\n",
      "  if (memory.cachedir is None and memory_level is not None\n"
     ]
    },
    {
     "name": "stdout",
     "output_type": "stream",
     "text": [
      "./data/deriv/fmriprep/sub-15/ses-me/func/sub-15_ses-me_task-stop_run-1_echo-2_space-MNI152NLin2009cAsym_desc-preproc-hp_bold.nii.gz\n"
     ]
    },
    {
     "name": "stderr",
     "output_type": "stream",
     "text": [
      "/home/stevenm/.conda/envs/python3/lib/python3.6/site-packages/numpy/lib/type_check.py:546: DeprecationWarning: np.asscalar(a) is deprecated since NumPy v1.16, use a.item() instead\n",
      "  'a.item() instead', DeprecationWarning, stacklevel=1)\n",
      "/home/stevenm/.conda/envs/python3/lib/python3.6/site-packages/nilearn/_utils/cache_mixin.py:232: DeprecationWarning: The 'cachedir' attribute has been deprecated in version 0.12 and will be removed in version 0.14.\n",
      "Use os.path.join(memory.location, 'joblib') attribute instead.\n",
      "  if (memory.cachedir is None and memory_level is not None\n"
     ]
    },
    {
     "name": "stdout",
     "output_type": "stream",
     "text": [
      "./data/deriv/fmriprep/sub-16/ses-me/func/sub-16_ses-me_task-stop_run-1_echo-1_space-MNI152NLin2009cAsym_desc-preproc-hp_bold.nii.gz\n"
     ]
    },
    {
     "name": "stderr",
     "output_type": "stream",
     "text": [
      "/home/stevenm/.conda/envs/python3/lib/python3.6/site-packages/numpy/lib/type_check.py:546: DeprecationWarning: np.asscalar(a) is deprecated since NumPy v1.16, use a.item() instead\n",
      "  'a.item() instead', DeprecationWarning, stacklevel=1)\n",
      "/home/stevenm/.conda/envs/python3/lib/python3.6/site-packages/nilearn/_utils/cache_mixin.py:232: DeprecationWarning: The 'cachedir' attribute has been deprecated in version 0.12 and will be removed in version 0.14.\n",
      "Use os.path.join(memory.location, 'joblib') attribute instead.\n",
      "  if (memory.cachedir is None and memory_level is not None\n"
     ]
    },
    {
     "name": "stdout",
     "output_type": "stream",
     "text": [
      "./data/deriv/fmriprep/sub-15/ses-me/func/sub-15_ses-me_task-stop_run-1_echo-1_space-MNI152NLin2009cAsym_desc-preproc-hp_bold.nii.gz\n"
     ]
    },
    {
     "name": "stderr",
     "output_type": "stream",
     "text": [
      "/home/stevenm/.conda/envs/python3/lib/python3.6/site-packages/numpy/lib/type_check.py:546: DeprecationWarning: np.asscalar(a) is deprecated since NumPy v1.16, use a.item() instead\n",
      "  'a.item() instead', DeprecationWarning, stacklevel=1)\n",
      "/home/stevenm/.conda/envs/python3/lib/python3.6/site-packages/nilearn/_utils/cache_mixin.py:232: DeprecationWarning: The 'cachedir' attribute has been deprecated in version 0.12 and will be removed in version 0.14.\n",
      "Use os.path.join(memory.location, 'joblib') attribute instead.\n",
      "  if (memory.cachedir is None and memory_level is not None\n"
     ]
    },
    {
     "name": "stdout",
     "output_type": "stream",
     "text": [
      "./data/deriv/fmriprep/sub-15/ses-me/func/sub-15_ses-me_task-stop_run-2_echo-2_space-MNI152NLin2009cAsym_desc-preproc-hp_bold.nii.gz\n"
     ]
    },
    {
     "name": "stderr",
     "output_type": "stream",
     "text": [
      "/home/stevenm/.conda/envs/python3/lib/python3.6/site-packages/numpy/lib/type_check.py:546: DeprecationWarning: np.asscalar(a) is deprecated since NumPy v1.16, use a.item() instead\n",
      "  'a.item() instead', DeprecationWarning, stacklevel=1)\n",
      "/home/stevenm/.conda/envs/python3/lib/python3.6/site-packages/nilearn/_utils/cache_mixin.py:232: DeprecationWarning: The 'cachedir' attribute has been deprecated in version 0.12 and will be removed in version 0.14.\n",
      "Use os.path.join(memory.location, 'joblib') attribute instead.\n",
      "  if (memory.cachedir is None and memory_level is not None\n"
     ]
    },
    {
     "name": "stdout",
     "output_type": "stream",
     "text": [
      "./data/deriv/fmriprep/sub-16/ses-me/func/sub-16_ses-me_task-stop_run-2_echo-1_space-MNI152NLin2009cAsym_desc-preproc-hp_bold.nii.gz\n"
     ]
    },
    {
     "name": "stderr",
     "output_type": "stream",
     "text": [
      "/home/stevenm/.conda/envs/python3/lib/python3.6/site-packages/numpy/lib/type_check.py:546: DeprecationWarning: np.asscalar(a) is deprecated since NumPy v1.16, use a.item() instead\n",
      "  'a.item() instead', DeprecationWarning, stacklevel=1)\n",
      "/home/stevenm/.conda/envs/python3/lib/python3.6/site-packages/nilearn/_utils/cache_mixin.py:232: DeprecationWarning: The 'cachedir' attribute has been deprecated in version 0.12 and will be removed in version 0.14.\n",
      "Use os.path.join(memory.location, 'joblib') attribute instead.\n",
      "  if (memory.cachedir is None and memory_level is not None\n"
     ]
    },
    {
     "name": "stdout",
     "output_type": "stream",
     "text": [
      "./data/deriv/fmriprep/sub-15/ses-me/func/sub-15_ses-me_task-stop_run-2_echo-1_space-MNI152NLin2009cAsym_desc-preproc-hp_bold.nii.gz\n"
     ]
    },
    {
     "name": "stderr",
     "output_type": "stream",
     "text": [
      "/home/stevenm/.conda/envs/python3/lib/python3.6/site-packages/numpy/lib/type_check.py:546: DeprecationWarning: np.asscalar(a) is deprecated since NumPy v1.16, use a.item() instead\n",
      "  'a.item() instead', DeprecationWarning, stacklevel=1)\n",
      "/home/stevenm/.conda/envs/python3/lib/python3.6/site-packages/nilearn/_utils/cache_mixin.py:232: DeprecationWarning: The 'cachedir' attribute has been deprecated in version 0.12 and will be removed in version 0.14.\n",
      "Use os.path.join(memory.location, 'joblib') attribute instead.\n",
      "  if (memory.cachedir is None and memory_level is not None\n"
     ]
    },
    {
     "name": "stdout",
     "output_type": "stream",
     "text": [
      "./data/deriv/fmriprep/sub-15/ses-me/func/sub-15_ses-me_task-stop_run-3_echo-2_space-MNI152NLin2009cAsym_desc-preproc-hp_bold.nii.gz\n"
     ]
    },
    {
     "name": "stderr",
     "output_type": "stream",
     "text": [
      "/home/stevenm/.conda/envs/python3/lib/python3.6/site-packages/numpy/lib/type_check.py:546: DeprecationWarning: np.asscalar(a) is deprecated since NumPy v1.16, use a.item() instead\n",
      "  'a.item() instead', DeprecationWarning, stacklevel=1)\n",
      "/home/stevenm/.conda/envs/python3/lib/python3.6/site-packages/nilearn/_utils/cache_mixin.py:232: DeprecationWarning: The 'cachedir' attribute has been deprecated in version 0.12 and will be removed in version 0.14.\n",
      "Use os.path.join(memory.location, 'joblib') attribute instead.\n",
      "  if (memory.cachedir is None and memory_level is not None\n"
     ]
    },
    {
     "name": "stdout",
     "output_type": "stream",
     "text": [
      "./data/deriv/fmriprep/sub-16/ses-me/func/sub-16_ses-me_task-stop_run-3_echo-1_space-MNI152NLin2009cAsym_desc-preproc-hp_bold.nii.gz\n"
     ]
    },
    {
     "name": "stderr",
     "output_type": "stream",
     "text": [
      "/home/stevenm/.conda/envs/python3/lib/python3.6/site-packages/numpy/lib/type_check.py:546: DeprecationWarning: np.asscalar(a) is deprecated since NumPy v1.16, use a.item() instead\n",
      "  'a.item() instead', DeprecationWarning, stacklevel=1)\n",
      "/home/stevenm/.conda/envs/python3/lib/python3.6/site-packages/nilearn/_utils/cache_mixin.py:232: DeprecationWarning: The 'cachedir' attribute has been deprecated in version 0.12 and will be removed in version 0.14.\n",
      "Use os.path.join(memory.location, 'joblib') attribute instead.\n",
      "  if (memory.cachedir is None and memory_level is not None\n"
     ]
    },
    {
     "name": "stdout",
     "output_type": "stream",
     "text": [
      "./data/deriv/fmriprep/sub-15/ses-me/func/sub-15_ses-me_task-stop_run-3_echo-1_space-MNI152NLin2009cAsym_desc-preproc-hp_bold.nii.gz\n"
     ]
    },
    {
     "name": "stderr",
     "output_type": "stream",
     "text": [
      "/home/stevenm/.conda/envs/python3/lib/python3.6/site-packages/numpy/lib/type_check.py:546: DeprecationWarning: np.asscalar(a) is deprecated since NumPy v1.16, use a.item() instead\n",
      "  'a.item() instead', DeprecationWarning, stacklevel=1)\n",
      "/home/stevenm/.conda/envs/python3/lib/python3.6/site-packages/nilearn/_utils/cache_mixin.py:232: DeprecationWarning: The 'cachedir' attribute has been deprecated in version 0.12 and will be removed in version 0.14.\n",
      "Use os.path.join(memory.location, 'joblib') attribute instead.\n",
      "  if (memory.cachedir is None and memory_level is not None\n"
     ]
    },
    {
     "name": "stdout",
     "output_type": "stream",
     "text": [
      "./data/deriv/fmriprep/sub-15/ses-me/func/sub-15_ses-me_task-stop_run-1_echo-3_space-MNI152NLin2009cAsym_desc-preproc-hp_bold.nii.gz\n"
     ]
    },
    {
     "name": "stderr",
     "output_type": "stream",
     "text": [
      "/home/stevenm/.conda/envs/python3/lib/python3.6/site-packages/numpy/lib/type_check.py:546: DeprecationWarning: np.asscalar(a) is deprecated since NumPy v1.16, use a.item() instead\n",
      "  'a.item() instead', DeprecationWarning, stacklevel=1)\n",
      "/home/stevenm/.conda/envs/python3/lib/python3.6/site-packages/nilearn/_utils/cache_mixin.py:232: DeprecationWarning: The 'cachedir' attribute has been deprecated in version 0.12 and will be removed in version 0.14.\n",
      "Use os.path.join(memory.location, 'joblib') attribute instead.\n",
      "  if (memory.cachedir is None and memory_level is not None\n"
     ]
    },
    {
     "name": "stdout",
     "output_type": "stream",
     "text": [
      "./data/deriv/fmriprep/sub-16/ses-me/func/sub-16_ses-me_task-stop_run-1_echo-2_space-MNI152NLin2009cAsym_desc-preproc-hp_bold.nii.gz\n"
     ]
    },
    {
     "name": "stderr",
     "output_type": "stream",
     "text": [
      "/home/stevenm/.conda/envs/python3/lib/python3.6/site-packages/numpy/lib/type_check.py:546: DeprecationWarning: np.asscalar(a) is deprecated since NumPy v1.16, use a.item() instead\n",
      "  'a.item() instead', DeprecationWarning, stacklevel=1)\n",
      "/home/stevenm/.conda/envs/python3/lib/python3.6/site-packages/nilearn/_utils/cache_mixin.py:232: DeprecationWarning: The 'cachedir' attribute has been deprecated in version 0.12 and will be removed in version 0.14.\n",
      "Use os.path.join(memory.location, 'joblib') attribute instead.\n",
      "  if (memory.cachedir is None and memory_level is not None\n"
     ]
    },
    {
     "name": "stdout",
     "output_type": "stream",
     "text": [
      "./data/deriv/fmriprep/sub-16/ses-me/func/sub-16_ses-me_task-stop_run-1_echo-3_space-MNI152NLin2009cAsym_desc-preproc-hp_bold.nii.gz\n"
     ]
    },
    {
     "name": "stderr",
     "output_type": "stream",
     "text": [
      "/home/stevenm/.conda/envs/python3/lib/python3.6/site-packages/numpy/lib/type_check.py:546: DeprecationWarning: np.asscalar(a) is deprecated since NumPy v1.16, use a.item() instead\n",
      "  'a.item() instead', DeprecationWarning, stacklevel=1)\n",
      "/home/stevenm/.conda/envs/python3/lib/python3.6/site-packages/nilearn/_utils/cache_mixin.py:232: DeprecationWarning: The 'cachedir' attribute has been deprecated in version 0.12 and will be removed in version 0.14.\n",
      "Use os.path.join(memory.location, 'joblib') attribute instead.\n",
      "  if (memory.cachedir is None and memory_level is not None\n"
     ]
    },
    {
     "name": "stdout",
     "output_type": "stream",
     "text": [
      "./data/deriv/fmriprep/sub-15/ses-me/func/sub-15_ses-me_task-stop_run-2_echo-3_space-MNI152NLin2009cAsym_desc-preproc-hp_bold.nii.gz\n"
     ]
    },
    {
     "name": "stderr",
     "output_type": "stream",
     "text": [
      "/home/stevenm/.conda/envs/python3/lib/python3.6/site-packages/numpy/lib/type_check.py:546: DeprecationWarning: np.asscalar(a) is deprecated since NumPy v1.16, use a.item() instead\n",
      "  'a.item() instead', DeprecationWarning, stacklevel=1)\n",
      "/home/stevenm/.conda/envs/python3/lib/python3.6/site-packages/nilearn/_utils/cache_mixin.py:232: DeprecationWarning: The 'cachedir' attribute has been deprecated in version 0.12 and will be removed in version 0.14.\n",
      "Use os.path.join(memory.location, 'joblib') attribute instead.\n",
      "  if (memory.cachedir is None and memory_level is not None\n"
     ]
    },
    {
     "name": "stdout",
     "output_type": "stream",
     "text": [
      "./data/deriv/fmriprep/sub-16/ses-me/func/sub-16_ses-me_task-stop_run-2_echo-2_space-MNI152NLin2009cAsym_desc-preproc-hp_bold.nii.gz\n"
     ]
    },
    {
     "name": "stderr",
     "output_type": "stream",
     "text": [
      "/home/stevenm/.conda/envs/python3/lib/python3.6/site-packages/numpy/lib/type_check.py:546: DeprecationWarning: np.asscalar(a) is deprecated since NumPy v1.16, use a.item() instead\n",
      "  'a.item() instead', DeprecationWarning, stacklevel=1)\n",
      "/home/stevenm/.conda/envs/python3/lib/python3.6/site-packages/nilearn/_utils/cache_mixin.py:232: DeprecationWarning: The 'cachedir' attribute has been deprecated in version 0.12 and will be removed in version 0.14.\n",
      "Use os.path.join(memory.location, 'joblib') attribute instead.\n",
      "  if (memory.cachedir is None and memory_level is not None\n"
     ]
    },
    {
     "name": "stdout",
     "output_type": "stream",
     "text": [
      "./data/deriv/fmriprep/sub-16/ses-me/func/sub-16_ses-me_task-stop_run-2_echo-3_space-MNI152NLin2009cAsym_desc-preproc-hp_bold.nii.gz\n"
     ]
    },
    {
     "name": "stderr",
     "output_type": "stream",
     "text": [
      "/home/stevenm/.conda/envs/python3/lib/python3.6/site-packages/numpy/lib/type_check.py:546: DeprecationWarning: np.asscalar(a) is deprecated since NumPy v1.16, use a.item() instead\n",
      "  'a.item() instead', DeprecationWarning, stacklevel=1)\n",
      "/home/stevenm/.conda/envs/python3/lib/python3.6/site-packages/nilearn/_utils/cache_mixin.py:232: DeprecationWarning: The 'cachedir' attribute has been deprecated in version 0.12 and will be removed in version 0.14.\n",
      "Use os.path.join(memory.location, 'joblib') attribute instead.\n",
      "  if (memory.cachedir is None and memory_level is not None\n"
     ]
    },
    {
     "name": "stdout",
     "output_type": "stream",
     "text": [
      "./data/deriv/fmriprep/sub-15/ses-me/func/sub-15_ses-me_task-stop_run-3_echo-3_space-MNI152NLin2009cAsym_desc-preproc-hp_bold.nii.gz\n"
     ]
    },
    {
     "name": "stderr",
     "output_type": "stream",
     "text": [
      "/home/stevenm/.conda/envs/python3/lib/python3.6/site-packages/numpy/lib/type_check.py:546: DeprecationWarning: np.asscalar(a) is deprecated since NumPy v1.16, use a.item() instead\n",
      "  'a.item() instead', DeprecationWarning, stacklevel=1)\n",
      "/home/stevenm/.conda/envs/python3/lib/python3.6/site-packages/nilearn/_utils/cache_mixin.py:232: DeprecationWarning: The 'cachedir' attribute has been deprecated in version 0.12 and will be removed in version 0.14.\n",
      "Use os.path.join(memory.location, 'joblib') attribute instead.\n",
      "  if (memory.cachedir is None and memory_level is not None\n"
     ]
    },
    {
     "name": "stdout",
     "output_type": "stream",
     "text": [
      "./data/deriv/fmriprep/sub-16/ses-me/func/sub-16_ses-me_task-stop_run-3_echo-2_space-MNI152NLin2009cAsym_desc-preproc-hp_bold.nii.gz\n"
     ]
    },
    {
     "name": "stderr",
     "output_type": "stream",
     "text": [
      "/home/stevenm/.conda/envs/python3/lib/python3.6/site-packages/numpy/lib/type_check.py:546: DeprecationWarning: np.asscalar(a) is deprecated since NumPy v1.16, use a.item() instead\n",
      "  'a.item() instead', DeprecationWarning, stacklevel=1)\n",
      "/home/stevenm/.conda/envs/python3/lib/python3.6/site-packages/nilearn/_utils/cache_mixin.py:232: DeprecationWarning: The 'cachedir' attribute has been deprecated in version 0.12 and will be removed in version 0.14.\n",
      "Use os.path.join(memory.location, 'joblib') attribute instead.\n",
      "  if (memory.cachedir is None and memory_level is not None\n"
     ]
    },
    {
     "name": "stdout",
     "output_type": "stream",
     "text": [
      "./data/deriv/fmriprep/sub-16/ses-me/func/sub-16_ses-me_task-stop_run-3_echo-3_space-MNI152NLin2009cAsym_desc-preproc-hp_bold.nii.gz\n"
     ]
    },
    {
     "name": "stderr",
     "output_type": "stream",
     "text": [
      "/home/stevenm/.conda/envs/python3/lib/python3.6/site-packages/numpy/lib/type_check.py:546: DeprecationWarning: np.asscalar(a) is deprecated since NumPy v1.16, use a.item() instead\n",
      "  'a.item() instead', DeprecationWarning, stacklevel=1)\n",
      "/home/stevenm/.conda/envs/python3/lib/python3.6/site-packages/nilearn/_utils/cache_mixin.py:232: DeprecationWarning: The 'cachedir' attribute has been deprecated in version 0.12 and will be removed in version 0.14.\n",
      "Use os.path.join(memory.location, 'joblib') attribute instead.\n",
      "  if (memory.cachedir is None and memory_level is not None\n"
     ]
    },
    {
     "name": "stdout",
     "output_type": "stream",
     "text": [
      "./data/deriv/fmriprep/sub-17/ses-me/func/sub-17_ses-me_task-stop_run-1_echo-2_space-MNI152NLin2009cAsym_desc-preproc-hp_bold.nii.gz\n"
     ]
    },
    {
     "name": "stderr",
     "output_type": "stream",
     "text": [
      "/home/stevenm/.conda/envs/python3/lib/python3.6/site-packages/numpy/lib/type_check.py:546: DeprecationWarning: np.asscalar(a) is deprecated since NumPy v1.16, use a.item() instead\n",
      "  'a.item() instead', DeprecationWarning, stacklevel=1)\n",
      "/home/stevenm/.conda/envs/python3/lib/python3.6/site-packages/nilearn/_utils/cache_mixin.py:232: DeprecationWarning: The 'cachedir' attribute has been deprecated in version 0.12 and will be removed in version 0.14.\n",
      "Use os.path.join(memory.location, 'joblib') attribute instead.\n",
      "  if (memory.cachedir is None and memory_level is not None\n"
     ]
    },
    {
     "name": "stdout",
     "output_type": "stream",
     "text": [
      "./data/deriv/fmriprep/sub-18/ses-me/func/sub-18_ses-me_task-stop_run-1_echo-1_space-MNI152NLin2009cAsym_desc-preproc-hp_bold.nii.gz\n"
     ]
    },
    {
     "name": "stderr",
     "output_type": "stream",
     "text": [
      "/home/stevenm/.conda/envs/python3/lib/python3.6/site-packages/numpy/lib/type_check.py:546: DeprecationWarning: np.asscalar(a) is deprecated since NumPy v1.16, use a.item() instead\n",
      "  'a.item() instead', DeprecationWarning, stacklevel=1)\n",
      "/home/stevenm/.conda/envs/python3/lib/python3.6/site-packages/nilearn/_utils/cache_mixin.py:232: DeprecationWarning: The 'cachedir' attribute has been deprecated in version 0.12 and will be removed in version 0.14.\n",
      "Use os.path.join(memory.location, 'joblib') attribute instead.\n",
      "  if (memory.cachedir is None and memory_level is not None\n"
     ]
    },
    {
     "name": "stdout",
     "output_type": "stream",
     "text": [
      "./data/deriv/fmriprep/sub-17/ses-me/func/sub-17_ses-me_task-stop_run-1_echo-1_space-MNI152NLin2009cAsym_desc-preproc-hp_bold.nii.gz\n"
     ]
    },
    {
     "name": "stderr",
     "output_type": "stream",
     "text": [
      "/home/stevenm/.conda/envs/python3/lib/python3.6/site-packages/numpy/lib/type_check.py:546: DeprecationWarning: np.asscalar(a) is deprecated since NumPy v1.16, use a.item() instead\n",
      "  'a.item() instead', DeprecationWarning, stacklevel=1)\n",
      "/home/stevenm/.conda/envs/python3/lib/python3.6/site-packages/nilearn/_utils/cache_mixin.py:232: DeprecationWarning: The 'cachedir' attribute has been deprecated in version 0.12 and will be removed in version 0.14.\n",
      "Use os.path.join(memory.location, 'joblib') attribute instead.\n",
      "  if (memory.cachedir is None and memory_level is not None\n"
     ]
    },
    {
     "name": "stdout",
     "output_type": "stream",
     "text": [
      "./data/deriv/fmriprep/sub-17/ses-me/func/sub-17_ses-me_task-stop_run-2_echo-2_space-MNI152NLin2009cAsym_desc-preproc-hp_bold.nii.gz\n"
     ]
    },
    {
     "name": "stderr",
     "output_type": "stream",
     "text": [
      "/home/stevenm/.conda/envs/python3/lib/python3.6/site-packages/numpy/lib/type_check.py:546: DeprecationWarning: np.asscalar(a) is deprecated since NumPy v1.16, use a.item() instead\n",
      "  'a.item() instead', DeprecationWarning, stacklevel=1)\n",
      "/home/stevenm/.conda/envs/python3/lib/python3.6/site-packages/nilearn/_utils/cache_mixin.py:232: DeprecationWarning: The 'cachedir' attribute has been deprecated in version 0.12 and will be removed in version 0.14.\n",
      "Use os.path.join(memory.location, 'joblib') attribute instead.\n",
      "  if (memory.cachedir is None and memory_level is not None\n"
     ]
    },
    {
     "name": "stdout",
     "output_type": "stream",
     "text": [
      "./data/deriv/fmriprep/sub-18/ses-me/func/sub-18_ses-me_task-stop_run-2_echo-1_space-MNI152NLin2009cAsym_desc-preproc-hp_bold.nii.gz\n"
     ]
    },
    {
     "name": "stderr",
     "output_type": "stream",
     "text": [
      "/home/stevenm/.conda/envs/python3/lib/python3.6/site-packages/numpy/lib/type_check.py:546: DeprecationWarning: np.asscalar(a) is deprecated since NumPy v1.16, use a.item() instead\n",
      "  'a.item() instead', DeprecationWarning, stacklevel=1)\n",
      "/home/stevenm/.conda/envs/python3/lib/python3.6/site-packages/nilearn/_utils/cache_mixin.py:232: DeprecationWarning: The 'cachedir' attribute has been deprecated in version 0.12 and will be removed in version 0.14.\n",
      "Use os.path.join(memory.location, 'joblib') attribute instead.\n",
      "  if (memory.cachedir is None and memory_level is not None\n"
     ]
    },
    {
     "name": "stdout",
     "output_type": "stream",
     "text": [
      "./data/deriv/fmriprep/sub-17/ses-me/func/sub-17_ses-me_task-stop_run-2_echo-1_space-MNI152NLin2009cAsym_desc-preproc-hp_bold.nii.gz\n"
     ]
    },
    {
     "name": "stderr",
     "output_type": "stream",
     "text": [
      "/home/stevenm/.conda/envs/python3/lib/python3.6/site-packages/numpy/lib/type_check.py:546: DeprecationWarning: np.asscalar(a) is deprecated since NumPy v1.16, use a.item() instead\n",
      "  'a.item() instead', DeprecationWarning, stacklevel=1)\n",
      "/home/stevenm/.conda/envs/python3/lib/python3.6/site-packages/nilearn/_utils/cache_mixin.py:232: DeprecationWarning: The 'cachedir' attribute has been deprecated in version 0.12 and will be removed in version 0.14.\n",
      "Use os.path.join(memory.location, 'joblib') attribute instead.\n",
      "  if (memory.cachedir is None and memory_level is not None\n"
     ]
    },
    {
     "name": "stdout",
     "output_type": "stream",
     "text": [
      "./data/deriv/fmriprep/sub-17/ses-me/func/sub-17_ses-me_task-stop_run-1_echo-3_space-MNI152NLin2009cAsym_desc-preproc-hp_bold.nii.gz\n"
     ]
    },
    {
     "name": "stderr",
     "output_type": "stream",
     "text": [
      "/home/stevenm/.conda/envs/python3/lib/python3.6/site-packages/numpy/lib/type_check.py:546: DeprecationWarning: np.asscalar(a) is deprecated since NumPy v1.16, use a.item() instead\n",
      "  'a.item() instead', DeprecationWarning, stacklevel=1)\n",
      "/home/stevenm/.conda/envs/python3/lib/python3.6/site-packages/nilearn/_utils/cache_mixin.py:232: DeprecationWarning: The 'cachedir' attribute has been deprecated in version 0.12 and will be removed in version 0.14.\n",
      "Use os.path.join(memory.location, 'joblib') attribute instead.\n",
      "  if (memory.cachedir is None and memory_level is not None\n"
     ]
    },
    {
     "name": "stdout",
     "output_type": "stream",
     "text": [
      "./data/deriv/fmriprep/sub-18/ses-me/func/sub-18_ses-me_task-stop_run-3_echo-1_space-MNI152NLin2009cAsym_desc-preproc-hp_bold.nii.gz\n"
     ]
    },
    {
     "name": "stderr",
     "output_type": "stream",
     "text": [
      "/home/stevenm/.conda/envs/python3/lib/python3.6/site-packages/numpy/lib/type_check.py:546: DeprecationWarning: np.asscalar(a) is deprecated since NumPy v1.16, use a.item() instead\n",
      "  'a.item() instead', DeprecationWarning, stacklevel=1)\n",
      "/home/stevenm/.conda/envs/python3/lib/python3.6/site-packages/nilearn/_utils/cache_mixin.py:232: DeprecationWarning: The 'cachedir' attribute has been deprecated in version 0.12 and will be removed in version 0.14.\n",
      "Use os.path.join(memory.location, 'joblib') attribute instead.\n",
      "  if (memory.cachedir is None and memory_level is not None\n"
     ]
    },
    {
     "name": "stdout",
     "output_type": "stream",
     "text": [
      "./data/deriv/fmriprep/sub-18/ses-me/func/sub-18_ses-me_task-stop_run-1_echo-3_space-MNI152NLin2009cAsym_desc-preproc-hp_bold.nii.gz\n"
     ]
    },
    {
     "name": "stderr",
     "output_type": "stream",
     "text": [
      "/home/stevenm/.conda/envs/python3/lib/python3.6/site-packages/numpy/lib/type_check.py:546: DeprecationWarning: np.asscalar(a) is deprecated since NumPy v1.16, use a.item() instead\n",
      "  'a.item() instead', DeprecationWarning, stacklevel=1)\n",
      "/home/stevenm/.conda/envs/python3/lib/python3.6/site-packages/nilearn/_utils/cache_mixin.py:232: DeprecationWarning: The 'cachedir' attribute has been deprecated in version 0.12 and will be removed in version 0.14.\n",
      "Use os.path.join(memory.location, 'joblib') attribute instead.\n",
      "  if (memory.cachedir is None and memory_level is not None\n"
     ]
    },
    {
     "name": "stdout",
     "output_type": "stream",
     "text": [
      "./data/deriv/fmriprep/sub-17/ses-me/func/sub-17_ses-me_task-stop_run-2_echo-3_space-MNI152NLin2009cAsym_desc-preproc-hp_bold.nii.gz\n"
     ]
    },
    {
     "name": "stderr",
     "output_type": "stream",
     "text": [
      "/home/stevenm/.conda/envs/python3/lib/python3.6/site-packages/numpy/lib/type_check.py:546: DeprecationWarning: np.asscalar(a) is deprecated since NumPy v1.16, use a.item() instead\n",
      "  'a.item() instead', DeprecationWarning, stacklevel=1)\n",
      "/home/stevenm/.conda/envs/python3/lib/python3.6/site-packages/nilearn/_utils/cache_mixin.py:232: DeprecationWarning: The 'cachedir' attribute has been deprecated in version 0.12 and will be removed in version 0.14.\n",
      "Use os.path.join(memory.location, 'joblib') attribute instead.\n",
      "  if (memory.cachedir is None and memory_level is not None\n"
     ]
    },
    {
     "name": "stdout",
     "output_type": "stream",
     "text": [
      "./data/deriv/fmriprep/sub-18/ses-me/func/sub-18_ses-me_task-stop_run-1_echo-2_space-MNI152NLin2009cAsym_desc-preproc-hp_bold.nii.gz\n"
     ]
    },
    {
     "name": "stderr",
     "output_type": "stream",
     "text": [
      "/home/stevenm/.conda/envs/python3/lib/python3.6/site-packages/numpy/lib/type_check.py:546: DeprecationWarning: np.asscalar(a) is deprecated since NumPy v1.16, use a.item() instead\n",
      "  'a.item() instead', DeprecationWarning, stacklevel=1)\n",
      "/home/stevenm/.conda/envs/python3/lib/python3.6/site-packages/nilearn/_utils/cache_mixin.py:232: DeprecationWarning: The 'cachedir' attribute has been deprecated in version 0.12 and will be removed in version 0.14.\n",
      "Use os.path.join(memory.location, 'joblib') attribute instead.\n",
      "  if (memory.cachedir is None and memory_level is not None\n"
     ]
    },
    {
     "name": "stdout",
     "output_type": "stream",
     "text": [
      "./data/deriv/fmriprep/sub-18/ses-me/func/sub-18_ses-me_task-stop_run-2_echo-3_space-MNI152NLin2009cAsym_desc-preproc-hp_bold.nii.gz\n"
     ]
    },
    {
     "name": "stderr",
     "output_type": "stream",
     "text": [
      "/home/stevenm/.conda/envs/python3/lib/python3.6/site-packages/numpy/lib/type_check.py:546: DeprecationWarning: np.asscalar(a) is deprecated since NumPy v1.16, use a.item() instead\n",
      "  'a.item() instead', DeprecationWarning, stacklevel=1)\n",
      "/home/stevenm/.conda/envs/python3/lib/python3.6/site-packages/nilearn/_utils/cache_mixin.py:232: DeprecationWarning: The 'cachedir' attribute has been deprecated in version 0.12 and will be removed in version 0.14.\n",
      "Use os.path.join(memory.location, 'joblib') attribute instead.\n",
      "  if (memory.cachedir is None and memory_level is not None\n"
     ]
    },
    {
     "name": "stdout",
     "output_type": "stream",
     "text": [
      "./data/deriv/fmriprep/sub-18/ses-me/func/sub-18_ses-me_task-stop_run-2_echo-2_space-MNI152NLin2009cAsym_desc-preproc-hp_bold.nii.gz\n"
     ]
    },
    {
     "name": "stderr",
     "output_type": "stream",
     "text": [
      "/home/stevenm/.conda/envs/python3/lib/python3.6/site-packages/numpy/lib/type_check.py:546: DeprecationWarning: np.asscalar(a) is deprecated since NumPy v1.16, use a.item() instead\n",
      "  'a.item() instead', DeprecationWarning, stacklevel=1)\n",
      "/home/stevenm/.conda/envs/python3/lib/python3.6/site-packages/nilearn/_utils/cache_mixin.py:232: DeprecationWarning: The 'cachedir' attribute has been deprecated in version 0.12 and will be removed in version 0.14.\n",
      "Use os.path.join(memory.location, 'joblib') attribute instead.\n",
      "  if (memory.cachedir is None and memory_level is not None\n"
     ]
    },
    {
     "name": "stdout",
     "output_type": "stream",
     "text": [
      "./data/deriv/fmriprep/sub-18/ses-me/func/sub-18_ses-me_task-stop_run-3_echo-3_space-MNI152NLin2009cAsym_desc-preproc-hp_bold.nii.gz\n"
     ]
    },
    {
     "name": "stderr",
     "output_type": "stream",
     "text": [
      "/home/stevenm/.conda/envs/python3/lib/python3.6/site-packages/numpy/lib/type_check.py:546: DeprecationWarning: np.asscalar(a) is deprecated since NumPy v1.16, use a.item() instead\n",
      "  'a.item() instead', DeprecationWarning, stacklevel=1)\n",
      "/home/stevenm/.conda/envs/python3/lib/python3.6/site-packages/nilearn/_utils/cache_mixin.py:232: DeprecationWarning: The 'cachedir' attribute has been deprecated in version 0.12 and will be removed in version 0.14.\n",
      "Use os.path.join(memory.location, 'joblib') attribute instead.\n",
      "  if (memory.cachedir is None and memory_level is not None\n"
     ]
    },
    {
     "name": "stdout",
     "output_type": "stream",
     "text": [
      "./data/deriv/fmriprep/sub-18/ses-me/func/sub-18_ses-me_task-stop_run-3_echo-2_space-MNI152NLin2009cAsym_desc-preproc-hp_bold.nii.gz\n"
     ]
    },
    {
     "name": "stderr",
     "output_type": "stream",
     "text": [
      "/home/stevenm/.conda/envs/python3/lib/python3.6/site-packages/numpy/lib/type_check.py:546: DeprecationWarning: np.asscalar(a) is deprecated since NumPy v1.16, use a.item() instead\n",
      "  'a.item() instead', DeprecationWarning, stacklevel=1)\n",
      "/home/stevenm/.conda/envs/python3/lib/python3.6/site-packages/nilearn/_utils/cache_mixin.py:232: DeprecationWarning: The 'cachedir' attribute has been deprecated in version 0.12 and will be removed in version 0.14.\n",
      "Use os.path.join(memory.location, 'joblib') attribute instead.\n",
      "  if (memory.cachedir is None and memory_level is not None\n"
     ]
    }
   ],
   "source": [
    "def get_mask_fn(sub, ses, run):\n",
    "    sub_str = str(sub).zfill(2)\n",
    "    session = 'me' if 'echo' in ses or ses == 'me' else 'se'  # sorry about the confusing variable names\n",
    "    mask_fn = 'data/deriv/fmriprep/sub-{}/ses-{}/func/sub-{}_ses-{}_task-stop_run-{}_{}space-MNI152NLin2009cAsym_desc-brain_mask.nii.gz'.format(sub_str, session, sub_str, session, run, '' if session=='se' else 'echo-1_')\n",
    "    return mask_fn\n",
    "\n",
    "def mask_img(img, mask):\n",
    "    masker = NiftiMasker(mask)\n",
    "\n",
    "    data_masked = masker.fit_transform(img)\n",
    "    data_masked_epispace = masker.inverse_transform(data_masked)\n",
    "    return data_masked_epispace\n",
    "\n",
    "def mask_data_and_fix_header(arg):\n",
    "    sub, ses, run = arg\n",
    "    if sub == 17 and run == 3:\n",
    "        return 0\n",
    "    if sub == 12 and not ses == 'se':\n",
    "        return 0\n",
    "    \n",
    "    if ses == 'se':\n",
    "        session_name = ses\n",
    "        current_fn = 'sub-{}_ses-se_task-stop_run-{}_space-MNI152NLin2009cAsym_desc-preproc-hp_bold.nii.gz'.format(str(sub).zfill(2), run)\n",
    "    elif ses == 'me':\n",
    "        session_name = ses\n",
    "        current_fn = 'sub-{}_ses-me_task-stop_run-{}_space-MNI152NLin2009cAsym_desc-preproc-hp-optcomb_bold.nii.gz'.format(str(sub).zfill(2), run)\n",
    "    else:\n",
    "        echo_n = ses[-1]\n",
    "        session_name = 'me'\n",
    "        current_fn = 'sub-{}_ses-me_task-stop_run-{}_echo-{}_space-MNI152NLin2009cAsym_desc-preproc-hp_bold.nii.gz'.format(str(sub).zfill(2), run, echo_n)\n",
    "        \n",
    "    input_dir = './data/deriv/fmriprep/sub-{}/ses-{}/func'.format(str(sub).zfill(2), session_name)\n",
    "    output_dir = './data/feat_files/sub-{sub}/ses-{ses}/run-{run}/func'.format(**{'sub':str(sub).zfill(2), \n",
    "                                                                                  'ses':ses, \n",
    "                                                                                  'run':run})\n",
    "    if not os.path.exists(output_dir):\n",
    "        os.makedirs(output_dir, exist_ok=True)\n",
    "        \n",
    "    img_fn = os.path.join(input_dir, current_fn)\n",
    "    output_fn = os.path.join(output_dir, current_fn)\n",
    "    mask_fn = get_mask_fn(sub, ses, run)\n",
    "\n",
    "    print(img_fn)\n",
    "    masked_data = mask_img(img_fn, mask_fn)\n",
    "    nib.save(masked_data, output_fn)\n",
    "    \n",
    "    # make sure header is OK\n",
    "    import subprocess\n",
    "    return_code = subprocess.run([\"fslmerge\", \"-tr\", output_fn, output_fn, \"3\"])\n",
    "\n",
    "    return 0\n",
    "\n",
    "subjects = np.arange(12, 19)\n",
    "sessions = ['echo-1', 'echo-2', 'echo-3']\n",
    "runs = [1,2,3]\n",
    "\n",
    "to_run = itertools.product(subjects, sessions, runs)\n",
    "to_run_list = list(to_run)\n",
    "\n",
    "# for i in to_run_list:\n",
    "#     mask_data_and_fix_header(i)\n",
    "# MP\n",
    "with mp.Pool(3) as p:\n",
    "    p.map(mask_data_and_fix_header, to_run_list)"
   ]
  },
  {
   "cell_type": "markdown",
   "metadata": {},
   "source": [
    "# At this point in the pipeline, we manually create a single .fsf-file in FEAT\n",
    "All preprocessing steps turned off (except smoothing), and no post-stats.\n",
    "Afterwards, we make copies of this .fsf-file for each subject & session & run, and change the filenames that the fsf-file points to.\n",
    "\n",
    "We run with both fwhm = 5 mm (standard GLM) and fwhm = 0 mm (for tSNR analyses, and to allow for running LISA)\n",
    "\n",
    "Also, from here on, we treat echos as 'sessions' for simplicity in coding"
   ]
  },
  {
   "cell_type": "code",
   "execution_count": 45,
   "metadata": {},
   "outputs": [],
   "source": [
    "# orig_fsf = './data/feat_files/sub-01/ses-se/run-1.feat/design.fsf'\n",
    "# with open(orig_fsf, 'r') as f:\n",
    "#     txt = f.read()\n",
    "\n",
    "# function to adapt a design file\n",
    "def fix_fsf_file(sub, ses, run, fwhm=0,\n",
    "                 orig_fsf='./data/feat_files/sub-01/ses-se/run-1/design.fsf', \n",
    "                 write_out=True):\n",
    "    # read fsf as txt\n",
    "    with open(orig_fsf, 'r') as f:\n",
    "        fsf = f.read()\n",
    "    \n",
    "    # replace output directory\n",
    "    fsf = fsf.replace('set fmri(outputdir) \"/home/stevenm/MultiEchoEPISeq/data/feat_fwhm-5/sub-01/ses-se/run-1\"',\n",
    "                      'set fmri(outputdir) \"/home/stevenm/MultiEchoEPISeq/data/feat_fwhm-{}/sub-{}/ses-{}/run-{}\"'.format(fwhm, str(sub).zfill(2), ses, run))\n",
    "    \n",
    "    # replace directories for func files & ev files\n",
    "    fsf = fsf.replace(\"/home/stevenm/MultiEchoEPISeq/data/feat_files/sub-01/ses-se/run-1\",\n",
    "                      \"/home/stevenm/MultiEchoEPISeq/data/feat_files/sub-{}/ses-{}/run-{}\".format(str(sub).zfill(2), ses, run))\n",
    "    \n",
    "    # replace filename, NB: no extension to fn..\n",
    "    if ses == 'me':\n",
    "        fn_to_run = \"sub-{sub}_ses-{ses}_task-stop_run-{run}_space-MNI152NLin2009cAsym_desc-preproc-hp-optcomb_bold\".format(**{'sub':sub, 'ses':ses, 'run':run})\n",
    "    else:\n",
    "        fn_to_run = \"sub-{sub}_ses-{ses}_task-stop_run-{run}_space-MNI152NLin2009cAsym_desc-preproc-hp_bold\".format(**{'sub':sub, 'ses':ses, 'run':run})\n",
    "        \n",
    "    fsf = fsf.replace(\"sub-01_ses-se_task-stop_run-1_space-MNI152NLin2009cAsym_desc-preproc-hp_bold\", fn_to_run)\n",
    "    \n",
    "    # replace smoothing fwhm\n",
    "    fsf = fsf.replace(\"set fmri(smooth) 0\", \n",
    "                      \"set fmri(smooth) {}\".format(int(fwhm)))\n",
    "    \n",
    "    # subject 6 ses me run 3: only 206 volumes instead of 343\n",
    "    if sub == '06' and ses == 'me' and run == 3:\n",
    "        fsf = fsf.replace(\"set fmri(npts) 343\", \"set fmri(npts) 206\")\n",
    "#     # replace ev locations\n",
    "#     fsf = fsf.replace(\"/home/stevenm/MultiEchoEPISeq/data/feat_files/sub-01/ses-se/run-1/evs/\",\n",
    "#                       \"/home/stevenm/MultiEchoEPISeq/data/feat_files/sub-{sub}/ses-{ses}/run-{run}/evs/\".format(**{'sub':sub, 'ses':ses, 'run':run}))\n",
    "    \n",
    "    # save fsf as txt\n",
    "    if write_out:\n",
    "        output_dir = './data/feat_files/sub-{}/ses-{}/run-{}/fwhm-{}'.format(sub, ses, run, fwhm)\n",
    "        if not os.path.exists(output_dir):\n",
    "            os.makedirs(output_dir)\n",
    "        with open(os.path.join(output_dir, 'design.fsf'), 'w') as f:\n",
    "            f.write(fsf)\n",
    "    else:\n",
    "        return fsf\n",
    "    \n",
    "# function to run in parallel\n",
    "def run_feat(fsf_file):\n",
    "    print(fsf_file)\n",
    "    import subprocess\n",
    "    return_code = subprocess.run([\"feat\", fsf_file])\n",
    "    print('{}: {}'.format(fsf_file, return_code))\n",
    "    return return_code\n",
    "\n",
    "#fix_fsf_file('01', 'se', 2, write_out=False)"
   ]
  },
  {
   "cell_type": "code",
   "execution_count": null,
   "metadata": {},
   "outputs": [
    {
     "name": "stdout",
     "output_type": "stream",
     "text": [
      "./data/feat_files/sub-01/ses-me/run-1/fwhm-0/design.fsf\n",
      "./data/feat_files/sub-01/ses-me/run-3/fwhm-0/design.fsf\n",
      "./data/feat_files/sub-01/ses-se/run-2/fwhm-5/design.fsf\n",
      "./data/feat_files/sub-02/ses-me/run-1/fwhm-5/design.fsf\n",
      "./data/feat_files/sub-02/ses-se/run-2/fwhm-5/design.fsf\n",
      "./data/feat_files/sub-02/ses-me/run-3/fwhm-5/design.fsf\n",
      "./data/feat_files/sub-03/ses-me/run-3/fwhm-5/design.fsf\n",
      "./data/feat_files/sub-03/ses-me/run-1/fwhm-5/design.fsf\n",
      "./data/feat_files/sub-04/ses-me/run-1/fwhm-5/design.fsf\n",
      "./data/feat_files/sub-05/ses-se/run-2/fwhm-5/design.fsf\n",
      "./data/feat_files/sub-05/ses-me/run-3/fwhm-5/design.fsf\n",
      "./data/feat_files/sub-03/ses-se/run-2/fwhm-5/design.fsf\n",
      "./data/feat_files/sub-04/ses-me/run-3/fwhm-5/design.fsf\n",
      "./data/feat_files/sub-04/ses-se/run-2/fwhm-5/design.fsf\n",
      "./data/feat_files/sub-05/ses-me/run-1/fwhm-5/design.fsf\n",
      "./data/feat_files/sub-01/ses-me/run-3/fwhm-0/design.fsf: CompletedProcess(args=['feat', './data/feat_files/sub-01/ses-me/run-3/fwhm-0/design.fsf'], returncode=1)\n",
      "./data/feat_files/sub-01/ses-me/run-3/fwhm-5/design.fsf\n",
      "./data/feat_files/sub-03/ses-me/run-3/fwhm-5/design.fsf: CompletedProcess(args=['feat', './data/feat_files/sub-03/ses-me/run-3/fwhm-5/design.fsf'], returncode=1)\n",
      "./data/feat_files/sub-03/ses-se/run-1/fwhm-0/design.fsf\n",
      "./data/feat_files/sub-02/ses-me/run-3/fwhm-5/design.fsf: CompletedProcess(args=['feat', './data/feat_files/sub-02/ses-me/run-3/fwhm-5/design.fsf'], returncode=1)\n",
      "./data/feat_files/sub-02/ses-se/run-1/fwhm-0/design.fsf\n",
      "./data/feat_files/sub-01/ses-se/run-2/fwhm-5/design.fsf: CompletedProcess(args=['feat', './data/feat_files/sub-01/ses-se/run-2/fwhm-5/design.fsf'], returncode=1)\n",
      "./data/feat_files/sub-01/ses-se/run-3/fwhm-0/design.fsf\n",
      "./data/feat_files/sub-03/ses-se/run-2/fwhm-5/design.fsf: CompletedProcess(args=['feat', './data/feat_files/sub-03/ses-se/run-2/fwhm-5/design.fsf'], returncode=1)\n",
      "./data/feat_files/sub-03/ses-se/run-3/fwhm-0/design.fsf\n",
      "./data/feat_files/sub-02/ses-me/run-1/fwhm-5/design.fsf: CompletedProcess(args=['feat', './data/feat_files/sub-02/ses-me/run-1/fwhm-5/design.fsf'], returncode=1)\n",
      "./data/feat_files/sub-02/ses-me/run-2/fwhm-0/design.fsf\n",
      "./data/feat_files/sub-01/ses-me/run-1/fwhm-0/design.fsf: CompletedProcess(args=['feat', './data/feat_files/sub-01/ses-me/run-1/fwhm-0/design.fsf'], returncode=1)\n",
      "./data/feat_files/sub-01/ses-me/run-1/fwhm-5/design.fsf\n",
      "./data/feat_files/sub-04/ses-se/run-2/fwhm-5/design.fsf: CompletedProcess(args=['feat', './data/feat_files/sub-04/ses-se/run-2/fwhm-5/design.fsf'], returncode=1)\n",
      "./data/feat_files/sub-04/ses-se/run-3/fwhm-0/design.fsf\n",
      "./data/feat_files/sub-03/ses-me/run-1/fwhm-5/design.fsf: CompletedProcess(args=['feat', './data/feat_files/sub-03/ses-me/run-1/fwhm-5/design.fsf'], returncode=1)\n",
      "./data/feat_files/sub-03/ses-me/run-2/fwhm-0/design.fsf\n",
      "./data/feat_files/sub-05/ses-me/run-1/fwhm-5/design.fsf: CompletedProcess(args=['feat', './data/feat_files/sub-05/ses-me/run-1/fwhm-5/design.fsf'], returncode=1)\n",
      "./data/feat_files/sub-05/ses-me/run-2/fwhm-0/design.fsf\n",
      "./data/feat_files/sub-04/ses-me/run-1/fwhm-5/design.fsf: CompletedProcess(args=['feat', './data/feat_files/sub-04/ses-me/run-1/fwhm-5/design.fsf'], returncode=1)\n",
      "./data/feat_files/sub-04/ses-me/run-2/fwhm-0/design.fsf\n",
      "./data/feat_files/sub-05/ses-me/run-3/fwhm-5/design.fsf: CompletedProcess(args=['feat', './data/feat_files/sub-05/ses-me/run-3/fwhm-5/design.fsf'], returncode=1)\n",
      "./data/feat_files/sub-05/ses-se/run-1/fwhm-0/design.fsf\n",
      "./data/feat_files/sub-05/ses-se/run-2/fwhm-5/design.fsf: CompletedProcess(args=['feat', './data/feat_files/sub-05/ses-se/run-2/fwhm-5/design.fsf'], returncode=1)\n",
      "./data/feat_files/sub-05/ses-se/run-3/fwhm-0/design.fsf\n",
      "./data/feat_files/sub-02/ses-se/run-2/fwhm-5/design.fsf: CompletedProcess(args=['feat', './data/feat_files/sub-02/ses-se/run-2/fwhm-5/design.fsf'], returncode=1)\n",
      "./data/feat_files/sub-02/ses-se/run-3/fwhm-0/design.fsf\n",
      "./data/feat_files/sub-04/ses-me/run-3/fwhm-5/design.fsf: CompletedProcess(args=['feat', './data/feat_files/sub-04/ses-me/run-3/fwhm-5/design.fsf'], returncode=1)\n",
      "./data/feat_files/sub-04/ses-se/run-1/fwhm-0/design.fsf\n",
      "./data/feat_files/sub-01/ses-me/run-3/fwhm-5/design.fsf: CompletedProcess(args=['feat', './data/feat_files/sub-01/ses-me/run-3/fwhm-5/design.fsf'], returncode=1)\n",
      "./data/feat_files/sub-01/ses-se/run-1/fwhm-0/design.fsf\n",
      "./data/feat_files/sub-03/ses-se/run-1/fwhm-0/design.fsf: CompletedProcess(args=['feat', './data/feat_files/sub-03/ses-se/run-1/fwhm-0/design.fsf'], returncode=1)\n",
      "./data/feat_files/sub-03/ses-se/run-1/fwhm-5/design.fsf\n",
      "./data/feat_files/sub-01/ses-se/run-3/fwhm-0/design.fsf: CompletedProcess(args=['feat', './data/feat_files/sub-01/ses-se/run-3/fwhm-0/design.fsf'], returncode=1)\n",
      "./data/feat_files/sub-01/ses-se/run-3/fwhm-5/design.fsf\n",
      "./data/feat_files/sub-03/ses-se/run-3/fwhm-0/design.fsf: CompletedProcess(args=['feat', './data/feat_files/sub-03/ses-se/run-3/fwhm-0/design.fsf'], returncode=1)\n",
      "./data/feat_files/sub-03/ses-se/run-3/fwhm-5/design.fsf\n",
      "./data/feat_files/sub-01/ses-me/run-1/fwhm-5/design.fsf: CompletedProcess(args=['feat', './data/feat_files/sub-01/ses-me/run-1/fwhm-5/design.fsf'], returncode=1)\n",
      "./data/feat_files/sub-01/ses-me/run-2/fwhm-0/design.fsf\n",
      "./data/feat_files/sub-02/ses-se/run-1/fwhm-0/design.fsf: CompletedProcess(args=['feat', './data/feat_files/sub-02/ses-se/run-1/fwhm-0/design.fsf'], returncode=1)\n",
      "./data/feat_files/sub-02/ses-se/run-1/fwhm-5/design.fsf\n",
      "./data/feat_files/sub-04/ses-se/run-3/fwhm-0/design.fsf: CompletedProcess(args=['feat', './data/feat_files/sub-04/ses-se/run-3/fwhm-0/design.fsf'], returncode=1)\n",
      "./data/feat_files/sub-04/ses-se/run-3/fwhm-5/design.fsf\n",
      "./data/feat_files/sub-03/ses-me/run-2/fwhm-0/design.fsf: CompletedProcess(args=['feat', './data/feat_files/sub-03/ses-me/run-2/fwhm-0/design.fsf'], returncode=1)\n",
      "./data/feat_files/sub-03/ses-me/run-2/fwhm-5/design.fsf\n",
      "./data/feat_files/sub-02/ses-me/run-2/fwhm-0/design.fsf: CompletedProcess(args=['feat', './data/feat_files/sub-02/ses-me/run-2/fwhm-0/design.fsf'], returncode=1)\n",
      "./data/feat_files/sub-02/ses-me/run-2/fwhm-5/design.fsf\n",
      "./data/feat_files/sub-04/ses-se/run-1/fwhm-0/design.fsf: CompletedProcess(args=['feat', './data/feat_files/sub-04/ses-se/run-1/fwhm-0/design.fsf'], returncode=1)\n",
      "./data/feat_files/sub-04/ses-se/run-1/fwhm-5/design.fsf\n",
      "./data/feat_files/sub-05/ses-me/run-2/fwhm-0/design.fsf: CompletedProcess(args=['feat', './data/feat_files/sub-05/ses-me/run-2/fwhm-0/design.fsf'], returncode=1)\n",
      "./data/feat_files/sub-05/ses-me/run-2/fwhm-5/design.fsf\n"
     ]
    }
   ],
   "source": [
    "# main loop\n",
    "subjects = np.arange(1, 19)\n",
    "sessions = ['echo-1', 'echo-2', 'echo-3']\n",
    "#sessions = ['se', 'me']\n",
    "runs = [1,2,3]\n",
    "\n",
    "for fwhm in [5, 0]:\n",
    "    # generate all fsf files first\n",
    "    for sub in subjects:\n",
    "        for ses in sessions:\n",
    "            if sub == 12 and not ses == 'se':\n",
    "                continue\n",
    "\n",
    "            for run in runs:\n",
    "                if sub == 17 and run == 3:\n",
    "                    continue\n",
    "                else:\n",
    "                    fix_fsf_file(str(sub).zfill(2), ses, run, fwhm=fwhm)\n",
    "    \n",
    "# find all newly created design files, only echo 1/2/3 now\n",
    "all_fsfs = glob.glob('./data/feat_files/sub-*/ses-echo*/run*/fwhm-*/*.fsf')\n",
    "all_fsfs.sort()\n",
    "\n",
    "# remove all .feat directories if they exist; also don't run sub-01/ses-se/run-1/fwhm-5 since this was run\n",
    "# when creating the original fsf-file\n",
    "all_fsfs = [x for x in all_fsfs if not '.feat' in x and not 'sub-01/ses-se/run-1/fwhm-5/' in x]\n",
    "\n",
    "with mp.Pool(15) as p:\n",
    "    outputs = p.map(run_feat, all_fsfs)\n",
    "\n",
    "#     # remove those that have been run already\n",
    "#     def has_run(output_dir):\n",
    "#         if output_dir.endswith('.fsf'):\n",
    "#             path_elements = output_dir.split('/')[:-1]\n",
    "#             path_elements[-1] += '.feat'\n",
    "#             output_dir = '/'.join(path_elements)\n",
    "#         if os.path.exists(os.path.join(output_dir, 'stats/threshac1.nii.gz')):\n",
    "#             return True\n",
    "#         else:\n",
    "#             return False\n",
    "\n",
    "#     all_fsfs = [x for x in all_fsfs if not has_run(x)]\n",
    "#     all_fsfs\n",
    "\n",
    "        \n",
    "#     # check output directories; remove created-but-not-run .feat-dirs to prevent shitty + ++ +++ ++++ directory names\n",
    "#     dot_feat_dirs = glob.glob('./data/feat_files/sub-*/ses-*/run*.feat')\n",
    "#     for feat_dir in dot_feat_dirs:\n",
    "#         if not os.path.exists(os.path.join(feat_dir, 'stats/threshac1.nii.gz')):\n",
    "#             shutil.rmtree(feat_dir)"
   ]
  },
  {
   "cell_type": "markdown",
   "metadata": {},
   "source": [
    "Minor correction: some .feat-directories accidentally already existed before running feat. Feat then outputs to an +.feat-directory. Here, we find all +.feat directories, and rename them to remove the +"
   ]
  },
  {
   "cell_type": "code",
   "execution_count": 25,
   "metadata": {},
   "outputs": [
    {
     "data": {
      "text/plain": [
       "[]"
      ]
     },
     "execution_count": 25,
     "metadata": {},
     "output_type": "execute_result"
    }
   ],
   "source": [
    "glob.glob('./data/feat-fwhm*/sub*/ses*/run*+.feat')"
   ]
  },
  {
   "cell_type": "code",
   "execution_count": 53,
   "metadata": {},
   "outputs": [
    {
     "data": {
      "text/plain": [
       "['./data/feat_files/sub-01/ses-me/run-1/fwhm-0/design.fsf',\n",
       " './data/feat_files/sub-01/ses-me/run-1/fwhm-5/design.fsf',\n",
       " './data/feat_files/sub-01/ses-me/run-2/fwhm-0/design.fsf',\n",
       " './data/feat_files/sub-01/ses-me/run-2/fwhm-5/design.fsf',\n",
       " './data/feat_files/sub-01/ses-me/run-3/fwhm-0/design.fsf',\n",
       " './data/feat_files/sub-01/ses-me/run-3/fwhm-5/design.fsf',\n",
       " './data/feat_files/sub-01/ses-se/run-1/fwhm-0/design.fsf',\n",
       " './data/feat_files/sub-01/ses-se/run-2/fwhm-0/design.fsf',\n",
       " './data/feat_files/sub-01/ses-se/run-2/fwhm-5/design.fsf',\n",
       " './data/feat_files/sub-01/ses-se/run-3/fwhm-0/design.fsf',\n",
       " './data/feat_files/sub-01/ses-se/run-3/fwhm-5/design.fsf',\n",
       " './data/feat_files/sub-02/ses-me/run-1/fwhm-0/design.fsf',\n",
       " './data/feat_files/sub-02/ses-me/run-1/fwhm-5/design.fsf',\n",
       " './data/feat_files/sub-02/ses-me/run-2/fwhm-0/design.fsf',\n",
       " './data/feat_files/sub-02/ses-me/run-2/fwhm-5/design.fsf',\n",
       " './data/feat_files/sub-02/ses-me/run-3/fwhm-0/design.fsf',\n",
       " './data/feat_files/sub-02/ses-me/run-3/fwhm-5/design.fsf',\n",
       " './data/feat_files/sub-02/ses-se/run-1/fwhm-0/design.fsf',\n",
       " './data/feat_files/sub-02/ses-se/run-1/fwhm-5/design.fsf',\n",
       " './data/feat_files/sub-02/ses-se/run-2/fwhm-0/design.fsf',\n",
       " './data/feat_files/sub-02/ses-se/run-2/fwhm-5/design.fsf',\n",
       " './data/feat_files/sub-02/ses-se/run-3/fwhm-0/design.fsf',\n",
       " './data/feat_files/sub-02/ses-se/run-3/fwhm-5/design.fsf',\n",
       " './data/feat_files/sub-03/ses-me/run-1/fwhm-0/design.fsf',\n",
       " './data/feat_files/sub-03/ses-me/run-1/fwhm-5/design.fsf',\n",
       " './data/feat_files/sub-03/ses-me/run-2/fwhm-0/design.fsf',\n",
       " './data/feat_files/sub-03/ses-me/run-2/fwhm-5/design.fsf',\n",
       " './data/feat_files/sub-03/ses-me/run-3/fwhm-0/design.fsf',\n",
       " './data/feat_files/sub-03/ses-me/run-3/fwhm-5/design.fsf',\n",
       " './data/feat_files/sub-03/ses-se/run-1/fwhm-0/design.fsf',\n",
       " './data/feat_files/sub-03/ses-se/run-1/fwhm-5/design.fsf',\n",
       " './data/feat_files/sub-03/ses-se/run-2/fwhm-0/design.fsf',\n",
       " './data/feat_files/sub-03/ses-se/run-2/fwhm-5/design.fsf',\n",
       " './data/feat_files/sub-03/ses-se/run-3/fwhm-0/design.fsf',\n",
       " './data/feat_files/sub-03/ses-se/run-3/fwhm-5/design.fsf',\n",
       " './data/feat_files/sub-04/ses-me/run-1/fwhm-0/design.fsf',\n",
       " './data/feat_files/sub-04/ses-me/run-1/fwhm-5/design.fsf',\n",
       " './data/feat_files/sub-04/ses-me/run-2/fwhm-0/design.fsf',\n",
       " './data/feat_files/sub-04/ses-me/run-2/fwhm-5/design.fsf',\n",
       " './data/feat_files/sub-04/ses-me/run-3/fwhm-0/design.fsf',\n",
       " './data/feat_files/sub-04/ses-me/run-3/fwhm-5/design.fsf',\n",
       " './data/feat_files/sub-04/ses-se/run-1/fwhm-0/design.fsf',\n",
       " './data/feat_files/sub-04/ses-se/run-1/fwhm-5/design.fsf',\n",
       " './data/feat_files/sub-04/ses-se/run-2/fwhm-0/design.fsf',\n",
       " './data/feat_files/sub-04/ses-se/run-2/fwhm-5/design.fsf',\n",
       " './data/feat_files/sub-04/ses-se/run-3/fwhm-0/design.fsf',\n",
       " './data/feat_files/sub-04/ses-se/run-3/fwhm-5/design.fsf',\n",
       " './data/feat_files/sub-05/ses-me/run-1/fwhm-0/design.fsf',\n",
       " './data/feat_files/sub-05/ses-me/run-1/fwhm-5/design.fsf',\n",
       " './data/feat_files/sub-05/ses-me/run-2/fwhm-0/design.fsf',\n",
       " './data/feat_files/sub-05/ses-me/run-2/fwhm-5/design.fsf',\n",
       " './data/feat_files/sub-05/ses-me/run-3/fwhm-0/design.fsf',\n",
       " './data/feat_files/sub-05/ses-me/run-3/fwhm-5/design.fsf',\n",
       " './data/feat_files/sub-05/ses-se/run-1/fwhm-0/design.fsf',\n",
       " './data/feat_files/sub-05/ses-se/run-1/fwhm-5/design.fsf',\n",
       " './data/feat_files/sub-05/ses-se/run-2/fwhm-0/design.fsf',\n",
       " './data/feat_files/sub-05/ses-se/run-2/fwhm-5/design.fsf',\n",
       " './data/feat_files/sub-05/ses-se/run-3/fwhm-0/design.fsf',\n",
       " './data/feat_files/sub-05/ses-se/run-3/fwhm-5/design.fsf',\n",
       " './data/feat_files/sub-06/ses-me/run-1/fwhm-0/design.fsf',\n",
       " './data/feat_files/sub-06/ses-me/run-1/fwhm-5/design.fsf',\n",
       " './data/feat_files/sub-06/ses-me/run-2/fwhm-0/design.fsf',\n",
       " './data/feat_files/sub-06/ses-me/run-2/fwhm-5/design.fsf',\n",
       " './data/feat_files/sub-06/ses-me/run-3/fwhm-0/design.fsf',\n",
       " './data/feat_files/sub-06/ses-me/run-3/fwhm-5/design.fsf',\n",
       " './data/feat_files/sub-06/ses-se/run-1/fwhm-0/design.fsf',\n",
       " './data/feat_files/sub-06/ses-se/run-1/fwhm-5/design.fsf',\n",
       " './data/feat_files/sub-06/ses-se/run-2/fwhm-0/design.fsf',\n",
       " './data/feat_files/sub-06/ses-se/run-2/fwhm-5/design.fsf',\n",
       " './data/feat_files/sub-06/ses-se/run-3/fwhm-0/design.fsf',\n",
       " './data/feat_files/sub-06/ses-se/run-3/fwhm-5/design.fsf',\n",
       " './data/feat_files/sub-07/ses-me/run-1/fwhm-0/design.fsf',\n",
       " './data/feat_files/sub-07/ses-me/run-1/fwhm-5/design.fsf',\n",
       " './data/feat_files/sub-07/ses-me/run-2/fwhm-0/design.fsf',\n",
       " './data/feat_files/sub-07/ses-me/run-2/fwhm-5/design.fsf',\n",
       " './data/feat_files/sub-07/ses-me/run-3/fwhm-0/design.fsf',\n",
       " './data/feat_files/sub-07/ses-me/run-3/fwhm-5/design.fsf',\n",
       " './data/feat_files/sub-07/ses-se/run-1/fwhm-0/design.fsf',\n",
       " './data/feat_files/sub-07/ses-se/run-1/fwhm-5/design.fsf',\n",
       " './data/feat_files/sub-07/ses-se/run-2/fwhm-0/design.fsf',\n",
       " './data/feat_files/sub-07/ses-se/run-2/fwhm-5/design.fsf',\n",
       " './data/feat_files/sub-07/ses-se/run-3/fwhm-0/design.fsf',\n",
       " './data/feat_files/sub-07/ses-se/run-3/fwhm-5/design.fsf',\n",
       " './data/feat_files/sub-08/ses-me/run-1/fwhm-0/design.fsf',\n",
       " './data/feat_files/sub-08/ses-me/run-1/fwhm-5/design.fsf',\n",
       " './data/feat_files/sub-08/ses-me/run-2/fwhm-0/design.fsf',\n",
       " './data/feat_files/sub-08/ses-me/run-2/fwhm-5/design.fsf',\n",
       " './data/feat_files/sub-08/ses-me/run-3/fwhm-0/design.fsf',\n",
       " './data/feat_files/sub-08/ses-me/run-3/fwhm-5/design.fsf',\n",
       " './data/feat_files/sub-08/ses-se/run-1/fwhm-0/design.fsf',\n",
       " './data/feat_files/sub-08/ses-se/run-1/fwhm-5/design.fsf',\n",
       " './data/feat_files/sub-08/ses-se/run-2/fwhm-0/design.fsf',\n",
       " './data/feat_files/sub-08/ses-se/run-2/fwhm-5/design.fsf',\n",
       " './data/feat_files/sub-08/ses-se/run-3/fwhm-0/design.fsf',\n",
       " './data/feat_files/sub-08/ses-se/run-3/fwhm-5/design.fsf',\n",
       " './data/feat_files/sub-09/ses-me/run-1/fwhm-0/design.fsf',\n",
       " './data/feat_files/sub-09/ses-me/run-1/fwhm-5/design.fsf',\n",
       " './data/feat_files/sub-09/ses-me/run-2/fwhm-0/design.fsf',\n",
       " './data/feat_files/sub-09/ses-me/run-2/fwhm-5/design.fsf',\n",
       " './data/feat_files/sub-09/ses-me/run-3/fwhm-0/design.fsf',\n",
       " './data/feat_files/sub-09/ses-me/run-3/fwhm-5/design.fsf',\n",
       " './data/feat_files/sub-09/ses-se/run-1/fwhm-0/design.fsf',\n",
       " './data/feat_files/sub-09/ses-se/run-1/fwhm-5/design.fsf',\n",
       " './data/feat_files/sub-09/ses-se/run-2/fwhm-0/design.fsf',\n",
       " './data/feat_files/sub-09/ses-se/run-2/fwhm-5/design.fsf',\n",
       " './data/feat_files/sub-09/ses-se/run-3/fwhm-0/design.fsf',\n",
       " './data/feat_files/sub-09/ses-se/run-3/fwhm-5/design.fsf',\n",
       " './data/feat_files/sub-10/ses-me/run-1/fwhm-0/design.fsf',\n",
       " './data/feat_files/sub-10/ses-me/run-1/fwhm-5/design.fsf',\n",
       " './data/feat_files/sub-10/ses-me/run-2/fwhm-0/design.fsf',\n",
       " './data/feat_files/sub-10/ses-me/run-2/fwhm-5/design.fsf',\n",
       " './data/feat_files/sub-10/ses-me/run-3/fwhm-0/design.fsf',\n",
       " './data/feat_files/sub-10/ses-me/run-3/fwhm-5/design.fsf',\n",
       " './data/feat_files/sub-10/ses-se/run-1/fwhm-0/design.fsf',\n",
       " './data/feat_files/sub-10/ses-se/run-1/fwhm-5/design.fsf',\n",
       " './data/feat_files/sub-10/ses-se/run-2/fwhm-0/design.fsf',\n",
       " './data/feat_files/sub-10/ses-se/run-2/fwhm-5/design.fsf',\n",
       " './data/feat_files/sub-10/ses-se/run-3/fwhm-0/design.fsf',\n",
       " './data/feat_files/sub-10/ses-se/run-3/fwhm-5/design.fsf',\n",
       " './data/feat_files/sub-11/ses-me/run-1/fwhm-0/design.fsf',\n",
       " './data/feat_files/sub-11/ses-me/run-1/fwhm-5/design.fsf',\n",
       " './data/feat_files/sub-11/ses-me/run-2/fwhm-0/design.fsf',\n",
       " './data/feat_files/sub-11/ses-me/run-2/fwhm-5/design.fsf',\n",
       " './data/feat_files/sub-11/ses-me/run-3/fwhm-0/design.fsf',\n",
       " './data/feat_files/sub-11/ses-me/run-3/fwhm-5/design.fsf',\n",
       " './data/feat_files/sub-11/ses-se/run-1/fwhm-0/design.fsf',\n",
       " './data/feat_files/sub-11/ses-se/run-1/fwhm-5/design.fsf',\n",
       " './data/feat_files/sub-11/ses-se/run-2/fwhm-0/design.fsf',\n",
       " './data/feat_files/sub-11/ses-se/run-2/fwhm-5/design.fsf',\n",
       " './data/feat_files/sub-11/ses-se/run-3/fwhm-0/design.fsf',\n",
       " './data/feat_files/sub-11/ses-se/run-3/fwhm-5/design.fsf',\n",
       " './data/feat_files/sub-12/ses-se/run-1/fwhm-0/design.fsf',\n",
       " './data/feat_files/sub-12/ses-se/run-1/fwhm-5/design.fsf',\n",
       " './data/feat_files/sub-12/ses-se/run-2/fwhm-0/design.fsf',\n",
       " './data/feat_files/sub-12/ses-se/run-2/fwhm-5/design.fsf',\n",
       " './data/feat_files/sub-12/ses-se/run-3/fwhm-0/design.fsf',\n",
       " './data/feat_files/sub-12/ses-se/run-3/fwhm-5/design.fsf',\n",
       " './data/feat_files/sub-13/ses-me/run-1/fwhm-0/design.fsf',\n",
       " './data/feat_files/sub-13/ses-me/run-1/fwhm-5/design.fsf',\n",
       " './data/feat_files/sub-13/ses-me/run-2/fwhm-0/design.fsf',\n",
       " './data/feat_files/sub-13/ses-me/run-2/fwhm-5/design.fsf',\n",
       " './data/feat_files/sub-13/ses-me/run-3/fwhm-0/design.fsf',\n",
       " './data/feat_files/sub-13/ses-me/run-3/fwhm-5/design.fsf',\n",
       " './data/feat_files/sub-13/ses-se/run-1/fwhm-0/design.fsf',\n",
       " './data/feat_files/sub-13/ses-se/run-1/fwhm-5/design.fsf',\n",
       " './data/feat_files/sub-13/ses-se/run-2/fwhm-0/design.fsf',\n",
       " './data/feat_files/sub-13/ses-se/run-2/fwhm-5/design.fsf',\n",
       " './data/feat_files/sub-13/ses-se/run-3/fwhm-0/design.fsf',\n",
       " './data/feat_files/sub-13/ses-se/run-3/fwhm-5/design.fsf',\n",
       " './data/feat_files/sub-14/ses-me/run-1/fwhm-0/design.fsf',\n",
       " './data/feat_files/sub-14/ses-me/run-1/fwhm-5/design.fsf',\n",
       " './data/feat_files/sub-14/ses-me/run-2/fwhm-0/design.fsf',\n",
       " './data/feat_files/sub-14/ses-me/run-2/fwhm-5/design.fsf',\n",
       " './data/feat_files/sub-14/ses-me/run-3/fwhm-0/design.fsf',\n",
       " './data/feat_files/sub-14/ses-me/run-3/fwhm-5/design.fsf',\n",
       " './data/feat_files/sub-14/ses-se/run-1/fwhm-0/design.fsf',\n",
       " './data/feat_files/sub-14/ses-se/run-1/fwhm-5/design.fsf',\n",
       " './data/feat_files/sub-14/ses-se/run-2/fwhm-0/design.fsf',\n",
       " './data/feat_files/sub-14/ses-se/run-2/fwhm-5/design.fsf',\n",
       " './data/feat_files/sub-14/ses-se/run-3/fwhm-0/design.fsf',\n",
       " './data/feat_files/sub-14/ses-se/run-3/fwhm-5/design.fsf',\n",
       " './data/feat_files/sub-15/ses-me/run-1/fwhm-0/design.fsf',\n",
       " './data/feat_files/sub-15/ses-me/run-1/fwhm-5/design.fsf',\n",
       " './data/feat_files/sub-15/ses-me/run-2/fwhm-0/design.fsf',\n",
       " './data/feat_files/sub-15/ses-me/run-2/fwhm-5/design.fsf',\n",
       " './data/feat_files/sub-15/ses-me/run-3/fwhm-0/design.fsf',\n",
       " './data/feat_files/sub-15/ses-me/run-3/fwhm-5/design.fsf',\n",
       " './data/feat_files/sub-15/ses-se/run-1/fwhm-0/design.fsf',\n",
       " './data/feat_files/sub-15/ses-se/run-1/fwhm-5/design.fsf',\n",
       " './data/feat_files/sub-15/ses-se/run-2/fwhm-0/design.fsf',\n",
       " './data/feat_files/sub-15/ses-se/run-2/fwhm-5/design.fsf',\n",
       " './data/feat_files/sub-15/ses-se/run-3/fwhm-0/design.fsf',\n",
       " './data/feat_files/sub-15/ses-se/run-3/fwhm-5/design.fsf',\n",
       " './data/feat_files/sub-16/ses-me/run-1/fwhm-0/design.fsf',\n",
       " './data/feat_files/sub-16/ses-me/run-1/fwhm-5/design.fsf',\n",
       " './data/feat_files/sub-16/ses-me/run-2/fwhm-0/design.fsf',\n",
       " './data/feat_files/sub-16/ses-me/run-2/fwhm-5/design.fsf',\n",
       " './data/feat_files/sub-16/ses-me/run-3/fwhm-0/design.fsf',\n",
       " './data/feat_files/sub-16/ses-me/run-3/fwhm-5/design.fsf',\n",
       " './data/feat_files/sub-16/ses-se/run-1/fwhm-0/design.fsf',\n",
       " './data/feat_files/sub-16/ses-se/run-1/fwhm-5/design.fsf',\n",
       " './data/feat_files/sub-16/ses-se/run-2/fwhm-0/design.fsf',\n",
       " './data/feat_files/sub-16/ses-se/run-2/fwhm-5/design.fsf',\n",
       " './data/feat_files/sub-16/ses-se/run-3/fwhm-0/design.fsf',\n",
       " './data/feat_files/sub-16/ses-se/run-3/fwhm-5/design.fsf',\n",
       " './data/feat_files/sub-17/ses-me/run-1/fwhm-0/design.fsf',\n",
       " './data/feat_files/sub-17/ses-me/run-1/fwhm-5/design.fsf',\n",
       " './data/feat_files/sub-17/ses-me/run-2/fwhm-0/design.fsf',\n",
       " './data/feat_files/sub-17/ses-me/run-2/fwhm-5/design.fsf',\n",
       " './data/feat_files/sub-17/ses-se/run-1/fwhm-0/design.fsf',\n",
       " './data/feat_files/sub-17/ses-se/run-1/fwhm-5/design.fsf',\n",
       " './data/feat_files/sub-17/ses-se/run-2/fwhm-0/design.fsf',\n",
       " './data/feat_files/sub-17/ses-se/run-2/fwhm-5/design.fsf',\n",
       " './data/feat_files/sub-18/ses-me/run-1/fwhm-0/design.fsf',\n",
       " './data/feat_files/sub-18/ses-me/run-1/fwhm-5/design.fsf',\n",
       " './data/feat_files/sub-18/ses-me/run-2/fwhm-0/design.fsf',\n",
       " './data/feat_files/sub-18/ses-me/run-2/fwhm-5/design.fsf',\n",
       " './data/feat_files/sub-18/ses-me/run-3/fwhm-0/design.fsf',\n",
       " './data/feat_files/sub-18/ses-me/run-3/fwhm-5/design.fsf',\n",
       " './data/feat_files/sub-18/ses-se/run-1/fwhm-0/design.fsf',\n",
       " './data/feat_files/sub-18/ses-se/run-1/fwhm-5/design.fsf',\n",
       " './data/feat_files/sub-18/ses-se/run-2/fwhm-0/design.fsf',\n",
       " './data/feat_files/sub-18/ses-se/run-2/fwhm-5/design.fsf',\n",
       " './data/feat_files/sub-18/ses-se/run-3/fwhm-0/design.fsf',\n",
       " './data/feat_files/sub-18/ses-se/run-3/fwhm-5/design.fsf']"
      ]
     },
     "execution_count": 53,
     "metadata": {},
     "output_type": "execute_result"
    }
   ],
   "source": [
    "# all_fsfs"
   ]
  },
  {
   "cell_type": "code",
   "execution_count": 8,
   "metadata": {},
   "outputs": [],
   "source": [
    "# #orig_fsf = './data/feat_files/sub-01/ses-se/run-1.fsf'\n",
    "\n",
    "# subjects = np.arange(1, 19)\n",
    "# sessions = ['se', 'me']\n",
    "# runs = [1,2,3]\n",
    "\n",
    "# for sub in subjects:\n",
    "#     for ses in sessions:\n",
    "#         if sub == 12 and ses == 'me':\n",
    "#             continue\n",
    "            \n",
    "#         for run in runs:\n",
    "#             if sub == 17 and run == 3:\n",
    "#                 continue\n",
    "                \n",
    "#             else:\n",
    "# #                feat_dir_this_run = './data/feat_files/sub-{}/ses-{}/run-{}/'.format(str(sub).zfill(2), ses, run)\n",
    "# #                shutil.copy(src=orig_fsf, dst=feat_dir_this_run + 'design.fsf')\n",
    "                \n",
    "#                 fix_fsf_file(str(sub).zfill(2), ses, run)"
   ]
  },
  {
   "cell_type": "code",
   "execution_count": 67,
   "metadata": {},
   "outputs": [],
   "source": [
    "# # find all newly created deisng files\n",
    "# all_fsfs = glob.glob('./data/feat_files/sub-*/ses-*/run*/*.fsf')\n",
    "# all_fsfs.sort()\n",
    "\n",
    "# #remove sub-01/ses-se/run-1 - already run\n",
    "# all_fsfs = [x for x in all_fsfs if not 'sub-01/ses-se/run-1/design.fsf' in x and not 'sub-01/ses-se/run-1.feat/design.fsf' in x]\n",
    "# all_fsfs = [x for x in all_fsfs if not '.feat' in x]\n",
    "\n",
    "# # remove those that have been run already\n",
    "# def has_run(output_dir):\n",
    "#     if output_dir.endswith('.fsf'):\n",
    "#         path_elements = output_dir.split('/')[:-1]\n",
    "#         path_elements[-1] += '.feat'\n",
    "#         output_dir = '/'.join(path_elements)\n",
    "#     if os.path.exists(os.path.join(output_dir, 'stats/threshac1.nii.gz')):\n",
    "#         return True\n",
    "#     else:\n",
    "#         return False\n",
    "    \n",
    "# all_fsfs = [x for x in all_fsfs if not has_run(x)]\n",
    "# all_fsfs\n",
    "\n",
    "# # check output directories; remove created-but-not-run .feat-dirs to prevent shitty + ++ +++ ++++ directory names\n",
    "# dot_feat_dirs = glob.glob('./data/feat_files/sub-*/ses-*/run*.feat')\n",
    "# for feat_dir in dot_feat_dirs:\n",
    "#     if not os.path.exists(os.path.join(feat_dir, 'stats/threshac1.nii.gz')):\n",
    "#         shutil.rmtree(feat_dir)"
   ]
  },
  {
   "cell_type": "code",
   "execution_count": 69,
   "metadata": {},
   "outputs": [],
   "source": [
    "# def run_feat(fsf_file):\n",
    "#     print(fsf_file)\n",
    "#     import subprocess\n",
    "#     return_code = subprocess.run([\"feat\", fsf_file])\n",
    "#     print('{}: {}'.format(fsf_file, return_code))\n",
    "#     return return_code\n",
    "\n",
    "# # parallel\n",
    "# import multiprocessing as mp\n",
    "\n",
    "# with mp.Pool(15) as p:\n",
    "#     outputs = p.map(run_feat, all_fsfs)"
   ]
  },
  {
   "cell_type": "markdown",
   "metadata": {},
   "source": [
    "# Level 2: Fixed effects\n",
    "\n",
    "Feat higher-order analyses require \"registration to have been performed\", which is true, but not by FSL so FSL doesn't know. To do this, \"trick\" FSL into thinking they have been run by linking identity matrices to the feat dirs.\n",
    "\n",
    "See also https://neurostars.org/t/performing-full-glm-analysis-with-fsl-on-the-bold-images-preprocessed-by-fmriprep-without-re-registering-the-data-to-the-mni-space/784"
   ]
  },
  {
   "cell_type": "code",
   "execution_count": 6,
   "metadata": {},
   "outputs": [],
   "source": [
    "def link_files(feat_dir, fsl_dir='/usr/share/fsl/5.0'):\n",
    "    reg_dir = os.path.join(feat_dir, 'reg')\n",
    "    if not os.path.exists(reg_dir):\n",
    "        os.makedirs(reg_dir)\n",
    "    os.system('ln -s {}/etc/flirtsch/ident.mat {}/reg/example_func2standard.mat'.format(fsl_dir, feat_dir))\n",
    "    os.system('ln -s {}/etc/flirtsch/ident.mat {}/reg/standard2example_func.mat'.format(fsl_dir, feat_dir))\n",
    "    os.system('ln -s {}/mean_func.nii.gz {}/reg/standard.nii.gz'.format(feat_dir, feat_dir))\n",
    "    return 0\n",
    "\n",
    "subjects = np.arange(1, 19)\n",
    "sessions = ['se', 'me']\n",
    "runs = [1,2,3]\n",
    "\n",
    "for fwhm in [0, 5]:\n",
    "    for sub in subjects:\n",
    "        for ses in sessions:\n",
    "            if sub == 12 and ses == 'me':\n",
    "                continue\n",
    "\n",
    "            for run in runs:\n",
    "                if sub == 17 and run == 3:\n",
    "                    continue\n",
    "\n",
    "                else:\n",
    "                    feat_dir = '/home/stevenm/MultiEchoEPISeq/data/feat_fwhm-{}/sub-{}/ses-{}/run-{}.feat'.format(fwhm, str(sub).zfill(2), ses, run)\n",
    "                    link_files(feat_dir)"
   ]
  },
  {
   "cell_type": "markdown",
   "metadata": {},
   "source": [
    "## Manually create single fixed-effects .fsf-file again here"
   ]
  },
  {
   "cell_type": "code",
   "execution_count": 8,
   "metadata": {},
   "outputs": [],
   "source": [
    "def fix_fsf_file_fe(sub, ses, fwhm,\n",
    "                    orig_fsf='./data/feat_fwhm-5/sub-01/ses-se_fe/design.fsf', \n",
    "                    write_out=True):\n",
    "    # read fsf as txt\n",
    "    with open(orig_fsf, 'r') as f:\n",
    "        fsf = f.read()\n",
    "    \n",
    "    for run in [1,2,3]:\n",
    "        # replace directories..\n",
    "        fsf = fsf.replace(\"/home/stevenm/MultiEchoEPISeq/data/feat_fwhm-5/sub-01/ses-se/run-{}\".format(run),\n",
    "                          \"/home/stevenm/MultiEchoEPISeq/data/feat_fwhm-{}/sub-{}/ses-{}/run-{}\".format(fwhm, str(sub).zfill(2), ses, run))\n",
    "    \n",
    "    # output directory\n",
    "    fsf = fsf.replace(\"/home/stevenm/MultiEchoEPISeq/data/feat_fwhm-5/sub-01/ses-se_fe\", \n",
    "                      \"/home/stevenm/MultiEchoEPISeq/data/feat_fwhm-{}/sub-{}/ses-{}_fe\".format(fwhm, str(sub).zfill(2), ses, run))\n",
    "    \n",
    "    # For subject 17, remove run 3\n",
    "    if sub == '17':\n",
    "        fsf = fsf.replace(\"set fmri(npts) 3\", \"set fmri(npts) 2\")\n",
    "        fsf = fsf.replace('set feat_files(3) \"/home/stevenm/MultiEchoEPISeq/data/feat_fwhm-{}/sub-17/ses-{}/run-3.feat\"'.format(fwhm, ses), '')\n",
    "        fsf = fsf.replace('set fmri(ortho1.3) 0', '')\n",
    "        fsf = fsf.replace('set fmri(evg3.1) 1.0', '')\n",
    "        fsf = fsf.replace('set fmri(groupmem.3) 1', '')\n",
    "        \n",
    "    # save fsf as txt\n",
    "    if write_out:\n",
    "        output_dir = './data/feat_fwhm-{}/sub-{}/ses-{}_fe'.format(fwhm, str(sub).zfill(2), ses)\n",
    "        if not os.path.exists(output_dir):\n",
    "            os.makedirs(output_dir)\n",
    "        with open(os.path.join(output_dir, 'design.fsf'), 'w') as f:\n",
    "            f.write(fsf)\n",
    "    else:\n",
    "        return fsf\n",
    "    \n",
    "#fix_fsf_file_fe('01', 'me', write_out=False)\n",
    "\n",
    "subjects = np.arange(1, 19)\n",
    "sessions = ['se', 'me']\n",
    "runs = [1,2,3]\n",
    "\n",
    "for fwhm in [0, 5]:\n",
    "    for sub in subjects:\n",
    "        for ses in sessions:\n",
    "            if sub == 12 and ses == 'me':\n",
    "                continue\n",
    "\n",
    "            for run in runs:\n",
    "                if sub == 17 and run == 3:\n",
    "                    continue\n",
    "\n",
    "                else:\n",
    "                    fix_fsf_file_fe(str(sub).zfill(2), ses, fwhm=fwhm, write_out=True)"
   ]
  },
  {
   "cell_type": "code",
   "execution_count": 10,
   "metadata": {},
   "outputs": [
    {
     "data": {
      "text/plain": [
       "['/home/stevenm/MultiEchoEPISeq/data/feat_fwhm-0/sub-01/ses-me_fe/design.fsf',\n",
       " '/home/stevenm/MultiEchoEPISeq/data/feat_fwhm-0/sub-01/ses-se_fe/design.fsf',\n",
       " '/home/stevenm/MultiEchoEPISeq/data/feat_fwhm-0/sub-02/ses-me_fe/design.fsf',\n",
       " '/home/stevenm/MultiEchoEPISeq/data/feat_fwhm-0/sub-02/ses-se_fe/design.fsf',\n",
       " '/home/stevenm/MultiEchoEPISeq/data/feat_fwhm-0/sub-03/ses-me_fe/design.fsf',\n",
       " '/home/stevenm/MultiEchoEPISeq/data/feat_fwhm-0/sub-03/ses-se_fe/design.fsf',\n",
       " '/home/stevenm/MultiEchoEPISeq/data/feat_fwhm-0/sub-04/ses-me_fe/design.fsf',\n",
       " '/home/stevenm/MultiEchoEPISeq/data/feat_fwhm-0/sub-04/ses-se_fe/design.fsf',\n",
       " '/home/stevenm/MultiEchoEPISeq/data/feat_fwhm-0/sub-05/ses-me_fe/design.fsf',\n",
       " '/home/stevenm/MultiEchoEPISeq/data/feat_fwhm-0/sub-05/ses-se_fe/design.fsf',\n",
       " '/home/stevenm/MultiEchoEPISeq/data/feat_fwhm-0/sub-06/ses-me_fe/design.fsf',\n",
       " '/home/stevenm/MultiEchoEPISeq/data/feat_fwhm-0/sub-06/ses-se_fe/design.fsf',\n",
       " '/home/stevenm/MultiEchoEPISeq/data/feat_fwhm-0/sub-07/ses-me_fe/design.fsf',\n",
       " '/home/stevenm/MultiEchoEPISeq/data/feat_fwhm-0/sub-07/ses-se_fe/design.fsf',\n",
       " '/home/stevenm/MultiEchoEPISeq/data/feat_fwhm-0/sub-08/ses-me_fe/design.fsf',\n",
       " '/home/stevenm/MultiEchoEPISeq/data/feat_fwhm-0/sub-08/ses-se_fe/design.fsf',\n",
       " '/home/stevenm/MultiEchoEPISeq/data/feat_fwhm-0/sub-09/ses-me_fe/design.fsf',\n",
       " '/home/stevenm/MultiEchoEPISeq/data/feat_fwhm-0/sub-09/ses-se_fe/design.fsf',\n",
       " '/home/stevenm/MultiEchoEPISeq/data/feat_fwhm-0/sub-10/ses-me_fe/design.fsf',\n",
       " '/home/stevenm/MultiEchoEPISeq/data/feat_fwhm-0/sub-10/ses-se_fe/design.fsf',\n",
       " '/home/stevenm/MultiEchoEPISeq/data/feat_fwhm-0/sub-11/ses-me_fe/design.fsf',\n",
       " '/home/stevenm/MultiEchoEPISeq/data/feat_fwhm-0/sub-11/ses-se_fe/design.fsf',\n",
       " '/home/stevenm/MultiEchoEPISeq/data/feat_fwhm-0/sub-12/ses-se_fe/design.fsf',\n",
       " '/home/stevenm/MultiEchoEPISeq/data/feat_fwhm-0/sub-13/ses-me_fe/design.fsf',\n",
       " '/home/stevenm/MultiEchoEPISeq/data/feat_fwhm-0/sub-13/ses-se_fe/design.fsf',\n",
       " '/home/stevenm/MultiEchoEPISeq/data/feat_fwhm-0/sub-14/ses-me_fe/design.fsf',\n",
       " '/home/stevenm/MultiEchoEPISeq/data/feat_fwhm-0/sub-14/ses-se_fe/design.fsf',\n",
       " '/home/stevenm/MultiEchoEPISeq/data/feat_fwhm-0/sub-15/ses-me_fe/design.fsf',\n",
       " '/home/stevenm/MultiEchoEPISeq/data/feat_fwhm-0/sub-15/ses-se_fe/design.fsf',\n",
       " '/home/stevenm/MultiEchoEPISeq/data/feat_fwhm-0/sub-16/ses-me_fe/design.fsf',\n",
       " '/home/stevenm/MultiEchoEPISeq/data/feat_fwhm-0/sub-16/ses-se_fe/design.fsf',\n",
       " '/home/stevenm/MultiEchoEPISeq/data/feat_fwhm-0/sub-17/ses-me_fe/design.fsf',\n",
       " '/home/stevenm/MultiEchoEPISeq/data/feat_fwhm-0/sub-17/ses-se_fe/design.fsf',\n",
       " '/home/stevenm/MultiEchoEPISeq/data/feat_fwhm-0/sub-18/ses-me_fe/design.fsf',\n",
       " '/home/stevenm/MultiEchoEPISeq/data/feat_fwhm-0/sub-18/ses-se_fe/design.fsf',\n",
       " '/home/stevenm/MultiEchoEPISeq/data/feat_fwhm-5/sub-01/ses-me_fe/design.fsf',\n",
       " '/home/stevenm/MultiEchoEPISeq/data/feat_fwhm-5/sub-01/ses-se_fe/design.fsf',\n",
       " '/home/stevenm/MultiEchoEPISeq/data/feat_fwhm-5/sub-02/ses-me_fe/design.fsf',\n",
       " '/home/stevenm/MultiEchoEPISeq/data/feat_fwhm-5/sub-02/ses-se_fe/design.fsf',\n",
       " '/home/stevenm/MultiEchoEPISeq/data/feat_fwhm-5/sub-03/ses-me_fe/design.fsf',\n",
       " '/home/stevenm/MultiEchoEPISeq/data/feat_fwhm-5/sub-03/ses-se_fe/design.fsf',\n",
       " '/home/stevenm/MultiEchoEPISeq/data/feat_fwhm-5/sub-04/ses-me_fe/design.fsf',\n",
       " '/home/stevenm/MultiEchoEPISeq/data/feat_fwhm-5/sub-04/ses-se_fe/design.fsf',\n",
       " '/home/stevenm/MultiEchoEPISeq/data/feat_fwhm-5/sub-05/ses-me_fe/design.fsf',\n",
       " '/home/stevenm/MultiEchoEPISeq/data/feat_fwhm-5/sub-05/ses-se_fe/design.fsf',\n",
       " '/home/stevenm/MultiEchoEPISeq/data/feat_fwhm-5/sub-06/ses-me_fe/design.fsf',\n",
       " '/home/stevenm/MultiEchoEPISeq/data/feat_fwhm-5/sub-06/ses-se_fe/design.fsf',\n",
       " '/home/stevenm/MultiEchoEPISeq/data/feat_fwhm-5/sub-07/ses-me_fe/design.fsf',\n",
       " '/home/stevenm/MultiEchoEPISeq/data/feat_fwhm-5/sub-07/ses-se_fe/design.fsf',\n",
       " '/home/stevenm/MultiEchoEPISeq/data/feat_fwhm-5/sub-08/ses-me_fe/design.fsf',\n",
       " '/home/stevenm/MultiEchoEPISeq/data/feat_fwhm-5/sub-08/ses-se_fe/design.fsf',\n",
       " '/home/stevenm/MultiEchoEPISeq/data/feat_fwhm-5/sub-09/ses-me_fe/design.fsf',\n",
       " '/home/stevenm/MultiEchoEPISeq/data/feat_fwhm-5/sub-09/ses-se_fe/design.fsf',\n",
       " '/home/stevenm/MultiEchoEPISeq/data/feat_fwhm-5/sub-10/ses-me_fe/design.fsf',\n",
       " '/home/stevenm/MultiEchoEPISeq/data/feat_fwhm-5/sub-10/ses-se_fe/design.fsf',\n",
       " '/home/stevenm/MultiEchoEPISeq/data/feat_fwhm-5/sub-11/ses-me_fe/design.fsf',\n",
       " '/home/stevenm/MultiEchoEPISeq/data/feat_fwhm-5/sub-11/ses-se_fe/design.fsf',\n",
       " '/home/stevenm/MultiEchoEPISeq/data/feat_fwhm-5/sub-12/ses-se_fe/design.fsf',\n",
       " '/home/stevenm/MultiEchoEPISeq/data/feat_fwhm-5/sub-13/ses-me_fe/design.fsf',\n",
       " '/home/stevenm/MultiEchoEPISeq/data/feat_fwhm-5/sub-13/ses-se_fe/design.fsf',\n",
       " '/home/stevenm/MultiEchoEPISeq/data/feat_fwhm-5/sub-14/ses-me_fe/design.fsf',\n",
       " '/home/stevenm/MultiEchoEPISeq/data/feat_fwhm-5/sub-14/ses-se_fe/design.fsf',\n",
       " '/home/stevenm/MultiEchoEPISeq/data/feat_fwhm-5/sub-15/ses-me_fe/design.fsf',\n",
       " '/home/stevenm/MultiEchoEPISeq/data/feat_fwhm-5/sub-15/ses-se_fe/design.fsf',\n",
       " '/home/stevenm/MultiEchoEPISeq/data/feat_fwhm-5/sub-16/ses-me_fe/design.fsf',\n",
       " '/home/stevenm/MultiEchoEPISeq/data/feat_fwhm-5/sub-16/ses-se_fe/design.fsf',\n",
       " '/home/stevenm/MultiEchoEPISeq/data/feat_fwhm-5/sub-17/ses-me_fe/design.fsf',\n",
       " '/home/stevenm/MultiEchoEPISeq/data/feat_fwhm-5/sub-17/ses-se_fe/design.fsf',\n",
       " '/home/stevenm/MultiEchoEPISeq/data/feat_fwhm-5/sub-18/ses-me_fe/design.fsf',\n",
       " '/home/stevenm/MultiEchoEPISeq/data/feat_fwhm-5/sub-18/ses-se_fe/design.fsf']"
      ]
     },
     "execution_count": 10,
     "metadata": {},
     "output_type": "execute_result"
    }
   ],
   "source": [
    "all_fsfs = glob.glob('/home/stevenm/MultiEchoEPISeq/data/feat_fwhm-*/sub-*/ses-*_fe/*.fsf')\n",
    "all_fsfs.sort()\n",
    "all_fsfs"
   ]
  },
  {
   "cell_type": "code",
   "execution_count": 107,
   "metadata": {},
   "outputs": [
    {
     "data": {
      "text/plain": [
       "['/home/stevenm/MultiEchoEPISeq/data/feat_files/sub-01/ses-me_fe/design.fsf',\n",
       " '/home/stevenm/MultiEchoEPISeq/data/feat_files/sub-02/ses-me_fe/design.fsf',\n",
       " '/home/stevenm/MultiEchoEPISeq/data/feat_files/sub-02/ses-se_fe/design.fsf',\n",
       " '/home/stevenm/MultiEchoEPISeq/data/feat_files/sub-03/ses-me_fe/design.fsf',\n",
       " '/home/stevenm/MultiEchoEPISeq/data/feat_files/sub-03/ses-se_fe/design.fsf',\n",
       " '/home/stevenm/MultiEchoEPISeq/data/feat_files/sub-04/ses-me_fe/design.fsf',\n",
       " '/home/stevenm/MultiEchoEPISeq/data/feat_files/sub-04/ses-se_fe/design.fsf',\n",
       " '/home/stevenm/MultiEchoEPISeq/data/feat_files/sub-05/ses-me_fe/design.fsf',\n",
       " '/home/stevenm/MultiEchoEPISeq/data/feat_files/sub-05/ses-se_fe/design.fsf',\n",
       " '/home/stevenm/MultiEchoEPISeq/data/feat_files/sub-06/ses-me_fe/design.fsf',\n",
       " '/home/stevenm/MultiEchoEPISeq/data/feat_files/sub-06/ses-se_fe/design.fsf',\n",
       " '/home/stevenm/MultiEchoEPISeq/data/feat_files/sub-07/ses-me_fe/design.fsf',\n",
       " '/home/stevenm/MultiEchoEPISeq/data/feat_files/sub-07/ses-se_fe/design.fsf',\n",
       " '/home/stevenm/MultiEchoEPISeq/data/feat_files/sub-08/ses-me_fe/design.fsf',\n",
       " '/home/stevenm/MultiEchoEPISeq/data/feat_files/sub-08/ses-se_fe/design.fsf',\n",
       " '/home/stevenm/MultiEchoEPISeq/data/feat_files/sub-09/ses-me_fe/design.fsf',\n",
       " '/home/stevenm/MultiEchoEPISeq/data/feat_files/sub-09/ses-se_fe/design.fsf',\n",
       " '/home/stevenm/MultiEchoEPISeq/data/feat_files/sub-10/ses-me_fe/design.fsf',\n",
       " '/home/stevenm/MultiEchoEPISeq/data/feat_files/sub-10/ses-se_fe/design.fsf',\n",
       " '/home/stevenm/MultiEchoEPISeq/data/feat_files/sub-11/ses-me_fe/design.fsf',\n",
       " '/home/stevenm/MultiEchoEPISeq/data/feat_files/sub-11/ses-se_fe/design.fsf',\n",
       " '/home/stevenm/MultiEchoEPISeq/data/feat_files/sub-12/ses-se_fe/design.fsf',\n",
       " '/home/stevenm/MultiEchoEPISeq/data/feat_files/sub-13/ses-me_fe/design.fsf',\n",
       " '/home/stevenm/MultiEchoEPISeq/data/feat_files/sub-13/ses-se_fe/design.fsf',\n",
       " '/home/stevenm/MultiEchoEPISeq/data/feat_files/sub-14/ses-me_fe/design.fsf',\n",
       " '/home/stevenm/MultiEchoEPISeq/data/feat_files/sub-14/ses-se_fe/design.fsf',\n",
       " '/home/stevenm/MultiEchoEPISeq/data/feat_files/sub-15/ses-me_fe/design.fsf',\n",
       " '/home/stevenm/MultiEchoEPISeq/data/feat_files/sub-15/ses-se_fe/design.fsf',\n",
       " '/home/stevenm/MultiEchoEPISeq/data/feat_files/sub-16/ses-me_fe/design.fsf',\n",
       " '/home/stevenm/MultiEchoEPISeq/data/feat_files/sub-16/ses-se_fe/design.fsf',\n",
       " '/home/stevenm/MultiEchoEPISeq/data/feat_files/sub-17/ses-me_fe/design.fsf',\n",
       " '/home/stevenm/MultiEchoEPISeq/data/feat_files/sub-17/ses-se_fe/design.fsf',\n",
       " '/home/stevenm/MultiEchoEPISeq/data/feat_files/sub-18/ses-me_fe/design.fsf',\n",
       " '/home/stevenm/MultiEchoEPISeq/data/feat_files/sub-18/ses-se_fe/design.fsf']"
      ]
     },
     "execution_count": 107,
     "metadata": {},
     "output_type": "execute_result"
    }
   ],
   "source": [
    "# # find all newly created deisng files\n",
    "# all_fsfs = glob.glob('/home/stevenm/MultiEchoEPISeq/data/feat_files/sub-*/ses-*_fe/*.fsf')\n",
    "# all_fsfs.sort()\n",
    "\n",
    "# #remove sub-01/ses-se.gfeat- already run\n",
    "# all_fsfs = [x for x in all_fsfs if not 'sub-01/ses-se_fe/design.fsf' in x and not 'sub-01/ses-se_fe.gfeat/design.fsf' in x]\n",
    "# all_fsfs = [x for x in all_fsfs if not '.gfeat' in x]\n",
    "\n",
    "# # remove those that have been run already\n",
    "# def has_run(output_dir):\n",
    "#     if output_dir.endswith('.fsf'):\n",
    "#         path_elements = output_dir.split('/')[:-1]\n",
    "#         path_elements[-1] += '.gfeat'\n",
    "#         output_dir = '/'.join(path_elements)\n",
    "#     if os.path.exists(os.path.join(output_dir, 'cope3.feat/filtered_func_data.nii.gz.nii.gz')):\n",
    "#         return True\n",
    "#     else:\n",
    "#         return False\n",
    "    \n",
    "# all_fsfs = [x for x in all_fsfs if not has_run(x)]\n",
    "# all_fsfs\n",
    "\n",
    "# # # check output directories; remove created-but-not-run .feat-dirs to prevent shitty + ++ +++ ++++ directory names\n",
    "# # dot_feat_dirs = glob.glob('./data/feat_files/sub-*/ses-*_fe.gfeat')\n",
    "# # for feat_dir in dot_feat_dirs:\n",
    "# #     if not os.path.exists(os.path.join(feat_dir, 'cope3.feat/filtered_func_data.nii.gz')):\n",
    "# #         print(feat_dir)\n",
    "# #        shutil.rmtree(feat_dir)\n",
    "# all_fsfs"
   ]
  },
  {
   "cell_type": "code",
   "execution_count": 13,
   "metadata": {},
   "outputs": [
    {
     "data": {
      "text/plain": [
       "256"
      ]
     },
     "execution_count": 13,
     "metadata": {},
     "output_type": "execute_result"
    }
   ],
   "source": [
    "# for some bloody reason this won't run from within a jupyter notebook, so make a batch file\n",
    "txt_file = []\n",
    "for row in range(len(all_fsfs)):\n",
    "    txt_file.append('feat {}\\n'.format(all_fsfs[row]))\n",
    "txt_file.insert(0, '#/bin/bash\\n')\n",
    "\n",
    "with open(\"./data/feat_files/run_all_fe.sh\", 'w') as f:\n",
    "    f.writelines(txt_file)\n",
    "os.system('chmod +x ./data/feat_files/run_all_fe.sh')\n",
    "\n",
    "# os.system('./data/feat_files/run_all_fe.sh')"
   ]
  },
  {
   "cell_type": "markdown",
   "metadata": {},
   "source": [
    "## Fixed effects done"
   ]
  },
  {
   "cell_type": "markdown",
   "metadata": {},
   "source": [
    "## Level 3: Random effects for single echo and multi echo\n",
    "\n",
    "Only FWHM = 5 mm\n",
    "Use Flame1\n",
    "\n",
    "2x3 models (2 sessions, 1 per cope)"
   ]
  },
  {
   "cell_type": "code",
   "execution_count": 25,
   "metadata": {},
   "outputs": [
    {
     "name": "stdout",
     "output_type": "stream",
     "text": [
      "/home/stevenm/MultiEchoEPISeq/data/feat_fwhm-5/sub-01/ses-se_fe.gfeat/cope1.feat\n",
      "/home/stevenm/MultiEchoEPISeq/data/feat_fwhm-5/sub-02/ses-se_fe.gfeat/cope1.feat\n",
      "/home/stevenm/MultiEchoEPISeq/data/feat_fwhm-5/sub-03/ses-se_fe.gfeat/cope1.feat\n",
      "/home/stevenm/MultiEchoEPISeq/data/feat_fwhm-5/sub-04/ses-se_fe.gfeat/cope1.feat\n",
      "/home/stevenm/MultiEchoEPISeq/data/feat_fwhm-5/sub-05/ses-se_fe.gfeat/cope1.feat\n",
      "/home/stevenm/MultiEchoEPISeq/data/feat_fwhm-5/sub-06/ses-se_fe.gfeat/cope1.feat\n",
      "/home/stevenm/MultiEchoEPISeq/data/feat_fwhm-5/sub-07/ses-se_fe.gfeat/cope1.feat\n",
      "/home/stevenm/MultiEchoEPISeq/data/feat_fwhm-5/sub-08/ses-se_fe.gfeat/cope1.feat\n",
      "/home/stevenm/MultiEchoEPISeq/data/feat_fwhm-5/sub-09/ses-se_fe.gfeat/cope1.feat\n",
      "/home/stevenm/MultiEchoEPISeq/data/feat_fwhm-5/sub-10/ses-se_fe.gfeat/cope1.feat\n",
      "/home/stevenm/MultiEchoEPISeq/data/feat_fwhm-5/sub-11/ses-se_fe.gfeat/cope1.feat\n",
      "/home/stevenm/MultiEchoEPISeq/data/feat_fwhm-5/sub-13/ses-se_fe.gfeat/cope1.feat\n",
      "/home/stevenm/MultiEchoEPISeq/data/feat_fwhm-5/sub-14/ses-se_fe.gfeat/cope1.feat\n",
      "/home/stevenm/MultiEchoEPISeq/data/feat_fwhm-5/sub-15/ses-se_fe.gfeat/cope1.feat\n",
      "/home/stevenm/MultiEchoEPISeq/data/feat_fwhm-5/sub-16/ses-se_fe.gfeat/cope1.feat\n",
      "/home/stevenm/MultiEchoEPISeq/data/feat_fwhm-5/sub-17/ses-se_fe.gfeat/cope1.feat\n",
      "/home/stevenm/MultiEchoEPISeq/data/feat_fwhm-5/sub-18/ses-se_fe.gfeat/cope1.feat\n"
     ]
    }
   ],
   "source": [
    "# txt = ['/home/stevenm/MultiEchoEPISeq/data/feat_fwhm-5/sub-{}/ses-se_fe.gfeat/cope1.feat'.format(str(x).zfill(2)) for x in np.arange(1, 19) if not x == 12]\n",
    "# print('\\n'.join(txt))"
   ]
  },
  {
   "cell_type": "code",
   "execution_count": 28,
   "metadata": {},
   "outputs": [],
   "source": [
    "def fix_fsf_file_flame1(ses, fwhm, cope,\n",
    "                        orig_fsf='./data/feat_files/thirdlevel_template/design.fsf', \n",
    "                        write_out=True):\n",
    "    # read fsf as txt\n",
    "    with open(orig_fsf, 'r') as f:\n",
    "        fsf = f.read()\n",
    "    \n",
    "    # output directory\n",
    "    fsf = fsf.replace(\"/home/stevenm/MultiEchoEPISeq/data/feat_fwhm-5/thirdlevel/ses-se/cope1\",\n",
    "                      \"/home/stevenm/MultiEchoEPISeq/data/feat_fwhm-{}/thirdlevel/ses-{}/cope{}\".format(fwhm, ses, cope))\n",
    "    \n",
    "    for sub in np.arange(1, 19):\n",
    "        fsf = fsf.replace('set feat_files({}) \"/home/stevenm/MultiEchoEPISeq/data/feat_fwhm-5/sub-{}/ses-se_fe.gfeat/cope1.feat\"'.format(sub, str(sub).zfill(2)),\n",
    "            'set feat_files({}) \"/home/stevenm/MultiEchoEPISeq/data/feat_fwhm-{}/sub-{}/ses-{}_fe.gfeat/cope{}.feat\"'.format(sub, fwhm, str(sub).zfill(2), ses, cope))\n",
    "        \n",
    "    # save fsf as txt\n",
    "    if write_out:\n",
    "        output_dir = './data/feat_fwhm-{}/ses-{}_flame1/cope{}'.format(fwhm, ses, cope)\n",
    "        if not os.path.exists(output_dir):\n",
    "            os.makedirs(output_dir)\n",
    "        with open(os.path.join(output_dir, 'design.fsf'), 'w') as f:\n",
    "            f.write(fsf)\n",
    "    else:\n",
    "        return fsf\n",
    "    \n",
    "#fix_fsf_file_fe('01', 'me', write_out=False)\n",
    "\n",
    "subjects = np.arange(1, 19)\n",
    "sessions = ['se', 'me']\n",
    "runs = [1,2,3]\n",
    "\n",
    "for fwhm in [0, 5]:\n",
    "    for cope in [1,2,3]:\n",
    "        for ses in sessions:\n",
    "            if sub == 12 and ses == 'me':\n",
    "                continue\n",
    "\n",
    "            for run in runs:\n",
    "                if sub == 17 and run == 3:\n",
    "                    continue\n",
    "\n",
    "                else:\n",
    "                    fix_fsf_file_flame1(ses, fwhm=fwhm, cope=cope, write_out=True)"
   ]
  },
  {
   "cell_type": "code",
   "execution_count": 31,
   "metadata": {},
   "outputs": [
    {
     "name": "stdout",
     "output_type": "stream",
     "text": [
      "child process exited abnormally\r",
      "\r\n",
      "    while executing\r",
      "\r\n",
      "\"fsl:exec \"${FSLDIR}/bin/feat ${fsfroot}.fsf -D $FD -flame3\" -b 60 -N feat3c_flame -h $ID -l logs \"\r",
      "\r\n",
      "    invoked from within\r",
      "\r\n",
      "\"if { $done_something == 0 } {\r",
      "\r\n",
      "\r",
      "\r\n",
      "    if { ! $fmri(inmelodic) } {\r",
      "\r\n",
      "       if { $fmri(level) == 1 } {\r",
      "\r\n",
      "\t      for { set session 1 } { $session <= $fmri(mult...\"\r",
      "\r\n",
      "    (file \"/usr/share/fsl/5.0/bin/feat\" line 387)\r",
      "\r\n"
     ]
    }
   ],
   "source": [
    "!feat ./data/feat_fwhm-5/ses-se_flame1/cope2/design.fsf"
   ]
  },
  {
   "cell_type": "code",
   "execution_count": 30,
   "metadata": {},
   "outputs": [
    {
     "data": {
      "text/plain": [
       "['./data/feat_fwhm-5/ses-se_flame1/cope2/design.fsf',\n",
       " './data/feat_fwhm-5/ses-se_flame1/cope3/design.fsf',\n",
       " './data/feat_fwhm-5/ses-se_flame1/cope1/design.fsf',\n",
       " './data/feat_fwhm-5/ses-me_flame1/cope2/design.fsf',\n",
       " './data/feat_fwhm-5/ses-me_flame1/cope3/design.fsf',\n",
       " './data/feat_fwhm-5/ses-me_flame1/cope1/design.fsf']"
      ]
     },
     "execution_count": 30,
     "metadata": {},
     "output_type": "execute_result"
    }
   ],
   "source": [
    "glob.glob('./data/feat_fwhm-5/ses-*_flame1/cope*/design.fsf')"
   ]
  },
  {
   "cell_type": "code",
   "execution_count": null,
   "metadata": {},
   "outputs": [],
   "source": []
  },
  {
   "cell_type": "markdown",
   "metadata": {},
   "source": [
    "## Flame from command line"
   ]
  },
  {
   "cell_type": "code",
   "execution_count": null,
   "metadata": {},
   "outputs": [],
   "source": [
    "#### test flameo command line\n",
    "\n",
    "import pickle as pkl\n",
    "copes = []\n",
    "varcopes = []\n",
    "\n",
    "def load_contrasts(contrast, session='se'):\n",
    "    copes = []\n",
    "    varcopes = []\n",
    "\n",
    "    for sub in np.arange(1,19):\n",
    "        print(sub, end='... ')\n",
    "        if sub == 12:\n",
    "            continue\n",
    "        else:\n",
    "            if session == 'se':\n",
    "                with open('./data/deriv/fmriprep/sub-{}/ses-se/model_onset-shift/firstlevel_fwhm-5.pkl'.format(str(sub).zfill(2)), 'rb') as f:\n",
    "                    model = pkl.load(f)\n",
    "            else:\n",
    "                with open('./data/deriv/fmriprep/sub-{}/ses-me/model_onset-shift/firstlevel_fwhm-5_comb-optcomb.pkl'.format(str(sub).zfill(2)), 'rb') as f:\n",
    "                    model = pkl.load(f)\n",
    "                    \n",
    "            copes.append(model.compute_contrast([contrast], output_type='effect_size'))\n",
    "            varcopes.append(model.compute_contrast([contrast], output_type='effect_variance'))\n",
    "    return nilearn.image.concat_imgs(copes), nilearn.image.concat_imgs(varcopes)\n",
    "\n",
    "contrasts_se = {'failed_stop - go_trial': load_contrasts('failed_stop - go_trial', session='se'),\n",
    "                'successful_stop - go_trial': load_contrasts('successful_stop - go_trial', session='se'),\n",
    "                'failed_stop - successful_stop': load_contrasts('failed_stop - successful_stop', session='se')}\n",
    "\n",
    "contrasts_me = {'failed_stop - go_trial': load_contrasts('failed_stop - go_trial', session='me'),\n",
    "                'successful_stop - go_trial': load_contrasts('successful_stop - go_trial', session='me'),\n",
    "                'failed_stop - successful_stop': load_contrasts('failed_stop - successful_stop', session='me')}"
   ]
  },
  {
   "cell_type": "markdown",
   "metadata": {},
   "source": [
    "## Level 3 GLM: Compare single-echo vs multi-echo directly\n",
    "Concatenate all COPEs and varCOPEs"
   ]
  },
  {
   "cell_type": "code",
   "execution_count": null,
   "metadata": {},
   "outputs": [],
   "source": [
    "keys = list(contrasts_se.keys())\n",
    "contrasts_all = {key: (nilearn.image.concat_imgs([contrasts_se[key][0], contrasts_me[key][0]]),\n",
    "                       nilearn.image.concat_imgs([contrasts_se[key][1], contrasts_me[key][1]])) for key in keys}\n",
    "\n",
    "for key, items in contrasts_all.items():\n",
    "    os.makedirs('flameo/level3/contrast-{}'.format(key.replace(' ', '')), exist_ok=True)\n",
    "    nib.save(items[0], 'flameo/level3/contrast-{}/copes.nii.gz'.format(key.replace(' ', '')))\n",
    "    nib.save(items[1], 'flameo/level3/contrast-{}/varcopes.nii.gz'.format(key.replace(' ', '')))"
   ]
  },
  {
   "cell_type": "markdown",
   "metadata": {},
   "source": [
    "Make .mat, .con, .grp files for flameo"
   ]
  },
  {
   "cell_type": "code",
   "execution_count": null,
   "metadata": {},
   "outputs": [],
   "source": [
    "# make design for within-subject, between-run second level analysis\n",
    "id_mat = np.eye(17)\n",
    "id_mat = np.vstack([id_mat, id_mat])\n",
    "random_group = np.ones(shape=(17*2, 1))\n",
    "run_contrast = np.ones(shape=(17*2, 1))\n",
    "run_contrast[17:] *= -1\n",
    "\n",
    "# Design matrix\n",
    "design_matrix = np.hstack([run_contrast, id_mat])\n",
    "pd.DataFrame(design_matrix).to_csv('./flameo/level3/design_matrix.csv', sep='\\t', index=None, header=False)\n",
    "os.system('Text2Vest flameo/level3/design_matrix.csv flameo/level3/design.mat')\n",
    "\n",
    "# Random group specification\n",
    "grp_matrix = random_group\n",
    "pd.DataFrame(grp_matrix).to_csv('./flameo/level3/design_grp.csv', sep='\\t', index=None, header=False)\n",
    "os.system('Text2Vest flameo/level3/design_grp.csv flameo/level3/design.grp')\n",
    "\n",
    "# Contrast specification\n",
    "contrast = np.hstack([np.array([1,-1])[:,np.newaxis], np.zeros((2, 17))])\n",
    "pd.DataFrame(contrast).to_csv('./flameo/level3/design_contrast.csv', sep='\\t', index=None, header=False)\n",
    "os.system('Text2Vest flameo/level3/design_contrast.csv flameo/level3/design.con')"
   ]
  },
  {
   "cell_type": "code",
   "execution_count": null,
   "metadata": {},
   "outputs": [],
   "source": [
    "Make flameo commands & run"
   ]
  },
  {
   "cell_type": "code",
   "execution_count": null,
   "metadata": {},
   "outputs": [],
   "source": [
    "design_template = os.path.join('flameo', '{}', '{}')\n",
    "path_template = os.path.join('flameo', '{}', 'contrast-{}', '{}')\n",
    "session = 'level3'\n",
    "for runmode in ['fe', 'flame1', 'ols']:\n",
    "    for contrast in contrasts_all.keys():\n",
    "        print('{} {} {}'.format(runmode, contrast, session), end=': ')\n",
    "        flameo_cmd = ['flameo',\n",
    "                      ' --mask=', os.path.join('flameo', 'sub-01_ses-se_task-stop_run-1_space-MNI152NLin2009cAsym_desc-brain_mask.nii.gz'),\n",
    "                      ' --cope=', path_template.format(session, contrast.replace(' ', ''), 'copes.nii.gz'),\n",
    "                      ' --varcope=', path_template.format(session, contrast.replace(' ', ''), 'varcopes.nii.gz'),\n",
    "                      ' --dm=', design_template.format(session, 'design.mat'),\n",
    "                      ' --tc=', design_template.format(session, 'design.con'),\n",
    "                      ' --cs=', design_template.format(session, 'design.grp'),\n",
    "                      ' --runmode=', runmode,\n",
    "                      ' --logdir=', path_template.format(session, contrast.replace(' ', ''), runmode)]\n",
    "        flameo_cmd = ''.join(flameo_cmd)\n",
    "        print(flameo_cmd)\n",
    "\n",
    "        print(os.system(flameo_cmd))"
   ]
  },
  {
   "cell_type": "markdown",
   "metadata": {},
   "source": [
    "## Analyze GLMs\n",
    "##### Extract influence on t-values\n",
    "\n",
    "$t = \\frac{\\beta}{\\sqrt{variance}}$\n",
    "\n",
    "For fixed-effects: variance = within-subject variance $\\sigma^2$\n",
    "\n",
    "For random-effects: variance = within $\\sigma^2$ + between subject variance $\\Sigma^2$\n",
    "\n",
    "By taking the voxel-wise difference between random effects variance and fixed-effects variance, we estimate the inter-subject variance"
   ]
  },
  {
   "cell_type": "code",
   "execution_count": null,
   "metadata": {},
   "outputs": [],
   "source": [
    "# make second level design files\n",
    "design_str = \"/NumWaves\\t1\\n/NumPoints\\t17\\n/PPheights\\t\\t1.00000e+00\\n\\n/Matrix\\n\" + \"1.00000e+00\\n\"*17\n",
    "grp_str = \"/NumWaves\\t1\\n/NumPoints\\t17\\n\\n/Matrix\" + \"\\n1\"*17"
   ]
  },
  {
   "cell_type": "code",
   "execution_count": null,
   "metadata": {},
   "outputs": [],
   "source": [
    "# get first-level COPEs and varCOPEs\n",
    "second_levels_dir = './flameo'\n",
    "for smooth in [0]:\n",
    "    \n",
    "    for session in ['se', 'me']:\n",
    "        if session == 'se':\n",
    "            contrasts = contrasts_se\n",
    "        elif session == 'me':\n",
    "            contrasts = contrasts_me\n",
    "            \n",
    "        for contrast in contrasts.keys():\n",
    "            path = os.path.join(second_levels_dir, session, 'smoothing-{}'.format(smooth),\n",
    "                         'contrast-{}'.format(contrast.replace(' ', '')))\n",
    "            os.makedirs(path, exist_ok=True)\n",
    "\n",
    "            # save three files necessary for flame\n",
    "            con_str = \"/ContrastName1\\t{}\\n/ContrastName2\\t{}\\n/NumWaves\\t1\\n/NumContrasts\\t2\\n/PPheights\\t\\t1.00000e+00\\t1.0000e+00\\n/RequiredEffect\\t\\t1119.478\\t1119.478\\n\\n/Matrix\\n1.0000e+00\\n-1.0000e+11\".format(contrast.replace(' ',''), '-' + contrast.replace(' ', ''))\n",
    "            with open(os.path.join(path, 'design.mat'), 'w') as f:\n",
    "                f.write(design_str)\n",
    "            with open(os.path.join(path, 'design.con'), 'w') as f:\n",
    "                f.write(con_str)\n",
    "            with open(os.path.join(path, 'design.grp'), 'w') as f:\n",
    "                f.write(grp_str)\n",
    "\n",
    "            if smooth == 0:\n",
    "                nib.save(contrasts[contrast][0], os.path.join(path, 'copes.nii.gz'))\n",
    "                nib.save(contrasts[contrast][1], os.path.join(path, 'varcopes.nii.gz'))\n",
    "            else:\n",
    "                to_save_cope = nilearn.image.smooth_img(contrasts[contrast][0], smooth)\n",
    "                to_save_varcope = nilearn.image.smooth_img(contrasts[contrast][1], smooth)\n",
    "                nib.save(to_save_cope, os.path.join(path, 'copes.nii.gz'))\n",
    "                nib.save(to_save_varcope, os.path.join(path, 'varcopes.nii.gz'))"
   ]
  },
  {
   "cell_type": "code",
   "execution_count": null,
   "metadata": {},
   "outputs": [],
   "source": [
    "!cp ./data/deriv/fmriprep/sub-01/ses-se/func/sub-01_ses-se_task-stop_run-1_space-MNI152NLin2009cAsym_desc-brain_mask.nii.gz ./flameo"
   ]
  },
  {
   "cell_type": "code",
   "execution_count": null,
   "metadata": {},
   "outputs": [],
   "source": [
    "## make cmd and run\n",
    "path_template = os.path.join('flameo', '{}', 'smoothing-{}', 'contrast-{}', '{}')\n",
    "smooth = 0\n",
    "\n",
    "for session in ['se', 'me']:\n",
    "    for smooth in [0]:\n",
    "        for runmode in ['fe', 'flame1', 'ols']:\n",
    "            for contrast in contrasts_se.keys():\n",
    "                print('{} {} {} {}'.format(smooth, runmode, contrast, session), end=': ')\n",
    "                flameo_cmd = ['flameo',\n",
    "                              ' --mask=', os.path.join('flameo', 'sub-01_ses-se_task-stop_run-1_space-MNI152NLin2009cAsym_desc-brain_mask.nii.gz'),\n",
    "                              ' --cope=', path_template.format(session, smooth, contrast.replace(' ', ''), 'copes.nii.gz'),\n",
    "                              ' --varcope=', path_template.format(session, smooth, contrast.replace(' ', ''), 'varcopes.nii.gz'),\n",
    "                              ' --dm=', path_template.format(session, smooth, contrast.replace(' ', ''), 'design.mat'),\n",
    "                              ' --tc=', path_template.format(session, smooth, contrast.replace(' ', ''), 'design.con'),\n",
    "                              ' --cs=', path_template.format(session, smooth, contrast.replace(' ', ''), 'design.grp'),\n",
    "                              ' --runmode=', runmode,\n",
    "                              ' --logdir=', path_template.format(session, smooth, contrast.replace(' ', ''), runmode)]\n",
    "                flameo_cmd = ''.join(flameo_cmd)\n",
    "                print(flameo_cmd)\n",
    "\n",
    "                print(os.system(flameo_cmd))"
   ]
  },
  {
   "cell_type": "code",
   "execution_count": null,
   "metadata": {},
   "outputs": [],
   "source": []
  },
  {
   "cell_type": "markdown",
   "metadata": {},
   "source": [
    "## Plot commands"
   ]
  },
  {
   "cell_type": "code",
   "execution_count": null,
   "metadata": {},
   "outputs": [],
   "source": [
    "import os\n",
    "import pandas\n",
    "import numpy as np\n",
    "import nibabel as nib\n",
    "import glob\n",
    "\n",
    "from nilearn.plotting import find_xyz_cut_coords\n",
    "import matplotlib.pyplot as plt\n",
    "from scipy.stats import norm\n",
    "import re\n",
    "\n",
    "def get_color(mask):\n",
    "    if 'STN' in mask:\n",
    "        return 'white'\n",
    "    if 'STR' in mask:\n",
    "        return 'blue'\n",
    "    if 'PreSMA' in mask:\n",
    "        return 'yellow'\n",
    "    if 'ACC' in mask:\n",
    "        return 'green'\n",
    "    if 'M1' in mask:\n",
    "        return 'pink'\n",
    "    if 'GPi' in mask:\n",
    "        return 'yellow'\n",
    "    if 'GPe' in mask:\n",
    "        return 'brown'\n",
    "    if 'IFG' in mask:\n",
    "        return 'orange'\n",
    "\n",
    "# make dict of masks & filenames in 09c-space, get colors\n",
    "fns = glob.glob('./masks/final_masks_mni09c_1mm/space*')\n",
    "fns.sort()\n",
    "names = [re.match('.*space-(?P<space>[a-zA-Z0-9]+)_label-(?P<label>[a-zA-Z0-9]+)_probseg.nii.gz', fn).groupdict()['label'] for fn in fns]\n",
    "roi_dict = dict(zip(names, fns))\n",
    "for mask, fn in roi_dict.items():\n",
    "    roi_dict[mask] = {}\n",
    "    roi_dict[mask]['fn'] = fn\n",
    "    roi_dict[mask]['color'] = get_color(mask)\n",
    "    roi_dict[mask]['threshold'] = 0.1 if 'STN' in mask else 0.3\n",
    "\n",
    "def get_prop_limits(props, current_limits):\n",
    "    extent = current_limits[1]-current_limits[0]\n",
    "    x0 = current_limits[0] + extent*props[0]\n",
    "    x1 = current_limits[0] + extent*props[1]\n",
    "    return (x0, x1)\n",
    "\n",
    "def add_contours(disp, roi, thr=0.3, linewidth=1, color='white', **kwargs):\n",
    "    from nilearn._utils.extmath import fast_abs_percentile\n",
    "    from nilearn._utils.param_validation import check_threshold\n",
    "    \n",
    "    map_img = nib.load(roi)\n",
    "    data = map_img.get_data()\n",
    "    # threshold manually\n",
    "    \n",
    "    \n",
    "    thr = check_threshold(thr, data,\n",
    "                          percentile_func=fast_abs_percentile,\n",
    "                          name='threshold')\n",
    "    \n",
    "    # Get rid of background values in all cases\n",
    "    thr = max(thr, 1e-6)\n",
    "    if data.max() > 1:\n",
    "        thr = thr*100\n",
    "    disp.add_contours(roi, levels=[thr], linewidth=linewidth, colors=[color], **kwargs)\n",
    "    \n",
    "def plot_secondlevel_results(zmaps, roi_map, bg_img=None, z_threshold=0, f=None, axes=None,\n",
    "                            # brain_mask='../Templates/mni_icbm152_nlin_asym_09c_nifti/mni_icbm152_nlin_asym_09c.nii.gz',\n",
    "                             roi_to_plot=('PreSMA', 'M1', 'ACC', 'rIFG', 'STR', 'GPe', 'GPi', 'STN'),\n",
    "                             cut_coords=[None, None, None, None, None, None, None, None],\n",
    "                             contrasts=('failed_stop - go_trial',\n",
    "                                        'successful_stop - go_trial',\n",
    "                                        'failed_stop - successful_stop'),\n",
    "                             plot_columns=(0, 1, 3, 4, 6, 7),\n",
    "                             empty_plots=False, skip_all_but_last=False,\n",
    "                             **kwargs):\n",
    "    \n",
    "    if f is None:\n",
    "        gridspec = dict(hspace=0.0, wspace=0.0, width_ratios=[1, 1, 0.05, 1, 1, .05, 1, 1, .1])\n",
    "        f, axes = plt.subplots(len(roi_to_plot), len(zmaps)+3, gridspec_kw=gridspec)  # add 3 columns: 2 interspace, 1 on the right for the colorbar\n",
    " \n",
    "    if empty_plots:\n",
    "        f.set_size_inches(len(zmaps)*4, len(roi_to_plot)*4)\n",
    "        return f, axes\n",
    "    \n",
    "    all_cut_coords = []\n",
    "    all_disps = []\n",
    "    for row_n, roi in enumerate(roi_to_plot):\n",
    "        # for debugging\n",
    "        if skip_all_but_last:\n",
    "            if row_n < (len(roi_to_plot)-1):\n",
    "                continue\n",
    "        \n",
    "        # get cut coordinates based on 1 hemisphere (if applicable)\n",
    "        if roi in ['STR', 'STN', 'PreSMA', 'GPe', 'GPi']:\n",
    "            roi_map = roi_dict['l' + roi]\n",
    "        else:\n",
    "            roi_map = roi_dict[roi]\n",
    "#        roi_map = make_conjunction_mask(roi_map['fn'], brain_mask)\n",
    "        if roi == 'rIFG':\n",
    "            ## saggital\n",
    "            if cut_coords[row_n] is None:\n",
    "                this_cut_coords = find_xyz_cut_coords(roi_map['fn'])[0:1]\n",
    "            else:\n",
    "                this_cut_coords = cut_coords[row_n]\n",
    "            display_mode='x'\n",
    "            plot_rois = ['rIFG', 'M1', 'rPreSMA']\n",
    "        elif roi == 'STR':\n",
    "            ## axial view\n",
    "            if cut_coords[row_n] is None:\n",
    "                this_cut_coords = find_xyz_cut_coords(roi_map['fn'])[2:3]\n",
    "            else:\n",
    "                this_cut_coords = cut_coords[row_n]\n",
    "\n",
    "            display_mode='z'\n",
    "            plot_rois = ['rIFG', 'M1',\n",
    "                         'lSTR', 'lGPe', 'lGPi', 'lSTN',\n",
    "                         'rSTR', 'rGPe', 'rGPi', 'rSTN']\n",
    "        elif roi == 'STN':\n",
    "            ## plot coronal view\n",
    "            if cut_coords[row_n] is None:\n",
    "                this_cut_coords = find_xyz_cut_coords(roi_map['fn'])[1:2]\n",
    "            else:\n",
    "                this_cut_coords = cut_coords[row_n]\n",
    "\n",
    "            display_mode='y'\n",
    "            plot_rois = ['rIFG', 'M1',\n",
    "                         'lSTR', 'lGPe', 'lGPi', 'lSTN',\n",
    "                         'rSTR', 'rGPe', 'rGPi', 'rSTN']\n",
    "\n",
    "        all_cut_coords.append({display_mode: this_cut_coords[0]})\n",
    "        \n",
    "        # loop over contrasts for columns\n",
    "        for col_n, map_n in zip(plot_columns, np.arange(len(zmaps))):\n",
    "            zmap = zmaps[map_n]\n",
    "            if skip_all_but_last:\n",
    "                if col_n < (len(zmaps)-1):\n",
    "                    continue\n",
    "            \n",
    "            if row_n == (len(roi_to_plot)-1) and col_n == (len(zmaps)-1):\n",
    "                # plot colobar in the last plot\n",
    "                cbar = False\n",
    "            else:\n",
    "                cbar = False\n",
    "            \n",
    "#             # do not plot in column 2 or 5\n",
    "#             plot_col = col_n\n",
    "#             if col_n > 1:\n",
    "#                 plot_col = col_n + 1\n",
    "#             if col_n > 3:\n",
    "#                 plot_col = col_n + 2\n",
    "                \n",
    "            if isinstance(z_threshold, list):\n",
    "                this_threshold = z_threshold[map_n]\n",
    "            else:\n",
    "                this_threshold = z_threshold\n",
    "            ax = axes[row_n, col_n]\n",
    "            \n",
    "#             print(cbar)\n",
    "            disp = plotting.plot_stat_map(zmap, bg_img=bg_img, \n",
    "                                          threshold=this_threshold, cut_coords=this_cut_coords,\n",
    "                                          display_mode=display_mode, axes=ax, colorbar=cbar, **kwargs)\n",
    "        \n",
    "            # just plot *all* contours, always\n",
    "            for roi_ in plot_rois:\n",
    "                roi_map = roi_dict[roi_]\n",
    "#             for roi_, roi_map in roi_dict.items():\n",
    "#                 print(roi_map)\n",
    "                add_contours(disp, roi=roi_map['fn'], thr=roi_map['threshold'], color=roi_map['color'])\n",
    "\n",
    "            # set new xlimits if necessary (ie zoom for STN view)\n",
    "            if 'STN' in roi and display_mode == 'z':\n",
    "                this_key = [x for x in disp.axes.keys()]\n",
    "                this_key = this_key[0]\n",
    "                cur_xlim = disp.axes[this_key].ax.get_xlim()\n",
    "                cur_ylim = disp.axes[this_key].ax.get_ylim()\n",
    "                new_xlim = get_prop_limits([.25, .75], cur_xlim)\n",
    "                new_ylim = get_prop_limits([.40, .90], cur_ylim)\n",
    "                disp.axes[this_key].ax.set_xlim(new_xlim[0], new_xlim[1])\n",
    "                disp.axes[this_key].ax.set_ylim(new_ylim[0], new_ylim[1])\n",
    "            elif 'STN' in roi and display_mode == 'y':\n",
    "                this_key = [x for x in disp.axes.keys()]\n",
    "                this_key = this_key[0]\n",
    "                cur_xlim = disp.axes[this_key].ax.get_xlim()\n",
    "                cur_ylim = disp.axes[this_key].ax.get_ylim()\n",
    "                new_xlim = get_prop_limits([.25, .75], cur_xlim)\n",
    "                new_ylim = get_prop_limits([.25, .75], cur_ylim)\n",
    "                disp.axes[this_key].ax.set_xlim(new_xlim[0], new_xlim[1])\n",
    "                disp.axes[this_key].ax.set_ylim(new_ylim[0], new_ylim[1])\n",
    "            elif 'STR' in roi and display_mode == 'z':\n",
    "                this_key = [x for x in disp.axes.keys()]\n",
    "                this_key = this_key[0]\n",
    "                cur_xlim = disp.axes[this_key].ax.get_xlim()\n",
    "                cur_ylim = disp.axes[this_key].ax.get_ylim()\n",
    "                new_xlim = get_prop_limits([0, 1], cur_xlim)\n",
    "                new_ylim = get_prop_limits([.3, 1], cur_ylim)\n",
    "                disp.axes[this_key].ax.set_xlim(new_xlim[0], new_xlim[1])\n",
    "                disp.axes[this_key].ax.set_ylim(new_ylim[0], new_ylim[1])\n",
    "                \n",
    "            all_disps.append(disp)\n",
    "    \n",
    "    # add labels\n",
    "#     for ax, nm in zip(axes[0], zmaps.keys()):\n",
    "#         ax.set_title(nm)\n",
    "    if not skip_all_but_last:\n",
    "        for row_n, ax in enumerate(axes[:,0]):\n",
    "            cc = all_cut_coords[row_n]\n",
    "            disp_mode = [x for x in cc.keys()][0]\n",
    "            coord = cc[disp_mode]\n",
    "            ax.annotate('%s = %d' %(disp_mode, int(coord)), xy=(0, 0.5), xytext=(-ax.yaxis.labelpad - 0, 0),\n",
    "                        xycoords=ax.yaxis.label, textcoords='offset points', rotation=90,\n",
    "                        size=16, ha='right', va='center')\n",
    "\n",
    "    f.set_size_inches(len(zmaps)*4, len(roi_to_plot)*4)\n",
    "    \n",
    "    return f, axes, all_disps\n",
    "\n",
    "def _draw_colorbarSM2(colorbar_ax, vmin=3, vmax=6, truncation_limits=(0,6), offset=4., nb_ticks=4, flip=True):\n",
    "    from matplotlib.colorbar import ColorbarBase\n",
    "    from matplotlib import colors\n",
    "    our_cmap = plotting.cm.cold_hot\n",
    "    if flip:\n",
    "        truncation_limits = [truncation_limits[1], truncation_limits[0]]\n",
    "    ticks = np.linspace(truncation_limits[0], truncation_limits[1], nb_ticks)\n",
    "    bounds = np.linspace(truncation_limits[0], truncation_limits[1], our_cmap.N)\n",
    "    norm = colors.Normalize(vmin=-vmax, vmax=vmax)\n",
    "    \n",
    "    # some colormap hacking\n",
    "    cmaplist = [our_cmap(i) for i in range(our_cmap.N)]\n",
    "    istart = int(norm(-offset, clip=True) * (our_cmap.N - 1))\n",
    "    istop = int(norm(offset, clip=True) * (our_cmap.N - 1))\n",
    "    for i in range(istart, istop):\n",
    "        cmaplist[i] = (0.5, 0.5, 0.5, 1.)  # just an average gray color\n",
    "    our_cmap = our_cmap.from_list('Custom cmap', cmaplist, our_cmap.N)\n",
    "\n",
    "    ColorbarBase(colorbar_ax, ticks=ticks, norm=norm,\n",
    "                 orientation='vertical', cmap=our_cmap, boundaries=bounds,\n",
    "                 spacing='proportional', format='%.2g')\n",
    "    \n",
    "    if flip:\n",
    "        colorbar_ax.invert_yaxis()\n",
    "        colorbar_ax.yaxis.tick_right()\n",
    "    else:\n",
    "        colorbar_ax.yaxis.tick_left()\n",
    "\n",
    "    return colorbar_ax\n",
    "\n",
    "from matplotlib import gridspec\n",
    "\n",
    "def plot_3x3(zmaps, thresholds, roi_dict=roi_dict,\n",
    "             titles=('SE > ME', 'SE > ME', 'SE > ME'),\n",
    "             contrast_names=('Contrast 1', 'Contrast 2', 'Contrast 3'),\n",
    "             vmax=6, colorbars=((3, 6), (3, 6)),\n",
    "             colorbar_title='z-values'):\n",
    "    \n",
    "    gridspec_kws = dict(hspace=0.0, wspace=0.0, \n",
    "                        width_ratios=[1, 0.05, 1, 0.05, 1, .1, .1, .1])\n",
    "    gs = gridspec.GridSpec(3, len(zmaps)+5, **gridspec_kws)\n",
    "    f, axes = plt.subplots(3, len(zmaps)+5, gridspec_kw=gridspec_kws)\n",
    "    # add 5 columns: 3 interspaces, 2 colorbars\n",
    "\n",
    "    f, axes, disps = plot_secondlevel_results(zmaps, roi_dict, z_threshold=thresholds,\n",
    "                                              f=f, axes=axes,\n",
    "                                              roi_to_plot=['rIFG', 'STR', 'STN'],\n",
    "                                              cut_coords=[[52], None, [-13]],\n",
    "                                              bg_img='/home/stevenm/Templates/mni_icbm152_nlin_asym_09c_nifti/mni_icbm152_nlin_asym_09c/mni_icbm152_t1_tal_nlin_asym_09c_brain.nii',\n",
    "                                              plot_columns=(0, 2, 4),\n",
    "                                              vmax=vmax, #colorbar=False, \n",
    "                                              annotate=False, empty_plots=False, \n",
    "                                              skip_all_but_last=False)\n",
    "    axes[0,0].set_title(titles[0], size=16)\n",
    "    axes[0,2].set_title(titles[1], size=16)\n",
    "    axes[0,4].set_title(titles[2], size=16)\n",
    "    \n",
    "    for row in range(axes.shape[0]):\n",
    "        axes[row,1].set_visible(False)\n",
    "        axes[row,3].set_visible(False)\n",
    "        axes[row,5].set_visible(False)\n",
    "        if row in [0,1,2]:\n",
    "            for col in [-3,-2,-1]:\n",
    "                axes[row,col].set_visible(False)\n",
    "                axes[row,col].set_visible(False)\n",
    "\n",
    "    # for titles: https://stackoverflow.com/questions/40936729/matplotlib-title-spanning-two-or-any-number-of-subplot-columns\n",
    "    ext = []\n",
    "    #loop over the columns (j) and rows(i) to populate subplots\n",
    "    for j in range(5):\n",
    "        # save the axes bounding boxes for later use\n",
    "        ext.append([axes[0,j].get_window_extent().x0, axes[0,j].get_window_extent().width ])\n",
    "\n",
    "    # make nice\n",
    "    inv = f.transFigure.inverted()\n",
    "    width_left = ext[0][0]+(ext[0][0]+ext[0][1]-ext[0][0])/2.\n",
    "    left_center = inv.transform( (width_left, 1) )\n",
    "\n",
    "    width_mid = ext[2][0]+(ext[2][0]+ext[2][1]-ext[2][0])/2.\n",
    "    mid_center = inv.transform( (width_mid, 1) )\n",
    "\n",
    "    width_right = ext[4][0]+(ext[4][0]+ext[4][1]-ext[4][0])/2.\n",
    "    right_center = inv.transform( (width_right, 1) )\n",
    "\n",
    "    # set column spanning title \n",
    "    # the first two arguments to figtext are x and y coordinates in the figure system (0 to 1)\n",
    "    plt.figtext(left_center[0], .93, contrast_names[0], va=\"center\", ha=\"center\", size=16)\n",
    "    plt.figtext(mid_center[0], .93, contrast_names[1], va=\"center\", ha=\"center\", size=16)\n",
    "    plt.figtext(right_center[0], .93, contrast_names[2], va=\"center\", ha=\"center\", size=16)\n",
    "\n",
    "    # colorbar\n",
    "    thrs_ = thresholds\n",
    "    if isinstance(thresholds, list):\n",
    "        thrs_ = thresholds[0]\n",
    "    \n",
    "    cbar_ax1 = f.add_subplot(gs[1,-2])\n",
    "    cbar_ax1 = _draw_colorbarSM2(colorbar_ax=cbar_ax1, \n",
    "                                 vmin=colorbars[0][0], vmax=colorbars[0][1],\n",
    "                                 truncation_limits=colorbars[0], offset=thrs_, flip=False)\n",
    "    \n",
    "    if len(colorbars) == 2:\n",
    "        cbar_ax2 = f.add_subplot(gs[1,-1])\n",
    "        cbar_ax2 = _draw_colorbarSM2(colorbar_ax=cbar_ax2, \n",
    "                                     vmin=colorbars[1][0], vmax=colorbars[1][1],\n",
    "                                     truncation_limits=(-colorbars[1][0], -colorbars[1][1]), \n",
    "                                     offset=thrs_, flip=True)\n",
    "    cbar_ax1.set_title(colorbar_title, rotation=90, fontsize=16, ha='left', pad=75)\n",
    "\n",
    "    return f, axes\n",
    "\n",
    "def plot_3x6(zmaps, thresholds, roi_dict=roi_dict,\n",
    "             titles=('Single echo', 'Multi echo', 'Single echo', 'Multi echo', 'Single echo', 'Multi echo'),\n",
    "             contrast_names=('Contrast 1', 'Contrast 2', 'Contrast 3'),\n",
    "             vmax=6, colorbars=((3, 6), (3, 6)),\n",
    "             colorbar_title='z-values'):\n",
    "    gridspec_kws = dict(hspace=0.0, wspace=0.0, \n",
    "                    width_ratios=[1, 1, 0.05, 1, 1, .05, 1, 1, .1, .1, .1])\n",
    "    gs = gridspec.GridSpec(3, len(zmaps)+5, **gridspec_kws)\n",
    "    f, axes = plt.subplots(3, len(zmaps)+5, gridspec_kw=gridspec_kws)\n",
    "    # add 5 columns: 3 interspaces, 2 colorbars\n",
    "\n",
    "    f, axes, disps = plot_secondlevel_results(zmaps, roi_dict, z_threshold=thresholds,\n",
    "                                              f=f, axes=axes,\n",
    "                                              roi_to_plot=['rIFG', 'STR', 'STN'],\n",
    "                                              cut_coords=[[52], None, [-13]],\n",
    "                                              bg_img='/home/stevenm/Templates/mni_icbm152_nlin_asym_09c_nifti/mni_icbm152_nlin_asym_09c/mni_icbm152_t1_tal_nlin_asym_09c_brain.nii',\n",
    "                                              vmax=vmax, #colorbar=False, \n",
    "                                              annotate=False, empty_plots=False, \n",
    "                                              skip_all_but_last=False)\n",
    "    axes[0,0].set_title(titles[0], size=16)\n",
    "    axes[0,1].set_title(titles[1], size=16)\n",
    "    axes[0,3].set_title(titles[2], size=16)\n",
    "    axes[0,4].set_title(titles[3], size=16)\n",
    "    axes[0,6].set_title(titles[4], size=16)\n",
    "    axes[0,7].set_title(titles[5], size=16)\n",
    "\n",
    "    for row in range(axes.shape[0]):\n",
    "        axes[row,2].set_visible(False)\n",
    "        axes[row,5].set_visible(False)\n",
    "        axes[row,8].set_visible(False)\n",
    "        if row in [0,1,2]:\n",
    "            for col in [-3,-2,-1]:\n",
    "                axes[row,col].set_visible(False)\n",
    "                axes[row,col].set_visible(False)\n",
    "\n",
    "    # for titles: https://stackoverflow.com/questions/40936729/matplotlib-title-spanning-two-or-any-number-of-subplot-columns\n",
    "    ext = []\n",
    "    #loop over the columns (j) and rows(i) to populate subplots\n",
    "    for j in range(8):\n",
    "        # save the axes bounding boxes for later use\n",
    "        ext.append([axes[0,j].get_window_extent().x0, axes[0,j].get_window_extent().width ])\n",
    "\n",
    "    # make nice\n",
    "    inv = f.transFigure.inverted()\n",
    "    width_left = ext[0][0]+(ext[1][0]+ext[1][1]-ext[0][0])/2.\n",
    "    left_center = inv.transform( (width_left, 1) )\n",
    "\n",
    "    width_mid = ext[3][0]+(ext[4][0]+ext[4][1]-ext[3][0])/2.\n",
    "    mid_center = inv.transform( (width_mid, 1) )\n",
    "\n",
    "    width_right = ext[6][0]+(ext[7][0]+ext[7][1]-ext[6][0])/2.\n",
    "    right_center = inv.transform( (width_right, 1) )\n",
    "\n",
    "    # set column spanning title \n",
    "    # the first two arguments to figtext are x and y coordinates in the figure system (0 to 1)\n",
    "    plt.figtext(left_center[0], .93, contrast_names[0], va=\"center\", ha=\"center\", size=16)\n",
    "    plt.figtext(mid_center[0], .93, contrast_names[1], va=\"center\", ha=\"center\", size=16)\n",
    "    plt.figtext(right_center[0], .93, contrast_names[2], va=\"center\", ha=\"center\", size=16)\n",
    "\n",
    "    # colorbar\n",
    "    thrs_ = thresholds\n",
    "    if isinstance(thresholds, list):\n",
    "        thrs_ = thresholds[0]\n",
    "    \n",
    "    cbar_ax1 = f.add_subplot(gs[1,-2])\n",
    "    cbar_ax1 = _draw_colorbarSM2(colorbar_ax=cbar_ax1, \n",
    "                                 vmin=colorbars[0][0], vmax=colorbars[0][1],\n",
    "                                 truncation_limits=colorbars[0], offset=thrs_, flip=False)\n",
    "    \n",
    "    if len(colorbars) == 2:\n",
    "        cbar_ax2 = f.add_subplot(gs[1,-1])\n",
    "        cbar_ax2 = _draw_colorbarSM2(colorbar_ax=cbar_ax2, \n",
    "                                     vmin=colorbars[1][0], vmax=colorbars[1][1],\n",
    "                                     truncation_limits=(-colorbars[1][0], -colorbars[1][1]), \n",
    "                                     offset=thrs_, flip=True)\n",
    "    cbar_ax1.set_title(colorbar_title, rotation=90, fontsize=16, ha='left', pad=75)\n",
    "\n",
    "    return f, axes\n",
    "    # f.savefig('./glm.pdf')#, bbox_inches='tight')\n",
    "\n",
    "def order_maps_thresholds(zmaps_list, thresholds_list=None):\n",
    "    \"\"\" Orders zmaps & thresholds for plotting \"\"\"\n",
    "    \n",
    "    keys = [x for x in zmaps_list[0].keys()]\n",
    "    zmaps_combined = [l[keys[i]] for i in range(len(keys)) for l in zmaps_list]\n",
    "    \n",
    "    if thresholds_list is not None:\n",
    "        thresholds_combined = [t[i] for i in range(len(thresholds_list[0])) for t in thresholds_list]\n",
    "        return zmaps_combined, thresholds_combined\n",
    "    else:\n",
    "        return zmaps_combined"
   ]
  },
  {
   "cell_type": "markdown",
   "metadata": {},
   "source": [
    "## Inspect difference between sequences"
   ]
  },
  {
   "cell_type": "code",
   "execution_count": null,
   "metadata": {},
   "outputs": [],
   "source": [
    "nii_templ = './flameo/{}/contrast-{}/{}/zstat1.nii.gz'\n",
    "contrasts = ['failed_stop-go_trial', 'successful_stop-go_trial', 'failed_stop-successful_stop']\n",
    "runmode = 'flame1'\n",
    "\n",
    "zmaps_diff_flame1_0mm = {contrast: nib.load(nii_templ.format('level3', contrast, runmode))\n",
    "                         for contrast in contrasts}\n",
    "\n",
    "thresholds_diff = [map_threshold(zmaps_diff_flame1_0mm[contr], \n",
    "                                 level=0.05, height_control='fdr')[1] for contr in contrasts]\n",
    "\n",
    "# zmaps_combined, thresholds_combined = order_maps_thresholds([zmaps_se_flame1_0mm, zmaps_me_flame1_0mm],\n",
    "#                                                              [thresholds_se, thresholds_me])\n",
    "\n",
    "zmaps_ordered = [zmaps_diff_flame1_0mm[contrast] for contrast in contrasts]"
   ]
  },
  {
   "cell_type": "code",
   "execution_count": null,
   "metadata": {},
   "outputs": [],
   "source": [
    "thresholds_diff"
   ]
  },
  {
   "cell_type": "code",
   "execution_count": null,
   "metadata": {},
   "outputs": [],
   "source": [
    "zmaps_diff_flame1_0mm"
   ]
  },
  {
   "cell_type": "code",
   "execution_count": null,
   "metadata": {},
   "outputs": [],
   "source": [
    "_ = plot_3x3(zmaps_ordered, \n",
    "             1.96,  # UNCORRECTED \n",
    "             contrast_names=('Failed stop - Go', \n",
    "                             'Successful stop - Go',\n",
    "                             'Failed stop - Successful stop')\n",
    "             )"
   ]
  },
  {
   "cell_type": "code",
   "execution_count": null,
   "metadata": {},
   "outputs": [],
   "source": [
    "_ = plot_3x3(zmaps_ordered, \n",
    "             thresholds_diff, \n",
    "             contrast_names=('Failed stop - Go', \n",
    "                             'Successful stop - Go',\n",
    "                             'Failed stop - Successful stop')\n",
    "             )"
   ]
  },
  {
   "cell_type": "code",
   "execution_count": null,
   "metadata": {},
   "outputs": [],
   "source": [
    "beta = nib.load('./flameo/se/smoothing-0/contrast-failed_stop-go_trial/flame1/cope1.nii.gz')\n",
    "plotting.plot_stat_map(beta, vmax=10)\n",
    "sigma2 = nib.load('./flameo/se/smoothing-0/contrast-failed_stop-go_trial/fe/varcope1.nii.gz')\n",
    "plotting.plot_stat_map(sigma2, vmax=3)\n",
    "Sigma2 = nib.load('./flameo/se/smoothing-0/contrast-failed_stop-go_trial/flame1/mean_random_effects_var1.nii.gz')\n",
    "plotting.plot_stat_map(Sigma2, vmax=20)\n",
    "\n",
    "varcope = nib.load('./flameo/se/smoothing-0/contrast-failed_stop-go_trial/flame1/varcope1.nii.gz')\n",
    "plotting.plot_stat_map(varcope, vmax=10)"
   ]
  },
  {
   "cell_type": "code",
   "execution_count": null,
   "metadata": {},
   "outputs": [],
   "source": [
    "t_part = nib.Nifti1Image(beta.get_data()/np.sqrt(sigma2.get_data()), affine=sigma2.affine)\n",
    "plotting.plot_stat_map(t_part, vmax=25)"
   ]
  },
  {
   "cell_type": "code",
   "execution_count": null,
   "metadata": {},
   "outputs": [],
   "source": [
    "beta = nib.load('./flameo/me/smoothing-0/contrast-failed_stop-go_trial/flame1/cope1.nii.gz')\n",
    "plotting.plot_stat_map(beta, vmax=10)\n",
    "sigma2 = nib.load('./flameo/me/smoothing-0/contrast-failed_stop-go_trial/fe/varcope1.nii.gz')\n",
    "plotting.plot_stat_map(sigma2, vmax=3)\n",
    "Sigma2 = nib.load('./flameo/me/smoothing-0/contrast-failed_stop-go_trial/flame1/mean_random_effects_var1.nii.gz')\n",
    "plotting.plot_stat_map(Sigma2, vmax=20)\n",
    "\n",
    "varcope = nib.load('./flameo/me/smoothing-0/contrast-failed_stop-go_trial/flame1/varcope1.nii.gz')\n",
    "plotting.plot_stat_map(varcope, vmax=10)"
   ]
  },
  {
   "cell_type": "code",
   "execution_count": null,
   "metadata": {},
   "outputs": [],
   "source": [
    "t_part = nib.Nifti1Image(beta.get_data()/np.sqrt(sigma2.get_data()), affine=sigma2.affine)\n",
    "plotting.plot_stat_map(t_part, vmax=25)"
   ]
  },
  {
   "cell_type": "code",
   "execution_count": null,
   "metadata": {},
   "outputs": [],
   "source": []
  },
  {
   "cell_type": "code",
   "execution_count": null,
   "metadata": {},
   "outputs": [],
   "source": []
  },
  {
   "cell_type": "code",
   "execution_count": null,
   "metadata": {},
   "outputs": [],
   "source": [
    "varcope = nib.load('./flameo/se/smoothing-0/contrast-failed_stop-go_trial/fe/varcope1.nii.gz')\n",
    "plotting.plot_stat_map(varcope, vmax=2)\n",
    "varcope = nib.load('./flameo/me/smoothing-0/contrast-failed_stop-go_trial/fe/varcope1.nii.gz')\n",
    "plotting.plot_stat_map(varcope, vmax=2)"
   ]
  },
  {
   "cell_type": "code",
   "execution_count": null,
   "metadata": {},
   "outputs": [],
   "source": [
    "varcope = nib.load('./flameo/se/smoothing-0/contrast-failed_stop-go_trial/flame1/mean_random_effects_var1.nii.gz')\n",
    "plotting.plot_stat_map(varcope, vmax=10)\n",
    "varcope = nib.load('./flameo/me/smoothing-0/contrast-failed_stop-go_trial/flame1/mean_random_effects_var1.nii.gz')\n",
    "plotting.plot_stat_map(varcope, vmax=10)"
   ]
  },
  {
   "cell_type": "code",
   "execution_count": null,
   "metadata": {},
   "outputs": [],
   "source": [
    "varcope = nib.load('./flameo/se/smoothing-0/contrast-failed_stop-go_trial/flame1/varcope1.nii.gz')\n",
    "plotting.plot_stat_map(varcope, vmax=10)\n",
    "varcope = nib.load('./flameo/me/smoothing-0/contrast-failed_stop-go_trial/flame1/varcope1.nii.gz')\n",
    "plotting.plot_stat_map(varcope, vmax=10)"
   ]
  },
  {
   "cell_type": "code",
   "execution_count": null,
   "metadata": {},
   "outputs": [],
   "source": []
  },
  {
   "cell_type": "code",
   "execution_count": null,
   "metadata": {},
   "outputs": [],
   "source": [
    "Sigma2 = nib.load('./flameo/me/smoothing-0/contrast-failed_stop-go_trial/flame1/mean_random_effects_var1.nii.gz')\n",
    "plotting.plot_stat_map(Sigma2, vmax=20)"
   ]
  },
  {
   "cell_type": "code",
   "execution_count": null,
   "metadata": {},
   "outputs": [],
   "source": [
    "sigma2 = nib.load('./flameo/me/smoothing-0/contrast-failed_stop-go_trial/flame1/varcope1.nii.gz')\n",
    "plotting.plot_stat_map(sigma2)"
   ]
  },
  {
   "cell_type": "code",
   "execution_count": null,
   "metadata": {},
   "outputs": [],
   "source": [
    "sigma2 = nib.load('./flameo/me/smoothing-0/contrast-failed_stop-go_trial/flame1/varcope1.nii.gz')\n",
    "plotting.plot_stat_map(sigma2)"
   ]
  },
  {
   "cell_type": "code",
   "execution_count": null,
   "metadata": {},
   "outputs": [],
   "source": [
    "Sigma2 = nib.load('./flameo/me/smoothing-0/contrast-failed_stop-go_trial/flame1/mean_random_effects_var1.nii.gz')\n",
    "plotting.plot_stat_map(Sigma2)"
   ]
  },
  {
   "cell_type": "markdown",
   "metadata": {},
   "source": [
    "## 0 mm, flame1"
   ]
  },
  {
   "cell_type": "code",
   "execution_count": null,
   "metadata": {},
   "outputs": [],
   "source": [
    "nii_templ = './flameo/{}/smoothing-{}/contrast-{}/{}/zstat1.nii.gz'\n",
    "contrasts = ['failed_stop-go_trial', 'successful_stop-go_trial', 'failed_stop-successful_stop']\n",
    "runmode = 'flame1'\n",
    "zmaps_se_flame1_0mm = {contrast: nib.load(nii_templ.format('se', 0, contrast, runmode))\n",
    "                       for contrast in contrasts}\n",
    "zmaps_me_flame1_0mm = {contrast: nib.load(nii_templ.format('me', 0, contrast, runmode))\n",
    "                       for contrast in contrasts}\n",
    "\n",
    "thresholds_se = [map_threshold(zmaps_se_flame1_0mm[contr], level=0.05, height_control='fdr')[1] for contr in contrasts]\n",
    "thresholds_me = [map_threshold(zmaps_me_flame1_0mm[contr], level=0.05, height_control='fdr')[1] for contr in contrasts]\n",
    "\n",
    "zmaps_combined, thresholds_combined = order_maps_thresholds([zmaps_se_flame1_0mm, zmaps_me_flame1_0mm],\n",
    "                                                             [thresholds_se, thresholds_me])"
   ]
  },
  {
   "cell_type": "code",
   "execution_count": null,
   "metadata": {},
   "outputs": [],
   "source": [
    "_ = plot_3x6(zmaps_combined, \n",
    "             thresholds_combined, \n",
    "             contrast_names=('Failed stop - Go', \n",
    "                             'Successful stop - Go',\n",
    "                             'Failed stop - Successful stop')\n",
    "             )"
   ]
  },
  {
   "cell_type": "code",
   "execution_count": null,
   "metadata": {},
   "outputs": [],
   "source": [
    "nii_templ = './flameo/{}/smoothing-{}/contrast-{}/{}/zstat1.nii.gz'\n",
    "contrasts = ['failed_stop-go_trial', 'successful_stop-go_trial', 'failed_stop-successful_stop']\n",
    "runmode = 'fe'\n",
    "zmaps_se_fe_0mm = {contrast: nib.load(nii_templ.format('se', 0, contrast, runmode))\n",
    "                       for contrast in contrasts}\n",
    "zmaps_me_fe_0mm = {contrast: nib.load(nii_templ.format('me', 0, contrast, runmode))\n",
    "                       for contrast in contrasts}\n",
    "\n",
    "thresholds_se = [map_threshold(zmaps_se_fe_0mm[contr], level=0.05, height_control='fdr')[1] for contr in contrasts]\n",
    "thresholds_me = [map_threshold(zmaps_me_fe_0mm[contr], level=0.05, height_control='fdr')[1] for contr in contrasts]\n",
    "\n",
    "zmaps_combined, thresholds_combined = order_maps_thresholds([zmaps_se_fe_0mm, zmaps_me_fe_0mm],\n",
    "                                                            [thresholds_se, thresholds_me])"
   ]
  },
  {
   "cell_type": "code",
   "execution_count": null,
   "metadata": {},
   "outputs": [],
   "source": [
    "_ = plot_3x6(zmaps_combined, \n",
    "             thresholds_combined, \n",
    "             contrast_names=('Failed stop - Go', \n",
    "                             'Successful stop - Go',\n",
    "                             'Failed stop - Successful stop'),\n",
    "             vmax=20,\n",
    "             )"
   ]
  },
  {
   "cell_type": "markdown",
   "metadata": {},
   "source": [
    "### Extract influence on t-values:\n",
    "\n",
    "$t = \\frac{\\beta}{\\sqrt{variance}}$\n",
    "\n",
    "For fixed-effects: variance = within-subject variance\n",
    "\n",
    "For random-effects: variance = within + between subject variance\n",
    "\n",
    "Beta's and variances are given"
   ]
  },
  {
   "cell_type": "code",
   "execution_count": null,
   "metadata": {},
   "outputs": [],
   "source": [
    "!ls flameo/me/smoothing-0/contrast-failed_stop-go_trial/fe"
   ]
  },
  {
   "cell_type": "code",
   "execution_count": null,
   "metadata": {},
   "outputs": [],
   "source": [
    "mean_var = contrasts_se['failed_stop - go_trial'][1].get_data().mean(3)"
   ]
  },
  {
   "cell_type": "code",
   "execution_count": null,
   "metadata": {},
   "outputs": [],
   "source": [
    "plotting.plot_stat_map(nib.Nifti1Image(mean_var, affine=contrasts_se['failed_stop - go_trial'][1].affine))"
   ]
  },
  {
   "cell_type": "code",
   "execution_count": null,
   "metadata": {},
   "outputs": [],
   "source": [
    "plotting.plot_stat_map('./flameo/se/smoothing-0/contrast-failed_stop-go_trial/fe/cope1.nii.gz', vmax=10)"
   ]
  },
  {
   "cell_type": "code",
   "execution_count": null,
   "metadata": {},
   "outputs": [],
   "source": [
    "plotting.plot_stat_map('./flameo/se/smoothing-0/contrast-failed_stop-go_trial/ols/cope1.nii.gz', vmax=10)"
   ]
  },
  {
   "cell_type": "code",
   "execution_count": null,
   "metadata": {},
   "outputs": [],
   "source": []
  },
  {
   "cell_type": "code",
   "execution_count": null,
   "metadata": {},
   "outputs": [],
   "source": [
    "plotting.plot_stat_map('./flameo/me/smoothing-0/contrast-failed_stop-go_trial/fe/varcope1.nii.gz', vmax=2)"
   ]
  },
  {
   "cell_type": "code",
   "execution_count": null,
   "metadata": {},
   "outputs": [],
   "source": [
    "plotting.plot_stat_map('./flameo/se/smoothing-0/contrast-failed_stop-go_trial/fe/varcope1.nii.gz', vmax=2)"
   ]
  },
  {
   "cell_type": "code",
   "execution_count": null,
   "metadata": {},
   "outputs": [],
   "source": [
    "me_sigma2 = nib.load('./flameo/me/smoothing-0/contrast-failed_stop-go_trial/fe/varcope1.nii.gz')\n",
    "se_sigma2 = nib.load('./flameo/se/smoothing-0/contrast-failed_stop-go_trial/fe/varcope1.nii.gz')\n",
    "\n",
    "var_ratio = nib.Nifti1Image(me_sigma2.get_data()/se_sigma2.get_data(), me_sigma2.affine)\n",
    "plotting.plot_img(var_ratio, )"
   ]
  },
  {
   "cell_type": "code",
   "execution_count": null,
   "metadata": {},
   "outputs": [],
   "source": [
    "plotting.plot_stat_map('./flameo/se/smoothing-0/contrast-failed_stop-go_trial/flame1/varcope1.nii.gz')"
   ]
  },
  {
   "cell_type": "code",
   "execution_count": null,
   "metadata": {},
   "outputs": [],
   "source": [
    "fe_var = nib.load('./flameo/se/smoothing-0/contrast-failed_stop-go_trial/fe/varcope1.nii.gz')\n",
    "re_var = nib.load('./flameo/se/smoothing-0/contrast-failed_stop-go_trial/flame1/varcope1.nii.gz')\n",
    "\n",
    "inter_ind_var = nib.Nifti1Image(re_var.get_data() - fe_var.get_data(), affine=fe_var.affine)\n",
    "ratio = nib.Nifti1Image(inter_ind_var.get_data()/fe_var.get_data(), affine=fe_var.affine)\n",
    "\n",
    "plotting.plot_stat_map(inter_ind_var)"
   ]
  },
  {
   "cell_type": "code",
   "execution_count": null,
   "metadata": {},
   "outputs": [],
   "source": [
    "plotting.plot_stat_map(ratio, threshold=1, vmax=10)"
   ]
  },
  {
   "cell_type": "markdown",
   "metadata": {},
   "source": [
    "### 5 mm, fixed effects"
   ]
  },
  {
   "cell_type": "code",
   "execution_count": null,
   "metadata": {},
   "outputs": [],
   "source": [
    "runmode = 'fe'\n",
    "smooth = 5\n",
    "zmaps_se_fe_5mm = {contrast: nib.load(nii_templ.format('se', smooth, contrast, runmode))\n",
    "                       for contrast in contrasts}\n",
    "zmaps_me_fe_5mm = {contrast: nib.load(nii_templ.format('me', smooth, contrast, runmode))\n",
    "                       for contrast in contrasts}\n",
    "\n",
    "zmaps_combined = order_maps_thresholds([zmaps_se_fe_5mm, zmaps_me_fe_5mm])\n",
    "_ = plot_3x6(zmaps_combined, \n",
    "             2.6, \n",
    "             contrast_names=('Failed stop - Go', \n",
    "                             'Successful stop - Go',\n",
    "                             'Failed stop - Successful stop')\n",
    "             )"
   ]
  },
  {
   "cell_type": "code",
   "execution_count": null,
   "metadata": {},
   "outputs": [],
   "source": [
    "### 0 mm, flame1"
   ]
  },
  {
   "cell_type": "code",
   "execution_count": null,
   "metadata": {},
   "outputs": [],
   "source": [
    "runmode = 'flame1'\n",
    "smooth = 0\n",
    "zmaps_se_flame1_0mm = {contrast: nib.load(nii_templ.format('se', smooth, contrast, runmode))\n",
    "                       for contrast in contrasts}\n",
    "zmaps_me_flame1_0mm = {contrast: nib.load(nii_templ.format('me', smooth, contrast, runmode))\n",
    "                       for contrast in contrasts}\n",
    "\n",
    "zmaps_combined = order_maps_thresholds([zmaps_se_flame1_5mm, zmaps_me_flame1_5mm])\n",
    "_ = plot_3x6(zmaps_combined, \n",
    "             2.6, \n",
    "             contrast_names=('Failed stop - Go', \n",
    "                             'Successful stop - Go',\n",
    "                             'Failed stop - Successful stop')\n",
    "             )"
   ]
  },
  {
   "cell_type": "markdown",
   "metadata": {},
   "source": [
    "### 0mm, fixed effects"
   ]
  },
  {
   "cell_type": "code",
   "execution_count": null,
   "metadata": {},
   "outputs": [],
   "source": []
  },
  {
   "cell_type": "code",
   "execution_count": null,
   "metadata": {},
   "outputs": [],
   "source": [
    "# make designs"
   ]
  },
  {
   "cell_type": "code",
   "execution_count": null,
   "metadata": {},
   "outputs": [],
   "source": [
    "# design.mat\n",
    "with open('./test_flameo/design.mat', 'w') as f:\n",
    "    f.write(design_str)\n",
    "# print(design_str)"
   ]
  },
  {
   "cell_type": "code",
   "execution_count": null,
   "metadata": {},
   "outputs": [],
   "source": [
    "# contrasts\n",
    "# print(con_str)\n",
    "with open('./test_flameo/design.con', 'w') as f:\n",
    "    f.write(con_str)"
   ]
  },
  {
   "cell_type": "code",
   "execution_count": null,
   "metadata": {},
   "outputs": [],
   "source": [
    "# print(grp_str)\n",
    "with open('./test_flameo/design.grp', 'w') as f:\n",
    "    f.write(grp_str)"
   ]
  },
  {
   "cell_type": "code",
   "execution_count": null,
   "metadata": {},
   "outputs": [],
   "source": []
  },
  {
   "cell_type": "code",
   "execution_count": null,
   "metadata": {},
   "outputs": [],
   "source": [
    "nib.save(copes_4D, './test_flameo/copes4D.nii.gz')\n",
    "nib.save(varcopes_4D, './test_flameo/varcopes4D.nii.gz')"
   ]
  },
  {
   "cell_type": "code",
   "execution_count": null,
   "metadata": {},
   "outputs": [],
   "source": [
    "!ls ./test_flameo/"
   ]
  },
  {
   "cell_type": "code",
   "execution_count": null,
   "metadata": {},
   "outputs": [],
   "source": [
    "# !cp ./data/deriv/fmriprep/sub-01/ses-se/func/sub-01_ses-se_task-stop_run-1_space-MNI152NLin2009cAsym_desc-brain_mask.nii.gz ./test_flameo/"
   ]
  },
  {
   "cell_type": "code",
   "execution_count": null,
   "metadata": {},
   "outputs": [],
   "source": [
    "# cmd\n",
    "flameo --cope=copes4D.nii.gz --mask=sub-01_ses-se_task-stop_run-1_space-MNI152NLin2009cAsym_desc-brain_mask.nii.gz --varcope=varcopes4D.nii.gz --dm=design.mat --tc=design.con --cs=design.grp --runmode=fe --logdir="
   ]
  }
 ],
 "metadata": {
  "kernelspec": {
   "display_name": "Python 3",
   "language": "python",
   "name": "python3"
  },
  "language_info": {
   "codemirror_mode": {
    "name": "ipython",
    "version": 3
   },
   "file_extension": ".py",
   "mimetype": "text/x-python",
   "name": "python",
   "nbconvert_exporter": "python",
   "pygments_lexer": "ipython3",
   "version": "3.6.0"
  }
 },
 "nbformat": 4,
 "nbformat_minor": 2
}
